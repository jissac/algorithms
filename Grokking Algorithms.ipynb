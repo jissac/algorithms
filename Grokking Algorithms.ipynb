{
 "cells": [
  {
   "cell_type": "markdown",
   "metadata": {},
   "source": [
    "## Chapter 1: Binary Search and Big O"
   ]
  },
  {
   "cell_type": "code",
   "execution_count": 18,
   "metadata": {},
   "outputs": [],
   "source": [
    "''' Binary Search: only works for a sorted list. \n",
    "Guess the middle number and eliminate half the remaining numbers every time '''\n",
    "def binary_search(list,item):\n",
    "    low = 0\n",
    "    high = len(list)-1\n",
    "    \n",
    "    while low <= high:\n",
    "        mid = (low + high) / 2\n",
    "        guess = list[mid]\n",
    "        if guess == item:\n",
    "            return guess\n",
    "        elif guess < item:\n",
    "            low = mid + 1\n",
    "        else:\n",
    "            high = mid - 1\n",
    "    return None"
   ]
  },
  {
   "cell_type": "code",
   "execution_count": 23,
   "metadata": {},
   "outputs": [
    {
     "name": "stdout",
     "output_type": "stream",
     "text": [
      "0\n"
     ]
    }
   ],
   "source": [
    "''' Test case'''\n",
    "list = [0,1,2,3,4,5]\n",
    "item = 0\n",
    "print(binary_search(list,item))"
   ]
  },
  {
   "cell_type": "markdown",
   "metadata": {},
   "source": [
    "Logarithms are the flips of exponentials. For example log 8 == 3 because 2^3 = 8. (How many 2's we multiply together to get 8).Big O notation refers to log base 2.       \n",
    "\n",
    "Big O notation tells you how fast an algorithm is - it lets you compare the number of operations (tells you how fast the algorithm grows).         \n",
    "\n",
    "Binary search is O(log n).\n",
    "\n",
    "Visualizing Big O - draw a box of 16 squares on paper. How? Either draw each individually O(n) or fold paper 4 times O(log n)\n",
    "\n",
    "**Common Big O run times:**      \n",
    "O(log n), O(n), O(n * log n), O(n^2), O(n!)"
   ]
  },
  {
   "cell_type": "code",
   "execution_count": null,
   "metadata": {
    "collapsed": true
   },
   "outputs": [],
   "source": []
  }
 ],
 "metadata": {
  "kernelspec": {
   "display_name": "Python 2",
   "language": "python",
   "name": "python2"
  },
  "language_info": {
   "codemirror_mode": {
    "name": "ipython",
    "version": 2
   },
   "file_extension": ".py",
   "mimetype": "text/x-python",
   "name": "python",
   "nbconvert_exporter": "python",
   "pygments_lexer": "ipython2",
   "version": "2.7.12"
  }
 },
 "nbformat": 4,
 "nbformat_minor": 2
}
