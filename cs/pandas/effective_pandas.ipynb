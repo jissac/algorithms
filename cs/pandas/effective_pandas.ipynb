{
 "metadata": {
  "language_info": {
   "codemirror_mode": {
    "name": "ipython",
    "version": 3
   },
   "file_extension": ".py",
   "mimetype": "text/x-python",
   "name": "python",
   "nbconvert_exporter": "python",
   "pygments_lexer": "ipython3",
   "version": "3.8.3-final"
  },
  "orig_nbformat": 2,
  "kernelspec": {
   "name": "python3",
   "display_name": "Python 3"
  }
 },
 "nbformat": 4,
 "nbformat_minor": 2,
 "cells": [
  {
   "cell_type": "markdown",
   "metadata": {},
   "source": [
    "# Effective Pandas\n",
    "https://www.youtube.com/watch?v=UURvPeczxJI"
   ]
  },
  {
   "cell_type": "markdown",
   "metadata": {},
   "source": [
    "### Setup\n"
   ]
  },
  {
   "cell_type": "code",
   "execution_count": 107,
   "metadata": {},
   "outputs": [],
   "source": [
    "%matplotlib inline\n",
    "from IPython.display import display\n",
    "import numpy as np \n",
    "import pandas as pd \n",
    "pd.options.display.min_rows = 20\n",
    "import matplotlib.pyplot as plt\n",
    "import seaborn as sns\n",
    "\n",
    "sns.set_context('talk')\n"
   ]
  },
  {
   "cell_type": "code",
   "execution_count": 4,
   "metadata": {},
   "outputs": [
    {
     "output_type": "execute_result",
     "data": {
      "text/plain": [
       "'1.1.1'"
      ]
     },
     "metadata": {},
     "execution_count": 4
    }
   ],
   "source": [
    "pd.__version__"
   ]
  },
  {
   "cell_type": "markdown",
   "metadata": {},
   "source": [
    "## Load Data"
   ]
  },
  {
   "cell_type": "code",
   "execution_count": 6,
   "metadata": {},
   "outputs": [],
   "source": [
    "autos = pd.read_csv('./data/vehicles.csv.zip')"
   ]
  },
  {
   "cell_type": "code",
   "execution_count": 7,
   "metadata": {},
   "outputs": [
    {
     "output_type": "execute_result",
     "data": {
      "text/plain": [
       "   barrels08  barrelsA08  charge120  charge240  city08  city08U  cityA08  \\\n",
       "0  15.695714         0.0        0.0        0.0      19      0.0        0   \n",
       "1  29.964545         0.0        0.0        0.0       9      0.0        0   \n",
       "2  12.207778         0.0        0.0        0.0      23      0.0        0   \n",
       "3  29.964545         0.0        0.0        0.0      10      0.0        0   \n",
       "4  17.347895         0.0        0.0        0.0      17      0.0        0   \n",
       "\n",
       "   cityA08U  cityCD  cityE  ...  mfrCode  c240Dscr  charge240b  c240bDscr  \\\n",
       "0       0.0     0.0    0.0  ...      NaN       NaN         0.0        NaN   \n",
       "1       0.0     0.0    0.0  ...      NaN       NaN         0.0        NaN   \n",
       "2       0.0     0.0    0.0  ...      NaN       NaN         0.0        NaN   \n",
       "3       0.0     0.0    0.0  ...      NaN       NaN         0.0        NaN   \n",
       "4       0.0     0.0    0.0  ...      NaN       NaN         0.0        NaN   \n",
       "\n",
       "                      createdOn                    modifiedOn  startStop  \\\n",
       "0  Tue Jan 01 00:00:00 EST 2013  Tue Jan 01 00:00:00 EST 2013        NaN   \n",
       "1  Tue Jan 01 00:00:00 EST 2013  Tue Jan 01 00:00:00 EST 2013        NaN   \n",
       "2  Tue Jan 01 00:00:00 EST 2013  Tue Jan 01 00:00:00 EST 2013        NaN   \n",
       "3  Tue Jan 01 00:00:00 EST 2013  Tue Jan 01 00:00:00 EST 2013        NaN   \n",
       "4  Tue Jan 01 00:00:00 EST 2013  Tue Jan 01 00:00:00 EST 2013        NaN   \n",
       "\n",
       "   phevCity  phevHwy  phevComb  \n",
       "0         0        0         0  \n",
       "1         0        0         0  \n",
       "2         0        0         0  \n",
       "3         0        0         0  \n",
       "4         0        0         0  \n",
       "\n",
       "[5 rows x 83 columns]"
      ],
      "text/html": "<div>\n<style scoped>\n    .dataframe tbody tr th:only-of-type {\n        vertical-align: middle;\n    }\n\n    .dataframe tbody tr th {\n        vertical-align: top;\n    }\n\n    .dataframe thead th {\n        text-align: right;\n    }\n</style>\n<table border=\"1\" class=\"dataframe\">\n  <thead>\n    <tr style=\"text-align: right;\">\n      <th></th>\n      <th>barrels08</th>\n      <th>barrelsA08</th>\n      <th>charge120</th>\n      <th>charge240</th>\n      <th>city08</th>\n      <th>city08U</th>\n      <th>cityA08</th>\n      <th>cityA08U</th>\n      <th>cityCD</th>\n      <th>cityE</th>\n      <th>...</th>\n      <th>mfrCode</th>\n      <th>c240Dscr</th>\n      <th>charge240b</th>\n      <th>c240bDscr</th>\n      <th>createdOn</th>\n      <th>modifiedOn</th>\n      <th>startStop</th>\n      <th>phevCity</th>\n      <th>phevHwy</th>\n      <th>phevComb</th>\n    </tr>\n  </thead>\n  <tbody>\n    <tr>\n      <th>0</th>\n      <td>15.695714</td>\n      <td>0.0</td>\n      <td>0.0</td>\n      <td>0.0</td>\n      <td>19</td>\n      <td>0.0</td>\n      <td>0</td>\n      <td>0.0</td>\n      <td>0.0</td>\n      <td>0.0</td>\n      <td>...</td>\n      <td>NaN</td>\n      <td>NaN</td>\n      <td>0.0</td>\n      <td>NaN</td>\n      <td>Tue Jan 01 00:00:00 EST 2013</td>\n      <td>Tue Jan 01 00:00:00 EST 2013</td>\n      <td>NaN</td>\n      <td>0</td>\n      <td>0</td>\n      <td>0</td>\n    </tr>\n    <tr>\n      <th>1</th>\n      <td>29.964545</td>\n      <td>0.0</td>\n      <td>0.0</td>\n      <td>0.0</td>\n      <td>9</td>\n      <td>0.0</td>\n      <td>0</td>\n      <td>0.0</td>\n      <td>0.0</td>\n      <td>0.0</td>\n      <td>...</td>\n      <td>NaN</td>\n      <td>NaN</td>\n      <td>0.0</td>\n      <td>NaN</td>\n      <td>Tue Jan 01 00:00:00 EST 2013</td>\n      <td>Tue Jan 01 00:00:00 EST 2013</td>\n      <td>NaN</td>\n      <td>0</td>\n      <td>0</td>\n      <td>0</td>\n    </tr>\n    <tr>\n      <th>2</th>\n      <td>12.207778</td>\n      <td>0.0</td>\n      <td>0.0</td>\n      <td>0.0</td>\n      <td>23</td>\n      <td>0.0</td>\n      <td>0</td>\n      <td>0.0</td>\n      <td>0.0</td>\n      <td>0.0</td>\n      <td>...</td>\n      <td>NaN</td>\n      <td>NaN</td>\n      <td>0.0</td>\n      <td>NaN</td>\n      <td>Tue Jan 01 00:00:00 EST 2013</td>\n      <td>Tue Jan 01 00:00:00 EST 2013</td>\n      <td>NaN</td>\n      <td>0</td>\n      <td>0</td>\n      <td>0</td>\n    </tr>\n    <tr>\n      <th>3</th>\n      <td>29.964545</td>\n      <td>0.0</td>\n      <td>0.0</td>\n      <td>0.0</td>\n      <td>10</td>\n      <td>0.0</td>\n      <td>0</td>\n      <td>0.0</td>\n      <td>0.0</td>\n      <td>0.0</td>\n      <td>...</td>\n      <td>NaN</td>\n      <td>NaN</td>\n      <td>0.0</td>\n      <td>NaN</td>\n      <td>Tue Jan 01 00:00:00 EST 2013</td>\n      <td>Tue Jan 01 00:00:00 EST 2013</td>\n      <td>NaN</td>\n      <td>0</td>\n      <td>0</td>\n      <td>0</td>\n    </tr>\n    <tr>\n      <th>4</th>\n      <td>17.347895</td>\n      <td>0.0</td>\n      <td>0.0</td>\n      <td>0.0</td>\n      <td>17</td>\n      <td>0.0</td>\n      <td>0</td>\n      <td>0.0</td>\n      <td>0.0</td>\n      <td>0.0</td>\n      <td>...</td>\n      <td>NaN</td>\n      <td>NaN</td>\n      <td>0.0</td>\n      <td>NaN</td>\n      <td>Tue Jan 01 00:00:00 EST 2013</td>\n      <td>Tue Jan 01 00:00:00 EST 2013</td>\n      <td>NaN</td>\n      <td>0</td>\n      <td>0</td>\n      <td>0</td>\n    </tr>\n  </tbody>\n</table>\n<p>5 rows × 83 columns</p>\n</div>"
     },
     "metadata": {},
     "execution_count": 7
    }
   ],
   "source": [
    "autos.head()"
   ]
  },
  {
   "cell_type": "code",
   "execution_count": 8,
   "metadata": {},
   "outputs": [
    {
     "output_type": "execute_result",
     "data": {
      "text/plain": [
       "Index(['barrels08', 'barrelsA08', 'charge120', 'charge240', 'city08',\n",
       "       'city08U', 'cityA08', 'cityA08U', 'cityCD', 'cityE', 'cityUF', 'co2',\n",
       "       'co2A', 'co2TailpipeAGpm', 'co2TailpipeGpm', 'comb08', 'comb08U',\n",
       "       'combA08', 'combA08U', 'combE', 'combinedCD', 'combinedUF', 'cylinders',\n",
       "       'displ', 'drive', 'engId', 'eng_dscr', 'feScore', 'fuelCost08',\n",
       "       'fuelCostA08', 'fuelType', 'fuelType1', 'ghgScore', 'ghgScoreA',\n",
       "       'highway08', 'highway08U', 'highwayA08', 'highwayA08U', 'highwayCD',\n",
       "       'highwayE', 'highwayUF', 'hlv', 'hpv', 'id', 'lv2', 'lv4', 'make',\n",
       "       'model', 'mpgData', 'phevBlended', 'pv2', 'pv4', 'range', 'rangeCity',\n",
       "       'rangeCityA', 'rangeHwy', 'rangeHwyA', 'trany', 'UCity', 'UCityA',\n",
       "       'UHighway', 'UHighwayA', 'VClass', 'year', 'youSaveSpend', 'guzzler',\n",
       "       'trans_dscr', 'tCharger', 'sCharger', 'atvType', 'fuelType2', 'rangeA',\n",
       "       'evMotor', 'mfrCode', 'c240Dscr', 'charge240b', 'c240bDscr',\n",
       "       'createdOn', 'modifiedOn', 'startStop', 'phevCity', 'phevHwy',\n",
       "       'phevComb'],\n",
       "      dtype='object')"
      ]
     },
     "metadata": {},
     "execution_count": 8
    }
   ],
   "source": [
    "autos.columns"
   ]
  },
  {
   "cell_type": "code",
   "execution_count": 9,
   "metadata": {},
   "outputs": [
    {
     "output_type": "execute_result",
     "data": {
      "text/plain": [
       "barrels08     float64\n",
       "barrelsA08    float64\n",
       "charge120     float64\n",
       "charge240     float64\n",
       "city08          int64\n",
       "city08U       float64\n",
       "cityA08         int64\n",
       "cityA08U      float64\n",
       "cityCD        float64\n",
       "cityE         float64\n",
       "               ...   \n",
       "mfrCode        object\n",
       "c240Dscr       object\n",
       "charge240b    float64\n",
       "c240bDscr      object\n",
       "createdOn      object\n",
       "modifiedOn     object\n",
       "startStop      object\n",
       "phevCity        int64\n",
       "phevHwy         int64\n",
       "phevComb        int64\n",
       "Length: 83, dtype: object"
      ]
     },
     "metadata": {},
     "execution_count": 9
    }
   ],
   "source": [
    "autos.dtypes # how did pandas load the data"
   ]
  },
  {
   "cell_type": "code",
   "execution_count": 10,
   "metadata": {},
   "outputs": [
    {
     "output_type": "execute_result",
     "data": {
      "text/plain": [
       "Index             128\n",
       "barrels08      329152\n",
       "barrelsA08     329152\n",
       "charge120      329152\n",
       "charge240      329152\n",
       "city08         329152\n",
       "city08U        329152\n",
       "cityA08        329152\n",
       "cityA08U       329152\n",
       "cityCD         329152\n",
       "               ...   \n",
       "mfrCode       1605736\n",
       "c240Dscr      1319907\n",
       "charge240b     329152\n",
       "c240bDscr     1320061\n",
       "createdOn     3497240\n",
       "modifiedOn    3497240\n",
       "startStop     1562048\n",
       "phevCity       329152\n",
       "phevHwy        329152\n",
       "phevComb       329152\n",
       "Length: 84, dtype: int64"
      ]
     },
     "metadata": {},
     "execution_count": 10
    }
   ],
   "source": [
    "autos.memory_usage(deep=True)"
   ]
  },
  {
   "cell_type": "code",
   "execution_count": 11,
   "metadata": {},
   "outputs": [
    {
     "output_type": "execute_result",
     "data": {
      "text/plain": [
       "68383393"
      ]
     },
     "metadata": {},
     "execution_count": 11
    }
   ],
   "source": [
    "autos.memory_usage(deep=True).sum()"
   ]
  },
  {
   "cell_type": "code",
   "execution_count": 14,
   "metadata": {},
   "outputs": [],
   "source": [
    "# select a subset of the rows\n",
    "cols = ['city08', 'comb08', 'highway08', 'cylinders', 'displ', 'drive', 'eng_dscr','fuelCost08','make','model','trany','range','createdOn','year']"
   ]
  },
  {
   "cell_type": "code",
   "execution_count": 15,
   "metadata": {},
   "outputs": [
    {
     "output_type": "execute_result",
     "data": {
      "text/plain": [
       "city08          int64\n",
       "comb08          int64\n",
       "highway08       int64\n",
       "cylinders     float64\n",
       "displ         float64\n",
       "drive          object\n",
       "eng_dscr       object\n",
       "fuelCost08      int64\n",
       "make           object\n",
       "model          object\n",
       "trany          object\n",
       "range           int64\n",
       "createdOn      object\n",
       "year            int64\n",
       "dtype: object"
      ]
     },
     "metadata": {},
     "execution_count": 15
    }
   ],
   "source": [
    "autos[cols].dtypes"
   ]
  },
  {
   "cell_type": "code",
   "execution_count": 17,
   "metadata": {},
   "outputs": [
    {
     "output_type": "execute_result",
     "data": {
      "text/plain": [
       "19647323"
      ]
     },
     "metadata": {},
     "execution_count": 17
    }
   ],
   "source": [
    "autos[cols].memory_usage(deep=True).sum()\n"
   ]
  },
  {
   "cell_type": "markdown",
   "metadata": {},
   "source": [
    "## Ints"
   ]
  },
  {
   "cell_type": "code",
   "execution_count": 18,
   "metadata": {},
   "outputs": [
    {
     "output_type": "execute_result",
     "data": {
      "text/plain": [
       "             city08        comb08     highway08    fuelCost08         range  \\\n",
       "count  41144.000000  41144.000000  41144.000000  41144.000000  41144.000000   \n",
       "mean      18.369045     20.616396     24.504667   2362.335942      0.793506   \n",
       "std        7.905886      7.674535      7.730364    654.981925     13.041592   \n",
       "min        6.000000      7.000000      9.000000    500.000000      0.000000   \n",
       "25%       15.000000     17.000000     20.000000   1900.000000      0.000000   \n",
       "50%       17.000000     20.000000     24.000000   2350.000000      0.000000   \n",
       "75%       20.000000     23.000000     28.000000   2700.000000      0.000000   \n",
       "max      150.000000    136.000000    124.000000   7400.000000    370.000000   \n",
       "\n",
       "               year  \n",
       "count  41144.000000  \n",
       "mean    2001.535266  \n",
       "std       11.142414  \n",
       "min     1984.000000  \n",
       "25%     1991.000000  \n",
       "50%     2002.000000  \n",
       "75%     2011.000000  \n",
       "max     2020.000000  "
      ],
      "text/html": "<div>\n<style scoped>\n    .dataframe tbody tr th:only-of-type {\n        vertical-align: middle;\n    }\n\n    .dataframe tbody tr th {\n        vertical-align: top;\n    }\n\n    .dataframe thead th {\n        text-align: right;\n    }\n</style>\n<table border=\"1\" class=\"dataframe\">\n  <thead>\n    <tr style=\"text-align: right;\">\n      <th></th>\n      <th>city08</th>\n      <th>comb08</th>\n      <th>highway08</th>\n      <th>fuelCost08</th>\n      <th>range</th>\n      <th>year</th>\n    </tr>\n  </thead>\n  <tbody>\n    <tr>\n      <th>count</th>\n      <td>41144.000000</td>\n      <td>41144.000000</td>\n      <td>41144.000000</td>\n      <td>41144.000000</td>\n      <td>41144.000000</td>\n      <td>41144.000000</td>\n    </tr>\n    <tr>\n      <th>mean</th>\n      <td>18.369045</td>\n      <td>20.616396</td>\n      <td>24.504667</td>\n      <td>2362.335942</td>\n      <td>0.793506</td>\n      <td>2001.535266</td>\n    </tr>\n    <tr>\n      <th>std</th>\n      <td>7.905886</td>\n      <td>7.674535</td>\n      <td>7.730364</td>\n      <td>654.981925</td>\n      <td>13.041592</td>\n      <td>11.142414</td>\n    </tr>\n    <tr>\n      <th>min</th>\n      <td>6.000000</td>\n      <td>7.000000</td>\n      <td>9.000000</td>\n      <td>500.000000</td>\n      <td>0.000000</td>\n      <td>1984.000000</td>\n    </tr>\n    <tr>\n      <th>25%</th>\n      <td>15.000000</td>\n      <td>17.000000</td>\n      <td>20.000000</td>\n      <td>1900.000000</td>\n      <td>0.000000</td>\n      <td>1991.000000</td>\n    </tr>\n    <tr>\n      <th>50%</th>\n      <td>17.000000</td>\n      <td>20.000000</td>\n      <td>24.000000</td>\n      <td>2350.000000</td>\n      <td>0.000000</td>\n      <td>2002.000000</td>\n    </tr>\n    <tr>\n      <th>75%</th>\n      <td>20.000000</td>\n      <td>23.000000</td>\n      <td>28.000000</td>\n      <td>2700.000000</td>\n      <td>0.000000</td>\n      <td>2011.000000</td>\n    </tr>\n    <tr>\n      <th>max</th>\n      <td>150.000000</td>\n      <td>136.000000</td>\n      <td>124.000000</td>\n      <td>7400.000000</td>\n      <td>370.000000</td>\n      <td>2020.000000</td>\n    </tr>\n  </tbody>\n</table>\n</div>"
     },
     "metadata": {},
     "execution_count": 18
    }
   ],
   "source": [
    "autos[cols].select_dtypes(int).describe()"
   ]
  },
  {
   "cell_type": "code",
   "execution_count": 19,
   "metadata": {},
   "outputs": [
    {
     "output_type": "execute_result",
     "data": {
      "text/plain": [
       "             city08        comb08     highway08    fuelCost08         range  \\\n",
       "count  41144.000000  41144.000000  41144.000000  41144.000000  41144.000000   \n",
       "mean      18.369045     20.616396     24.504667   2362.335942      0.793506   \n",
       "std        7.905886      7.674535      7.730364    654.981925     13.041592   \n",
       "min        6.000000      7.000000      9.000000    500.000000      0.000000   \n",
       "25%       15.000000     17.000000     20.000000   1900.000000      0.000000   \n",
       "50%       17.000000     20.000000     24.000000   2350.000000      0.000000   \n",
       "75%       20.000000     23.000000     28.000000   2700.000000      0.000000   \n",
       "max      150.000000    136.000000    124.000000   7400.000000    370.000000   \n",
       "\n",
       "               year  \n",
       "count  41144.000000  \n",
       "mean    2001.535266  \n",
       "std       11.142414  \n",
       "min     1984.000000  \n",
       "25%     1991.000000  \n",
       "50%     2002.000000  \n",
       "75%     2011.000000  \n",
       "max     2020.000000  "
      ],
      "text/html": "<div>\n<style scoped>\n    .dataframe tbody tr th:only-of-type {\n        vertical-align: middle;\n    }\n\n    .dataframe tbody tr th {\n        vertical-align: top;\n    }\n\n    .dataframe thead th {\n        text-align: right;\n    }\n</style>\n<table border=\"1\" class=\"dataframe\">\n  <thead>\n    <tr style=\"text-align: right;\">\n      <th></th>\n      <th>city08</th>\n      <th>comb08</th>\n      <th>highway08</th>\n      <th>fuelCost08</th>\n      <th>range</th>\n      <th>year</th>\n    </tr>\n  </thead>\n  <tbody>\n    <tr>\n      <th>count</th>\n      <td>41144.000000</td>\n      <td>41144.000000</td>\n      <td>41144.000000</td>\n      <td>41144.000000</td>\n      <td>41144.000000</td>\n      <td>41144.000000</td>\n    </tr>\n    <tr>\n      <th>mean</th>\n      <td>18.369045</td>\n      <td>20.616396</td>\n      <td>24.504667</td>\n      <td>2362.335942</td>\n      <td>0.793506</td>\n      <td>2001.535266</td>\n    </tr>\n    <tr>\n      <th>std</th>\n      <td>7.905886</td>\n      <td>7.674535</td>\n      <td>7.730364</td>\n      <td>654.981925</td>\n      <td>13.041592</td>\n      <td>11.142414</td>\n    </tr>\n    <tr>\n      <th>min</th>\n      <td>6.000000</td>\n      <td>7.000000</td>\n      <td>9.000000</td>\n      <td>500.000000</td>\n      <td>0.000000</td>\n      <td>1984.000000</td>\n    </tr>\n    <tr>\n      <th>25%</th>\n      <td>15.000000</td>\n      <td>17.000000</td>\n      <td>20.000000</td>\n      <td>1900.000000</td>\n      <td>0.000000</td>\n      <td>1991.000000</td>\n    </tr>\n    <tr>\n      <th>50%</th>\n      <td>17.000000</td>\n      <td>20.000000</td>\n      <td>24.000000</td>\n      <td>2350.000000</td>\n      <td>0.000000</td>\n      <td>2002.000000</td>\n    </tr>\n    <tr>\n      <th>75%</th>\n      <td>20.000000</td>\n      <td>23.000000</td>\n      <td>28.000000</td>\n      <td>2700.000000</td>\n      <td>0.000000</td>\n      <td>2011.000000</td>\n    </tr>\n    <tr>\n      <th>max</th>\n      <td>150.000000</td>\n      <td>136.000000</td>\n      <td>124.000000</td>\n      <td>7400.000000</td>\n      <td>370.000000</td>\n      <td>2020.000000</td>\n    </tr>\n  </tbody>\n</table>\n</div>"
     },
     "metadata": {},
     "execution_count": 19
    }
   ],
   "source": [
    "# chaining\n",
    "(autos[cols]\n",
    " .select_dtypes(int)\n",
    " .describe()\n",
    " )\n",
    " # count is # of non missing values in pandas"
   ]
  },
  {
   "cell_type": "code",
   "execution_count": 24,
   "metadata": {},
   "outputs": [
    {
     "output_type": "display_data",
     "data": {
      "text/plain": "iinfo(min=-128, max=127, dtype=int8)"
     },
     "metadata": {}
    },
    {
     "output_type": "display_data",
     "data": {
      "text/plain": "iinfo(min=-32768, max=32767, dtype=int16)"
     },
     "metadata": {}
    }
   ],
   "source": [
    "# can comb08 be int8 instead of int64\n",
    "display(np.iinfo(np.int8))\n",
    "display(np.iinfo(np.int16))"
   ]
  },
  {
   "cell_type": "code",
   "execution_count": 26,
   "metadata": {},
   "outputs": [
    {
     "output_type": "execute_result",
     "data": {
      "text/plain": [
       "          highway08    fuelCost08         range          year\n",
       "count  41144.000000  41144.000000  41144.000000  41144.000000\n",
       "mean      24.504667   2362.335942      0.793506   2001.535266\n",
       "std        7.730364    654.981925     13.041592     11.142414\n",
       "min        9.000000    500.000000      0.000000   1984.000000\n",
       "25%       20.000000   1900.000000      0.000000   1991.000000\n",
       "50%       24.000000   2350.000000      0.000000   2002.000000\n",
       "75%       28.000000   2700.000000      0.000000   2011.000000\n",
       "max      124.000000   7400.000000    370.000000   2020.000000"
      ],
      "text/html": "<div>\n<style scoped>\n    .dataframe tbody tr th:only-of-type {\n        vertical-align: middle;\n    }\n\n    .dataframe tbody tr th {\n        vertical-align: top;\n    }\n\n    .dataframe thead th {\n        text-align: right;\n    }\n</style>\n<table border=\"1\" class=\"dataframe\">\n  <thead>\n    <tr style=\"text-align: right;\">\n      <th></th>\n      <th>highway08</th>\n      <th>fuelCost08</th>\n      <th>range</th>\n      <th>year</th>\n    </tr>\n  </thead>\n  <tbody>\n    <tr>\n      <th>count</th>\n      <td>41144.000000</td>\n      <td>41144.000000</td>\n      <td>41144.000000</td>\n      <td>41144.000000</td>\n    </tr>\n    <tr>\n      <th>mean</th>\n      <td>24.504667</td>\n      <td>2362.335942</td>\n      <td>0.793506</td>\n      <td>2001.535266</td>\n    </tr>\n    <tr>\n      <th>std</th>\n      <td>7.730364</td>\n      <td>654.981925</td>\n      <td>13.041592</td>\n      <td>11.142414</td>\n    </tr>\n    <tr>\n      <th>min</th>\n      <td>9.000000</td>\n      <td>500.000000</td>\n      <td>0.000000</td>\n      <td>1984.000000</td>\n    </tr>\n    <tr>\n      <th>25%</th>\n      <td>20.000000</td>\n      <td>1900.000000</td>\n      <td>0.000000</td>\n      <td>1991.000000</td>\n    </tr>\n    <tr>\n      <th>50%</th>\n      <td>24.000000</td>\n      <td>2350.000000</td>\n      <td>0.000000</td>\n      <td>2002.000000</td>\n    </tr>\n    <tr>\n      <th>75%</th>\n      <td>28.000000</td>\n      <td>2700.000000</td>\n      <td>0.000000</td>\n      <td>2011.000000</td>\n    </tr>\n    <tr>\n      <th>max</th>\n      <td>124.000000</td>\n      <td>7400.000000</td>\n      <td>370.000000</td>\n      <td>2020.000000</td>\n    </tr>\n  </tbody>\n</table>\n</div>"
     },
     "metadata": {},
     "execution_count": 26
    }
   ],
   "source": [
    "# chaining\n",
    "(autos[cols]\n",
    " .astype({'highway08': 'int8', 'city08': 'int16', 'comb08': 'int16'})\n",
    " .select_dtypes([int, 'int8'])\n",
    " .describe()\n",
    ")"
   ]
  },
  {
   "cell_type": "code",
   "execution_count": 28,
   "metadata": {},
   "outputs": [
    {
     "output_type": "execute_result",
     "data": {
      "text/plain": [
       "             city08        comb08     highway08    fuelCost08         range  \\\n",
       "count  41144.000000  41144.000000  41144.000000  41144.000000  41144.000000   \n",
       "mean      18.369045     20.616396     24.504667   2362.335942      0.793506   \n",
       "std        7.905886      7.674535      7.730364    654.981925     13.041592   \n",
       "min        6.000000      7.000000      9.000000    500.000000      0.000000   \n",
       "25%       15.000000     17.000000     20.000000   1900.000000      0.000000   \n",
       "50%       17.000000     20.000000     24.000000   2350.000000      0.000000   \n",
       "75%       20.000000     23.000000     28.000000   2700.000000      0.000000   \n",
       "max      150.000000    136.000000    124.000000   7400.000000    370.000000   \n",
       "\n",
       "               year  \n",
       "count  41144.000000  \n",
       "mean    2001.535266  \n",
       "std       11.142414  \n",
       "min     1984.000000  \n",
       "25%     1991.000000  \n",
       "50%     2002.000000  \n",
       "75%     2011.000000  \n",
       "max     2020.000000  "
      ],
      "text/html": "<div>\n<style scoped>\n    .dataframe tbody tr th:only-of-type {\n        vertical-align: middle;\n    }\n\n    .dataframe tbody tr th {\n        vertical-align: top;\n    }\n\n    .dataframe thead th {\n        text-align: right;\n    }\n</style>\n<table border=\"1\" class=\"dataframe\">\n  <thead>\n    <tr style=\"text-align: right;\">\n      <th></th>\n      <th>city08</th>\n      <th>comb08</th>\n      <th>highway08</th>\n      <th>fuelCost08</th>\n      <th>range</th>\n      <th>year</th>\n    </tr>\n  </thead>\n  <tbody>\n    <tr>\n      <th>count</th>\n      <td>41144.000000</td>\n      <td>41144.000000</td>\n      <td>41144.000000</td>\n      <td>41144.000000</td>\n      <td>41144.000000</td>\n      <td>41144.000000</td>\n    </tr>\n    <tr>\n      <th>mean</th>\n      <td>18.369045</td>\n      <td>20.616396</td>\n      <td>24.504667</td>\n      <td>2362.335942</td>\n      <td>0.793506</td>\n      <td>2001.535266</td>\n    </tr>\n    <tr>\n      <th>std</th>\n      <td>7.905886</td>\n      <td>7.674535</td>\n      <td>7.730364</td>\n      <td>654.981925</td>\n      <td>13.041592</td>\n      <td>11.142414</td>\n    </tr>\n    <tr>\n      <th>min</th>\n      <td>6.000000</td>\n      <td>7.000000</td>\n      <td>9.000000</td>\n      <td>500.000000</td>\n      <td>0.000000</td>\n      <td>1984.000000</td>\n    </tr>\n    <tr>\n      <th>25%</th>\n      <td>15.000000</td>\n      <td>17.000000</td>\n      <td>20.000000</td>\n      <td>1900.000000</td>\n      <td>0.000000</td>\n      <td>1991.000000</td>\n    </tr>\n    <tr>\n      <th>50%</th>\n      <td>17.000000</td>\n      <td>20.000000</td>\n      <td>24.000000</td>\n      <td>2350.000000</td>\n      <td>0.000000</td>\n      <td>2002.000000</td>\n    </tr>\n    <tr>\n      <th>75%</th>\n      <td>20.000000</td>\n      <td>23.000000</td>\n      <td>28.000000</td>\n      <td>2700.000000</td>\n      <td>0.000000</td>\n      <td>2011.000000</td>\n    </tr>\n    <tr>\n      <th>max</th>\n      <td>150.000000</td>\n      <td>136.000000</td>\n      <td>124.000000</td>\n      <td>7400.000000</td>\n      <td>370.000000</td>\n      <td>2020.000000</td>\n    </tr>\n  </tbody>\n</table>\n</div>"
     },
     "metadata": {},
     "execution_count": 28
    }
   ],
   "source": [
    "# chaining\n",
    "# use 'integer so see all int-like columns\n",
    "(autos[cols]\n",
    " .astype({'highway08': 'int8', 'city08': 'int16', 'comb08': 'int16'})\n",
    " .select_dtypes(['integer'])\n",
    " .describe()\n",
    ")"
   ]
  },
  {
   "cell_type": "code",
   "execution_count": 30,
   "metadata": {},
   "outputs": [
    {
     "output_type": "execute_result",
     "data": {
      "text/plain": [
       "18865587"
      ]
     },
     "metadata": {},
     "execution_count": 30
    }
   ],
   "source": [
    "# use 'integer so see all int-like columns\n",
    "(autos[cols]\n",
    " .astype({'highway08': 'int8', 'city08': 'int16', 'comb08': 'int16'})\n",
    " .memory_usage(deep=True)\n",
    " .sum()\n",
    ") # was 19,647,323, saved around 1MB"
   ]
  },
  {
   "cell_type": "markdown",
   "metadata": {},
   "source": [
    "## Floats"
   ]
  },
  {
   "cell_type": "code",
   "execution_count": 31,
   "metadata": {},
   "outputs": [
    {
     "output_type": "execute_result",
     "data": {
      "text/plain": [
       "       cylinders  displ\n",
       "0            4.0    2.0\n",
       "1           12.0    4.9\n",
       "2            4.0    2.2\n",
       "3            8.0    5.2\n",
       "4            4.0    2.2\n",
       "5            4.0    1.8\n",
       "6            4.0    1.8\n",
       "7            4.0    1.6\n",
       "8            4.0    1.6\n",
       "9            4.0    1.8\n",
       "...          ...    ...\n",
       "41134        4.0    2.1\n",
       "41135        4.0    1.9\n",
       "41136        4.0    1.9\n",
       "41137        4.0    1.9\n",
       "41138        4.0    1.9\n",
       "41139        4.0    2.2\n",
       "41140        4.0    2.2\n",
       "41141        4.0    2.2\n",
       "41142        4.0    2.2\n",
       "41143        4.0    2.2\n",
       "\n",
       "[41144 rows x 2 columns]"
      ],
      "text/html": "<div>\n<style scoped>\n    .dataframe tbody tr th:only-of-type {\n        vertical-align: middle;\n    }\n\n    .dataframe tbody tr th {\n        vertical-align: top;\n    }\n\n    .dataframe thead th {\n        text-align: right;\n    }\n</style>\n<table border=\"1\" class=\"dataframe\">\n  <thead>\n    <tr style=\"text-align: right;\">\n      <th></th>\n      <th>cylinders</th>\n      <th>displ</th>\n    </tr>\n  </thead>\n  <tbody>\n    <tr>\n      <th>0</th>\n      <td>4.0</td>\n      <td>2.0</td>\n    </tr>\n    <tr>\n      <th>1</th>\n      <td>12.0</td>\n      <td>4.9</td>\n    </tr>\n    <tr>\n      <th>2</th>\n      <td>4.0</td>\n      <td>2.2</td>\n    </tr>\n    <tr>\n      <th>3</th>\n      <td>8.0</td>\n      <td>5.2</td>\n    </tr>\n    <tr>\n      <th>4</th>\n      <td>4.0</td>\n      <td>2.2</td>\n    </tr>\n    <tr>\n      <th>5</th>\n      <td>4.0</td>\n      <td>1.8</td>\n    </tr>\n    <tr>\n      <th>6</th>\n      <td>4.0</td>\n      <td>1.8</td>\n    </tr>\n    <tr>\n      <th>7</th>\n      <td>4.0</td>\n      <td>1.6</td>\n    </tr>\n    <tr>\n      <th>8</th>\n      <td>4.0</td>\n      <td>1.6</td>\n    </tr>\n    <tr>\n      <th>9</th>\n      <td>4.0</td>\n      <td>1.8</td>\n    </tr>\n    <tr>\n      <th>...</th>\n      <td>...</td>\n      <td>...</td>\n    </tr>\n    <tr>\n      <th>41134</th>\n      <td>4.0</td>\n      <td>2.1</td>\n    </tr>\n    <tr>\n      <th>41135</th>\n      <td>4.0</td>\n      <td>1.9</td>\n    </tr>\n    <tr>\n      <th>41136</th>\n      <td>4.0</td>\n      <td>1.9</td>\n    </tr>\n    <tr>\n      <th>41137</th>\n      <td>4.0</td>\n      <td>1.9</td>\n    </tr>\n    <tr>\n      <th>41138</th>\n      <td>4.0</td>\n      <td>1.9</td>\n    </tr>\n    <tr>\n      <th>41139</th>\n      <td>4.0</td>\n      <td>2.2</td>\n    </tr>\n    <tr>\n      <th>41140</th>\n      <td>4.0</td>\n      <td>2.2</td>\n    </tr>\n    <tr>\n      <th>41141</th>\n      <td>4.0</td>\n      <td>2.2</td>\n    </tr>\n    <tr>\n      <th>41142</th>\n      <td>4.0</td>\n      <td>2.2</td>\n    </tr>\n    <tr>\n      <th>41143</th>\n      <td>4.0</td>\n      <td>2.2</td>\n    </tr>\n  </tbody>\n</table>\n<p>41144 rows × 2 columns</p>\n</div>"
     },
     "metadata": {},
     "execution_count": 31
    }
   ],
   "source": [
    "(\n",
    "    autos[cols]\n",
    "    .select_dtypes('float')\n",
    ")"
   ]
  },
  {
   "cell_type": "code",
   "execution_count": 32,
   "metadata": {},
   "outputs": [
    {
     "output_type": "execute_result",
     "data": {
      "text/plain": [
       "count    40938.000000\n",
       "mean         5.717084\n",
       "std          1.755517\n",
       "min          2.000000\n",
       "25%          4.000000\n",
       "50%          6.000000\n",
       "75%          6.000000\n",
       "max         16.000000\n",
       "Name: cylinders, dtype: float64"
      ]
     },
     "metadata": {},
     "execution_count": 32
    }
   ],
   "source": [
    "autos.cylinders.describe()"
   ]
  },
  {
   "cell_type": "code",
   "execution_count": 33,
   "metadata": {},
   "outputs": [
    {
     "output_type": "execute_result",
     "data": {
      "text/plain": [
       "4.0     15938\n",
       "6.0     14284\n",
       "8.0      8801\n",
       "5.0       771\n",
       "12.0      626\n",
       "3.0       279\n",
       "NaN       206\n",
       "10.0      170\n",
       "2.0        59\n",
       "16.0       10\n",
       "Name: cylinders, dtype: int64"
      ]
     },
     "metadata": {},
     "execution_count": 33
    }
   ],
   "source": [
    "# missing values\n",
    "autos.cylinders.value_counts(dropna=False)"
   ]
  },
  {
   "cell_type": "code",
   "execution_count": 34,
   "metadata": {},
   "outputs": [
    {
     "output_type": "execute_result",
     "data": {
      "text/plain": [
       "       city08  comb08  highway08  cylinders  displ              drive  \\\n",
       "7138       81      85         91        NaN    NaN                NaN   \n",
       "7139       81      72         64        NaN    NaN      2-Wheel Drive   \n",
       "8143       81      72         64        NaN    NaN      2-Wheel Drive   \n",
       "8144       74      65         58        NaN    NaN                NaN   \n",
       "8146       45      39         33        NaN    NaN      2-Wheel Drive   \n",
       "8147       84      75         66        NaN    NaN                NaN   \n",
       "9212       87      78         69        NaN    NaN      2-Wheel Drive   \n",
       "9213       45      39         33        NaN    NaN      2-Wheel Drive   \n",
       "10329      87      78         69        NaN    NaN      2-Wheel Drive   \n",
       "21413      22      24         28        NaN    NaN      4-Wheel Drive   \n",
       "...       ...     ...        ...        ...    ...                ...   \n",
       "34407      73      72         71        NaN    NaN  Front-Wheel Drive   \n",
       "34408     118     108         97        NaN    NaN  Front-Wheel Drive   \n",
       "34409     114     104         94        NaN    NaN  Front-Wheel Drive   \n",
       "34538      74      74         73        NaN    NaN    All-Wheel Drive   \n",
       "34561      80      76         72        NaN    NaN      4-Wheel Drive   \n",
       "34563     138     131        124        NaN    NaN   Rear-Wheel Drive   \n",
       "34564     140     133        124        NaN    NaN   Rear-Wheel Drive   \n",
       "34565     115     111        107        NaN    NaN    All-Wheel Drive   \n",
       "34566     104     104        104        NaN    NaN    All-Wheel Drive   \n",
       "34567      98      97         96        NaN    NaN    All-Wheel Drive   \n",
       "\n",
       "      eng_dscr  fuelCost08    make                               model  \\\n",
       "7138       NaN         800  Nissan                            Altra EV   \n",
       "7139       NaN         900  Toyota                             RAV4 EV   \n",
       "8143       NaN         900  Toyota                             RAV4 EV   \n",
       "8144       NaN        1000    Ford                               Th!nk   \n",
       "8146       NaN        1700    Ford              Explorer USPS Electric   \n",
       "8147       NaN         900  Nissan                          Hyper-Mini   \n",
       "9212       NaN         850  Toyota                             RAV4 EV   \n",
       "9213       NaN        1700    Ford              Explorer USPS Electric   \n",
       "10329      NaN         850  Toyota                             RAV4 EV   \n",
       "21413      NaN        1750  Subaru                            RX Turbo   \n",
       "...        ...         ...     ...                                 ...   \n",
       "34407      NaN         900     BYD                                  e6   \n",
       "34408      NaN         600  Nissan        Leaf (62 kW-hr battery pack)   \n",
       "34409      NaN         650  Nissan  Leaf SV/SL (62 kW-hr battery pack)   \n",
       "34538      NaN         900    Audi                              e-tron   \n",
       "34561      NaN         850  Jaguar                              I-Pace   \n",
       "34563      NaN         500   Tesla              Model 3 Standard Range   \n",
       "34564      NaN         500   Tesla         Model 3 Standard Range Plus   \n",
       "34565      NaN         600   Tesla                  Model S Long Range   \n",
       "34566      NaN         650   Tesla    Model S Performance (19\" Wheels)   \n",
       "34567      NaN         700   Tesla    Model S Performance (21\" Wheels)   \n",
       "\n",
       "                trany  range                     createdOn  year  \n",
       "7138              NaN     90  Tue Jan 01 00:00:00 EST 2013  2000  \n",
       "7139              NaN     88  Tue Jan 01 00:00:00 EST 2013  2000  \n",
       "8143              NaN     88  Tue Jan 01 00:00:00 EST 2013  2001  \n",
       "8144              NaN     29  Tue Jan 01 00:00:00 EST 2013  2001  \n",
       "8146              NaN     38  Tue Jan 01 00:00:00 EST 2013  2001  \n",
       "8147              NaN     33  Tue Jan 01 00:00:00 EST 2013  2001  \n",
       "9212              NaN     95  Tue Jan 01 00:00:00 EST 2013  2002  \n",
       "9213              NaN     38  Tue Jan 01 00:00:00 EST 2013  2002  \n",
       "10329             NaN     95  Tue Jan 01 00:00:00 EST 2013  2003  \n",
       "21413    Manual 5-spd      0  Tue Jan 01 00:00:00 EST 2013  1985  \n",
       "...               ...    ...                           ...   ...  \n",
       "34407  Automatic (A1)    187  Wed Mar 13 00:00:00 EDT 2019  2019  \n",
       "34408  Automatic (A1)    226  Wed Mar 13 00:00:00 EDT 2019  2019  \n",
       "34409  Automatic (A1)    215  Wed Mar 13 00:00:00 EDT 2019  2019  \n",
       "34538  Automatic (A1)    204  Tue Apr 16 00:00:00 EDT 2019  2019  \n",
       "34561  Automatic (A1)    234  Thu May 02 00:00:00 EDT 2019  2020  \n",
       "34563  Automatic (A1)    220  Thu May 02 00:00:00 EDT 2019  2019  \n",
       "34564  Automatic (A1)    240  Thu May 02 00:00:00 EDT 2019  2019  \n",
       "34565  Automatic (A1)    370  Thu May 02 00:00:00 EDT 2019  2019  \n",
       "34566  Automatic (A1)    345  Thu May 02 00:00:00 EDT 2019  2019  \n",
       "34567  Automatic (A1)    325  Thu May 02 00:00:00 EDT 2019  2019  \n",
       "\n",
       "[206 rows x 14 columns]"
      ],
      "text/html": "<div>\n<style scoped>\n    .dataframe tbody tr th:only-of-type {\n        vertical-align: middle;\n    }\n\n    .dataframe tbody tr th {\n        vertical-align: top;\n    }\n\n    .dataframe thead th {\n        text-align: right;\n    }\n</style>\n<table border=\"1\" class=\"dataframe\">\n  <thead>\n    <tr style=\"text-align: right;\">\n      <th></th>\n      <th>city08</th>\n      <th>comb08</th>\n      <th>highway08</th>\n      <th>cylinders</th>\n      <th>displ</th>\n      <th>drive</th>\n      <th>eng_dscr</th>\n      <th>fuelCost08</th>\n      <th>make</th>\n      <th>model</th>\n      <th>trany</th>\n      <th>range</th>\n      <th>createdOn</th>\n      <th>year</th>\n    </tr>\n  </thead>\n  <tbody>\n    <tr>\n      <th>7138</th>\n      <td>81</td>\n      <td>85</td>\n      <td>91</td>\n      <td>NaN</td>\n      <td>NaN</td>\n      <td>NaN</td>\n      <td>NaN</td>\n      <td>800</td>\n      <td>Nissan</td>\n      <td>Altra EV</td>\n      <td>NaN</td>\n      <td>90</td>\n      <td>Tue Jan 01 00:00:00 EST 2013</td>\n      <td>2000</td>\n    </tr>\n    <tr>\n      <th>7139</th>\n      <td>81</td>\n      <td>72</td>\n      <td>64</td>\n      <td>NaN</td>\n      <td>NaN</td>\n      <td>2-Wheel Drive</td>\n      <td>NaN</td>\n      <td>900</td>\n      <td>Toyota</td>\n      <td>RAV4 EV</td>\n      <td>NaN</td>\n      <td>88</td>\n      <td>Tue Jan 01 00:00:00 EST 2013</td>\n      <td>2000</td>\n    </tr>\n    <tr>\n      <th>8143</th>\n      <td>81</td>\n      <td>72</td>\n      <td>64</td>\n      <td>NaN</td>\n      <td>NaN</td>\n      <td>2-Wheel Drive</td>\n      <td>NaN</td>\n      <td>900</td>\n      <td>Toyota</td>\n      <td>RAV4 EV</td>\n      <td>NaN</td>\n      <td>88</td>\n      <td>Tue Jan 01 00:00:00 EST 2013</td>\n      <td>2001</td>\n    </tr>\n    <tr>\n      <th>8144</th>\n      <td>74</td>\n      <td>65</td>\n      <td>58</td>\n      <td>NaN</td>\n      <td>NaN</td>\n      <td>NaN</td>\n      <td>NaN</td>\n      <td>1000</td>\n      <td>Ford</td>\n      <td>Th!nk</td>\n      <td>NaN</td>\n      <td>29</td>\n      <td>Tue Jan 01 00:00:00 EST 2013</td>\n      <td>2001</td>\n    </tr>\n    <tr>\n      <th>8146</th>\n      <td>45</td>\n      <td>39</td>\n      <td>33</td>\n      <td>NaN</td>\n      <td>NaN</td>\n      <td>2-Wheel Drive</td>\n      <td>NaN</td>\n      <td>1700</td>\n      <td>Ford</td>\n      <td>Explorer USPS Electric</td>\n      <td>NaN</td>\n      <td>38</td>\n      <td>Tue Jan 01 00:00:00 EST 2013</td>\n      <td>2001</td>\n    </tr>\n    <tr>\n      <th>8147</th>\n      <td>84</td>\n      <td>75</td>\n      <td>66</td>\n      <td>NaN</td>\n      <td>NaN</td>\n      <td>NaN</td>\n      <td>NaN</td>\n      <td>900</td>\n      <td>Nissan</td>\n      <td>Hyper-Mini</td>\n      <td>NaN</td>\n      <td>33</td>\n      <td>Tue Jan 01 00:00:00 EST 2013</td>\n      <td>2001</td>\n    </tr>\n    <tr>\n      <th>9212</th>\n      <td>87</td>\n      <td>78</td>\n      <td>69</td>\n      <td>NaN</td>\n      <td>NaN</td>\n      <td>2-Wheel Drive</td>\n      <td>NaN</td>\n      <td>850</td>\n      <td>Toyota</td>\n      <td>RAV4 EV</td>\n      <td>NaN</td>\n      <td>95</td>\n      <td>Tue Jan 01 00:00:00 EST 2013</td>\n      <td>2002</td>\n    </tr>\n    <tr>\n      <th>9213</th>\n      <td>45</td>\n      <td>39</td>\n      <td>33</td>\n      <td>NaN</td>\n      <td>NaN</td>\n      <td>2-Wheel Drive</td>\n      <td>NaN</td>\n      <td>1700</td>\n      <td>Ford</td>\n      <td>Explorer USPS Electric</td>\n      <td>NaN</td>\n      <td>38</td>\n      <td>Tue Jan 01 00:00:00 EST 2013</td>\n      <td>2002</td>\n    </tr>\n    <tr>\n      <th>10329</th>\n      <td>87</td>\n      <td>78</td>\n      <td>69</td>\n      <td>NaN</td>\n      <td>NaN</td>\n      <td>2-Wheel Drive</td>\n      <td>NaN</td>\n      <td>850</td>\n      <td>Toyota</td>\n      <td>RAV4 EV</td>\n      <td>NaN</td>\n      <td>95</td>\n      <td>Tue Jan 01 00:00:00 EST 2013</td>\n      <td>2003</td>\n    </tr>\n    <tr>\n      <th>21413</th>\n      <td>22</td>\n      <td>24</td>\n      <td>28</td>\n      <td>NaN</td>\n      <td>NaN</td>\n      <td>4-Wheel Drive</td>\n      <td>NaN</td>\n      <td>1750</td>\n      <td>Subaru</td>\n      <td>RX Turbo</td>\n      <td>Manual 5-spd</td>\n      <td>0</td>\n      <td>Tue Jan 01 00:00:00 EST 2013</td>\n      <td>1985</td>\n    </tr>\n    <tr>\n      <th>...</th>\n      <td>...</td>\n      <td>...</td>\n      <td>...</td>\n      <td>...</td>\n      <td>...</td>\n      <td>...</td>\n      <td>...</td>\n      <td>...</td>\n      <td>...</td>\n      <td>...</td>\n      <td>...</td>\n      <td>...</td>\n      <td>...</td>\n      <td>...</td>\n    </tr>\n    <tr>\n      <th>34407</th>\n      <td>73</td>\n      <td>72</td>\n      <td>71</td>\n      <td>NaN</td>\n      <td>NaN</td>\n      <td>Front-Wheel Drive</td>\n      <td>NaN</td>\n      <td>900</td>\n      <td>BYD</td>\n      <td>e6</td>\n      <td>Automatic (A1)</td>\n      <td>187</td>\n      <td>Wed Mar 13 00:00:00 EDT 2019</td>\n      <td>2019</td>\n    </tr>\n    <tr>\n      <th>34408</th>\n      <td>118</td>\n      <td>108</td>\n      <td>97</td>\n      <td>NaN</td>\n      <td>NaN</td>\n      <td>Front-Wheel Drive</td>\n      <td>NaN</td>\n      <td>600</td>\n      <td>Nissan</td>\n      <td>Leaf (62 kW-hr battery pack)</td>\n      <td>Automatic (A1)</td>\n      <td>226</td>\n      <td>Wed Mar 13 00:00:00 EDT 2019</td>\n      <td>2019</td>\n    </tr>\n    <tr>\n      <th>34409</th>\n      <td>114</td>\n      <td>104</td>\n      <td>94</td>\n      <td>NaN</td>\n      <td>NaN</td>\n      <td>Front-Wheel Drive</td>\n      <td>NaN</td>\n      <td>650</td>\n      <td>Nissan</td>\n      <td>Leaf SV/SL (62 kW-hr battery pack)</td>\n      <td>Automatic (A1)</td>\n      <td>215</td>\n      <td>Wed Mar 13 00:00:00 EDT 2019</td>\n      <td>2019</td>\n    </tr>\n    <tr>\n      <th>34538</th>\n      <td>74</td>\n      <td>74</td>\n      <td>73</td>\n      <td>NaN</td>\n      <td>NaN</td>\n      <td>All-Wheel Drive</td>\n      <td>NaN</td>\n      <td>900</td>\n      <td>Audi</td>\n      <td>e-tron</td>\n      <td>Automatic (A1)</td>\n      <td>204</td>\n      <td>Tue Apr 16 00:00:00 EDT 2019</td>\n      <td>2019</td>\n    </tr>\n    <tr>\n      <th>34561</th>\n      <td>80</td>\n      <td>76</td>\n      <td>72</td>\n      <td>NaN</td>\n      <td>NaN</td>\n      <td>4-Wheel Drive</td>\n      <td>NaN</td>\n      <td>850</td>\n      <td>Jaguar</td>\n      <td>I-Pace</td>\n      <td>Automatic (A1)</td>\n      <td>234</td>\n      <td>Thu May 02 00:00:00 EDT 2019</td>\n      <td>2020</td>\n    </tr>\n    <tr>\n      <th>34563</th>\n      <td>138</td>\n      <td>131</td>\n      <td>124</td>\n      <td>NaN</td>\n      <td>NaN</td>\n      <td>Rear-Wheel Drive</td>\n      <td>NaN</td>\n      <td>500</td>\n      <td>Tesla</td>\n      <td>Model 3 Standard Range</td>\n      <td>Automatic (A1)</td>\n      <td>220</td>\n      <td>Thu May 02 00:00:00 EDT 2019</td>\n      <td>2019</td>\n    </tr>\n    <tr>\n      <th>34564</th>\n      <td>140</td>\n      <td>133</td>\n      <td>124</td>\n      <td>NaN</td>\n      <td>NaN</td>\n      <td>Rear-Wheel Drive</td>\n      <td>NaN</td>\n      <td>500</td>\n      <td>Tesla</td>\n      <td>Model 3 Standard Range Plus</td>\n      <td>Automatic (A1)</td>\n      <td>240</td>\n      <td>Thu May 02 00:00:00 EDT 2019</td>\n      <td>2019</td>\n    </tr>\n    <tr>\n      <th>34565</th>\n      <td>115</td>\n      <td>111</td>\n      <td>107</td>\n      <td>NaN</td>\n      <td>NaN</td>\n      <td>All-Wheel Drive</td>\n      <td>NaN</td>\n      <td>600</td>\n      <td>Tesla</td>\n      <td>Model S Long Range</td>\n      <td>Automatic (A1)</td>\n      <td>370</td>\n      <td>Thu May 02 00:00:00 EDT 2019</td>\n      <td>2019</td>\n    </tr>\n    <tr>\n      <th>34566</th>\n      <td>104</td>\n      <td>104</td>\n      <td>104</td>\n      <td>NaN</td>\n      <td>NaN</td>\n      <td>All-Wheel Drive</td>\n      <td>NaN</td>\n      <td>650</td>\n      <td>Tesla</td>\n      <td>Model S Performance (19\" Wheels)</td>\n      <td>Automatic (A1)</td>\n      <td>345</td>\n      <td>Thu May 02 00:00:00 EDT 2019</td>\n      <td>2019</td>\n    </tr>\n    <tr>\n      <th>34567</th>\n      <td>98</td>\n      <td>97</td>\n      <td>96</td>\n      <td>NaN</td>\n      <td>NaN</td>\n      <td>All-Wheel Drive</td>\n      <td>NaN</td>\n      <td>700</td>\n      <td>Tesla</td>\n      <td>Model S Performance (21\" Wheels)</td>\n      <td>Automatic (A1)</td>\n      <td>325</td>\n      <td>Thu May 02 00:00:00 EDT 2019</td>\n      <td>2019</td>\n    </tr>\n  </tbody>\n</table>\n<p>206 rows × 14 columns</p>\n</div>"
     },
     "metadata": {},
     "execution_count": 34
    }
   ],
   "source": [
    "(\n",
    "    autos[cols]\n",
    "    .query('cylinders.isna()')\n",
    ")"
   ]
  },
  {
   "cell_type": "code",
   "execution_count": 37,
   "metadata": {},
   "outputs": [
    {
     "output_type": "execute_result",
     "data": {
      "text/plain": [
       "             city08        comb08     highway08     cylinders         displ  \\\n",
       "count  41144.000000  41144.000000  41144.000000  41144.000000  41144.000000   \n",
       "mean      18.369045     20.616396     24.504667      5.688460      3.277904   \n",
       "std        7.905886      7.674535      7.730364      1.797009      1.373415   \n",
       "min        6.000000      7.000000      9.000000      0.000000      0.000000   \n",
       "25%       15.000000     17.000000     20.000000      4.000000      2.200000   \n",
       "50%       17.000000     20.000000     24.000000      6.000000      3.000000   \n",
       "75%       20.000000     23.000000     28.000000      6.000000      4.300000   \n",
       "max      150.000000    136.000000    124.000000     16.000000      8.400000   \n",
       "\n",
       "         fuelCost08         range          year  \n",
       "count  41144.000000  41144.000000  41144.000000  \n",
       "mean    2362.335942      0.793506   2001.535266  \n",
       "std      654.981925     13.041592     11.142414  \n",
       "min      500.000000      0.000000   1984.000000  \n",
       "25%     1900.000000      0.000000   1991.000000  \n",
       "50%     2350.000000      0.000000   2002.000000  \n",
       "75%     2700.000000      0.000000   2011.000000  \n",
       "max     7400.000000    370.000000   2020.000000  "
      ],
      "text/html": "<div>\n<style scoped>\n    .dataframe tbody tr th:only-of-type {\n        vertical-align: middle;\n    }\n\n    .dataframe tbody tr th {\n        vertical-align: top;\n    }\n\n    .dataframe thead th {\n        text-align: right;\n    }\n</style>\n<table border=\"1\" class=\"dataframe\">\n  <thead>\n    <tr style=\"text-align: right;\">\n      <th></th>\n      <th>city08</th>\n      <th>comb08</th>\n      <th>highway08</th>\n      <th>cylinders</th>\n      <th>displ</th>\n      <th>fuelCost08</th>\n      <th>range</th>\n      <th>year</th>\n    </tr>\n  </thead>\n  <tbody>\n    <tr>\n      <th>count</th>\n      <td>41144.000000</td>\n      <td>41144.000000</td>\n      <td>41144.000000</td>\n      <td>41144.000000</td>\n      <td>41144.000000</td>\n      <td>41144.000000</td>\n      <td>41144.000000</td>\n      <td>41144.000000</td>\n    </tr>\n    <tr>\n      <th>mean</th>\n      <td>18.369045</td>\n      <td>20.616396</td>\n      <td>24.504667</td>\n      <td>5.688460</td>\n      <td>3.277904</td>\n      <td>2362.335942</td>\n      <td>0.793506</td>\n      <td>2001.535266</td>\n    </tr>\n    <tr>\n      <th>std</th>\n      <td>7.905886</td>\n      <td>7.674535</td>\n      <td>7.730364</td>\n      <td>1.797009</td>\n      <td>1.373415</td>\n      <td>654.981925</td>\n      <td>13.041592</td>\n      <td>11.142414</td>\n    </tr>\n    <tr>\n      <th>min</th>\n      <td>6.000000</td>\n      <td>7.000000</td>\n      <td>9.000000</td>\n      <td>0.000000</td>\n      <td>0.000000</td>\n      <td>500.000000</td>\n      <td>0.000000</td>\n      <td>1984.000000</td>\n    </tr>\n    <tr>\n      <th>25%</th>\n      <td>15.000000</td>\n      <td>17.000000</td>\n      <td>20.000000</td>\n      <td>4.000000</td>\n      <td>2.200000</td>\n      <td>1900.000000</td>\n      <td>0.000000</td>\n      <td>1991.000000</td>\n    </tr>\n    <tr>\n      <th>50%</th>\n      <td>17.000000</td>\n      <td>20.000000</td>\n      <td>24.000000</td>\n      <td>6.000000</td>\n      <td>3.000000</td>\n      <td>2350.000000</td>\n      <td>0.000000</td>\n      <td>2002.000000</td>\n    </tr>\n    <tr>\n      <th>75%</th>\n      <td>20.000000</td>\n      <td>23.000000</td>\n      <td>28.000000</td>\n      <td>6.000000</td>\n      <td>4.300000</td>\n      <td>2700.000000</td>\n      <td>0.000000</td>\n      <td>2011.000000</td>\n    </tr>\n    <tr>\n      <th>max</th>\n      <td>150.000000</td>\n      <td>136.000000</td>\n      <td>124.000000</td>\n      <td>16.000000</td>\n      <td>8.400000</td>\n      <td>7400.000000</td>\n      <td>370.000000</td>\n      <td>2020.000000</td>\n    </tr>\n  </tbody>\n</table>\n</div>"
     },
     "metadata": {},
     "execution_count": 37
    }
   ],
   "source": [
    "# chaining - add cylinders and displ columns\n",
    "(\n",
    "    autos[cols]\n",
    "    .assign(cylinders=autos.cylinders.fillna(0).astype('int8'),\n",
    "        displ=autos.displ.fillna(0))\n",
    "    .astype({'highway08': 'int8', 'city08':'int16','comb08':'int16',\n",
    "        'fuelCost08':'int16','range':'int16','year':'int16'})\n",
    "    .describe()\n",
    ")"
   ]
  },
  {
   "cell_type": "code",
   "execution_count": 39,
   "metadata": {},
   "outputs": [
    {
     "output_type": "execute_result",
     "data": {
      "text/plain": [
       "             city08        comb08     highway08     cylinders         displ  \\\n",
       "count  41144.000000  41144.000000  41144.000000  40938.000000  40940.000000   \n",
       "mean      18.369045     20.616396     24.504667      5.717084      3.294238   \n",
       "std        7.905886      7.674535      7.730364      1.755517      1.357151   \n",
       "min        6.000000      7.000000      9.000000      2.000000      0.000000   \n",
       "25%       15.000000     17.000000     20.000000      4.000000      2.200000   \n",
       "50%       17.000000     20.000000     24.000000      6.000000      3.000000   \n",
       "75%       20.000000     23.000000     28.000000      6.000000      4.300000   \n",
       "max      150.000000    136.000000    124.000000     16.000000      8.400000   \n",
       "\n",
       "         fuelCost08         range          year  \n",
       "count  41144.000000  41144.000000  41144.000000  \n",
       "mean    2362.335942      0.793506   2001.535266  \n",
       "std      654.981925     13.041592     11.142414  \n",
       "min      500.000000      0.000000   1984.000000  \n",
       "25%     1900.000000      0.000000   1991.000000  \n",
       "50%     2350.000000      0.000000   2002.000000  \n",
       "75%     2700.000000      0.000000   2011.000000  \n",
       "max     7400.000000    370.000000   2020.000000  "
      ],
      "text/html": "<div>\n<style scoped>\n    .dataframe tbody tr th:only-of-type {\n        vertical-align: middle;\n    }\n\n    .dataframe tbody tr th {\n        vertical-align: top;\n    }\n\n    .dataframe thead th {\n        text-align: right;\n    }\n</style>\n<table border=\"1\" class=\"dataframe\">\n  <thead>\n    <tr style=\"text-align: right;\">\n      <th></th>\n      <th>city08</th>\n      <th>comb08</th>\n      <th>highway08</th>\n      <th>cylinders</th>\n      <th>displ</th>\n      <th>fuelCost08</th>\n      <th>range</th>\n      <th>year</th>\n    </tr>\n  </thead>\n  <tbody>\n    <tr>\n      <th>count</th>\n      <td>41144.000000</td>\n      <td>41144.000000</td>\n      <td>41144.000000</td>\n      <td>40938.000000</td>\n      <td>40940.000000</td>\n      <td>41144.000000</td>\n      <td>41144.000000</td>\n      <td>41144.000000</td>\n    </tr>\n    <tr>\n      <th>mean</th>\n      <td>18.369045</td>\n      <td>20.616396</td>\n      <td>24.504667</td>\n      <td>5.717084</td>\n      <td>3.294238</td>\n      <td>2362.335942</td>\n      <td>0.793506</td>\n      <td>2001.535266</td>\n    </tr>\n    <tr>\n      <th>std</th>\n      <td>7.905886</td>\n      <td>7.674535</td>\n      <td>7.730364</td>\n      <td>1.755517</td>\n      <td>1.357151</td>\n      <td>654.981925</td>\n      <td>13.041592</td>\n      <td>11.142414</td>\n    </tr>\n    <tr>\n      <th>min</th>\n      <td>6.000000</td>\n      <td>7.000000</td>\n      <td>9.000000</td>\n      <td>2.000000</td>\n      <td>0.000000</td>\n      <td>500.000000</td>\n      <td>0.000000</td>\n      <td>1984.000000</td>\n    </tr>\n    <tr>\n      <th>25%</th>\n      <td>15.000000</td>\n      <td>17.000000</td>\n      <td>20.000000</td>\n      <td>4.000000</td>\n      <td>2.200000</td>\n      <td>1900.000000</td>\n      <td>0.000000</td>\n      <td>1991.000000</td>\n    </tr>\n    <tr>\n      <th>50%</th>\n      <td>17.000000</td>\n      <td>20.000000</td>\n      <td>24.000000</td>\n      <td>6.000000</td>\n      <td>3.000000</td>\n      <td>2350.000000</td>\n      <td>0.000000</td>\n      <td>2002.000000</td>\n    </tr>\n    <tr>\n      <th>75%</th>\n      <td>20.000000</td>\n      <td>23.000000</td>\n      <td>28.000000</td>\n      <td>6.000000</td>\n      <td>4.300000</td>\n      <td>2700.000000</td>\n      <td>0.000000</td>\n      <td>2011.000000</td>\n    </tr>\n    <tr>\n      <th>max</th>\n      <td>150.000000</td>\n      <td>136.000000</td>\n      <td>124.000000</td>\n      <td>16.000000</td>\n      <td>8.400000</td>\n      <td>7400.000000</td>\n      <td>370.000000</td>\n      <td>2020.000000</td>\n    </tr>\n  </tbody>\n</table>\n</div>"
     },
     "metadata": {},
     "execution_count": 39
    }
   ],
   "source": [
    "autos[cols].describe()"
   ]
  },
  {
   "cell_type": "code",
   "execution_count": 40,
   "metadata": {},
   "outputs": [
    {
     "output_type": "execute_result",
     "data": {
      "text/plain": [
       "finfo(resolution=0.001, min=-6.55040e+04, max=6.55040e+04, dtype=float16)"
      ]
     },
     "metadata": {},
     "execution_count": 40
    }
   ],
   "source": [
    "#use this to inspect float sizes\n",
    "np.finfo(np.float16)"
   ]
  },
  {
   "cell_type": "code",
   "execution_count": 41,
   "metadata": {},
   "outputs": [
    {
     "output_type": "execute_result",
     "data": {
      "text/plain": [
       "       city08  comb08  highway08  cylinders     displ  \\\n",
       "0          19      21         25          4  2.000000   \n",
       "1           9      11         14         12  4.898438   \n",
       "2          23      27         33          4  2.199219   \n",
       "3          10      11         12          8  5.199219   \n",
       "4          17      19         23          4  2.199219   \n",
       "5          21      22         24          4  1.799805   \n",
       "6          22      25         29          4  1.799805   \n",
       "7          23      24         26          4  1.599609   \n",
       "8          23      26         31          4  1.599609   \n",
       "9          23      25         30          4  1.799805   \n",
       "...       ...     ...        ...        ...       ...   \n",
       "41134      18      20         24          4  2.099609   \n",
       "41135      23      26         33          4  1.900391   \n",
       "41136      21      24         30          4  1.900391   \n",
       "41137      24      28         33          4  1.900391   \n",
       "41138      21      25         32          4  1.900391   \n",
       "41139      19      22         26          4  2.199219   \n",
       "41140      20      23         28          4  2.199219   \n",
       "41141      18      21         24          4  2.199219   \n",
       "41142      18      21         24          4  2.199219   \n",
       "41143      16      18         21          4  2.199219   \n",
       "\n",
       "                            drive          eng_dscr  fuelCost08        make  \\\n",
       "0                Rear-Wheel Drive             (FFS)        2000  Alfa Romeo   \n",
       "1                Rear-Wheel Drive         (GUZZLER)        3850     Ferrari   \n",
       "2               Front-Wheel Drive             (FFS)        1550       Dodge   \n",
       "3                Rear-Wheel Drive               NaN        3850       Dodge   \n",
       "4      4-Wheel or All-Wheel Drive        (FFS,TRBO)        2700      Subaru   \n",
       "5               Front-Wheel Drive             (FFS)        1900      Subaru   \n",
       "6               Front-Wheel Drive             (FFS)        1700      Subaru   \n",
       "7               Front-Wheel Drive             (FFS)        1750      Toyota   \n",
       "8               Front-Wheel Drive             (FFS)        1600      Toyota   \n",
       "9               Front-Wheel Drive             (FFS)        1700      Toyota   \n",
       "...                           ...               ...         ...         ...   \n",
       "41134           Front-Wheel Drive             (FFS)        2100        Saab   \n",
       "41135           Front-Wheel Drive  (TBI)      (FFS)        1600      Saturn   \n",
       "41136           Front-Wheel Drive  (MFI)      (FFS)        1750      Saturn   \n",
       "41137           Front-Wheel Drive  (TBI)      (FFS)        1500      Saturn   \n",
       "41138           Front-Wheel Drive  (MFI)      (FFS)        1700      Saturn   \n",
       "41139           Front-Wheel Drive             (FFS)        1900      Subaru   \n",
       "41140           Front-Wheel Drive             (FFS)        1850      Subaru   \n",
       "41141  4-Wheel or All-Wheel Drive             (FFS)        2000      Subaru   \n",
       "41142  4-Wheel or All-Wheel Drive             (FFS)        2000      Subaru   \n",
       "41143  4-Wheel or All-Wheel Drive        (FFS,TRBO)        2900      Subaru   \n",
       "\n",
       "                     model            trany  range  \\\n",
       "0       Spider Veloce 2000     Manual 5-spd      0   \n",
       "1               Testarossa     Manual 5-spd      0   \n",
       "2                  Charger     Manual 5-spd      0   \n",
       "3      B150/B250 Wagon 2WD  Automatic 3-spd      0   \n",
       "4         Legacy AWD Turbo     Manual 5-spd      0   \n",
       "5                   Loyale  Automatic 3-spd      0   \n",
       "6                   Loyale     Manual 5-spd      0   \n",
       "7                  Corolla  Automatic 3-spd      0   \n",
       "8                  Corolla     Manual 5-spd      0   \n",
       "9                  Corolla  Automatic 4-spd      0   \n",
       "...                    ...              ...    ...   \n",
       "41134                  900     Manual 5-spd      0   \n",
       "41135                   SL  Automatic 4-spd      0   \n",
       "41136                   SL  Automatic 4-spd      0   \n",
       "41137                   SL     Manual 5-spd      0   \n",
       "41138                   SL     Manual 5-spd      0   \n",
       "41139               Legacy  Automatic 4-spd      0   \n",
       "41140               Legacy     Manual 5-spd      0   \n",
       "41141           Legacy AWD  Automatic 4-spd      0   \n",
       "41142           Legacy AWD     Manual 5-spd      0   \n",
       "41143     Legacy AWD Turbo  Automatic 4-spd      0   \n",
       "\n",
       "                          createdOn  year  \n",
       "0      Tue Jan 01 00:00:00 EST 2013  1985  \n",
       "1      Tue Jan 01 00:00:00 EST 2013  1985  \n",
       "2      Tue Jan 01 00:00:00 EST 2013  1985  \n",
       "3      Tue Jan 01 00:00:00 EST 2013  1985  \n",
       "4      Tue Jan 01 00:00:00 EST 2013  1993  \n",
       "5      Tue Jan 01 00:00:00 EST 2013  1993  \n",
       "6      Tue Jan 01 00:00:00 EST 2013  1993  \n",
       "7      Tue Jan 01 00:00:00 EST 2013  1993  \n",
       "8      Tue Jan 01 00:00:00 EST 2013  1993  \n",
       "9      Tue Jan 01 00:00:00 EST 2013  1993  \n",
       "...                             ...   ...  \n",
       "41134  Tue Jan 01 00:00:00 EST 2013  1993  \n",
       "41135  Tue Jan 01 00:00:00 EST 2013  1993  \n",
       "41136  Tue Jan 01 00:00:00 EST 2013  1993  \n",
       "41137  Tue Jan 01 00:00:00 EST 2013  1993  \n",
       "41138  Tue Jan 01 00:00:00 EST 2013  1993  \n",
       "41139  Tue Jan 01 00:00:00 EST 2013  1993  \n",
       "41140  Tue Jan 01 00:00:00 EST 2013  1993  \n",
       "41141  Tue Jan 01 00:00:00 EST 2013  1993  \n",
       "41142  Tue Jan 01 00:00:00 EST 2013  1993  \n",
       "41143  Tue Jan 01 00:00:00 EST 2013  1993  \n",
       "\n",
       "[41144 rows x 14 columns]"
      ],
      "text/html": "<div>\n<style scoped>\n    .dataframe tbody tr th:only-of-type {\n        vertical-align: middle;\n    }\n\n    .dataframe tbody tr th {\n        vertical-align: top;\n    }\n\n    .dataframe thead th {\n        text-align: right;\n    }\n</style>\n<table border=\"1\" class=\"dataframe\">\n  <thead>\n    <tr style=\"text-align: right;\">\n      <th></th>\n      <th>city08</th>\n      <th>comb08</th>\n      <th>highway08</th>\n      <th>cylinders</th>\n      <th>displ</th>\n      <th>drive</th>\n      <th>eng_dscr</th>\n      <th>fuelCost08</th>\n      <th>make</th>\n      <th>model</th>\n      <th>trany</th>\n      <th>range</th>\n      <th>createdOn</th>\n      <th>year</th>\n    </tr>\n  </thead>\n  <tbody>\n    <tr>\n      <th>0</th>\n      <td>19</td>\n      <td>21</td>\n      <td>25</td>\n      <td>4</td>\n      <td>2.000000</td>\n      <td>Rear-Wheel Drive</td>\n      <td>(FFS)</td>\n      <td>2000</td>\n      <td>Alfa Romeo</td>\n      <td>Spider Veloce 2000</td>\n      <td>Manual 5-spd</td>\n      <td>0</td>\n      <td>Tue Jan 01 00:00:00 EST 2013</td>\n      <td>1985</td>\n    </tr>\n    <tr>\n      <th>1</th>\n      <td>9</td>\n      <td>11</td>\n      <td>14</td>\n      <td>12</td>\n      <td>4.898438</td>\n      <td>Rear-Wheel Drive</td>\n      <td>(GUZZLER)</td>\n      <td>3850</td>\n      <td>Ferrari</td>\n      <td>Testarossa</td>\n      <td>Manual 5-spd</td>\n      <td>0</td>\n      <td>Tue Jan 01 00:00:00 EST 2013</td>\n      <td>1985</td>\n    </tr>\n    <tr>\n      <th>2</th>\n      <td>23</td>\n      <td>27</td>\n      <td>33</td>\n      <td>4</td>\n      <td>2.199219</td>\n      <td>Front-Wheel Drive</td>\n      <td>(FFS)</td>\n      <td>1550</td>\n      <td>Dodge</td>\n      <td>Charger</td>\n      <td>Manual 5-spd</td>\n      <td>0</td>\n      <td>Tue Jan 01 00:00:00 EST 2013</td>\n      <td>1985</td>\n    </tr>\n    <tr>\n      <th>3</th>\n      <td>10</td>\n      <td>11</td>\n      <td>12</td>\n      <td>8</td>\n      <td>5.199219</td>\n      <td>Rear-Wheel Drive</td>\n      <td>NaN</td>\n      <td>3850</td>\n      <td>Dodge</td>\n      <td>B150/B250 Wagon 2WD</td>\n      <td>Automatic 3-spd</td>\n      <td>0</td>\n      <td>Tue Jan 01 00:00:00 EST 2013</td>\n      <td>1985</td>\n    </tr>\n    <tr>\n      <th>4</th>\n      <td>17</td>\n      <td>19</td>\n      <td>23</td>\n      <td>4</td>\n      <td>2.199219</td>\n      <td>4-Wheel or All-Wheel Drive</td>\n      <td>(FFS,TRBO)</td>\n      <td>2700</td>\n      <td>Subaru</td>\n      <td>Legacy AWD Turbo</td>\n      <td>Manual 5-spd</td>\n      <td>0</td>\n      <td>Tue Jan 01 00:00:00 EST 2013</td>\n      <td>1993</td>\n    </tr>\n    <tr>\n      <th>5</th>\n      <td>21</td>\n      <td>22</td>\n      <td>24</td>\n      <td>4</td>\n      <td>1.799805</td>\n      <td>Front-Wheel Drive</td>\n      <td>(FFS)</td>\n      <td>1900</td>\n      <td>Subaru</td>\n      <td>Loyale</td>\n      <td>Automatic 3-spd</td>\n      <td>0</td>\n      <td>Tue Jan 01 00:00:00 EST 2013</td>\n      <td>1993</td>\n    </tr>\n    <tr>\n      <th>6</th>\n      <td>22</td>\n      <td>25</td>\n      <td>29</td>\n      <td>4</td>\n      <td>1.799805</td>\n      <td>Front-Wheel Drive</td>\n      <td>(FFS)</td>\n      <td>1700</td>\n      <td>Subaru</td>\n      <td>Loyale</td>\n      <td>Manual 5-spd</td>\n      <td>0</td>\n      <td>Tue Jan 01 00:00:00 EST 2013</td>\n      <td>1993</td>\n    </tr>\n    <tr>\n      <th>7</th>\n      <td>23</td>\n      <td>24</td>\n      <td>26</td>\n      <td>4</td>\n      <td>1.599609</td>\n      <td>Front-Wheel Drive</td>\n      <td>(FFS)</td>\n      <td>1750</td>\n      <td>Toyota</td>\n      <td>Corolla</td>\n      <td>Automatic 3-spd</td>\n      <td>0</td>\n      <td>Tue Jan 01 00:00:00 EST 2013</td>\n      <td>1993</td>\n    </tr>\n    <tr>\n      <th>8</th>\n      <td>23</td>\n      <td>26</td>\n      <td>31</td>\n      <td>4</td>\n      <td>1.599609</td>\n      <td>Front-Wheel Drive</td>\n      <td>(FFS)</td>\n      <td>1600</td>\n      <td>Toyota</td>\n      <td>Corolla</td>\n      <td>Manual 5-spd</td>\n      <td>0</td>\n      <td>Tue Jan 01 00:00:00 EST 2013</td>\n      <td>1993</td>\n    </tr>\n    <tr>\n      <th>9</th>\n      <td>23</td>\n      <td>25</td>\n      <td>30</td>\n      <td>4</td>\n      <td>1.799805</td>\n      <td>Front-Wheel Drive</td>\n      <td>(FFS)</td>\n      <td>1700</td>\n      <td>Toyota</td>\n      <td>Corolla</td>\n      <td>Automatic 4-spd</td>\n      <td>0</td>\n      <td>Tue Jan 01 00:00:00 EST 2013</td>\n      <td>1993</td>\n    </tr>\n    <tr>\n      <th>...</th>\n      <td>...</td>\n      <td>...</td>\n      <td>...</td>\n      <td>...</td>\n      <td>...</td>\n      <td>...</td>\n      <td>...</td>\n      <td>...</td>\n      <td>...</td>\n      <td>...</td>\n      <td>...</td>\n      <td>...</td>\n      <td>...</td>\n      <td>...</td>\n    </tr>\n    <tr>\n      <th>41134</th>\n      <td>18</td>\n      <td>20</td>\n      <td>24</td>\n      <td>4</td>\n      <td>2.099609</td>\n      <td>Front-Wheel Drive</td>\n      <td>(FFS)</td>\n      <td>2100</td>\n      <td>Saab</td>\n      <td>900</td>\n      <td>Manual 5-spd</td>\n      <td>0</td>\n      <td>Tue Jan 01 00:00:00 EST 2013</td>\n      <td>1993</td>\n    </tr>\n    <tr>\n      <th>41135</th>\n      <td>23</td>\n      <td>26</td>\n      <td>33</td>\n      <td>4</td>\n      <td>1.900391</td>\n      <td>Front-Wheel Drive</td>\n      <td>(TBI)      (FFS)</td>\n      <td>1600</td>\n      <td>Saturn</td>\n      <td>SL</td>\n      <td>Automatic 4-spd</td>\n      <td>0</td>\n      <td>Tue Jan 01 00:00:00 EST 2013</td>\n      <td>1993</td>\n    </tr>\n    <tr>\n      <th>41136</th>\n      <td>21</td>\n      <td>24</td>\n      <td>30</td>\n      <td>4</td>\n      <td>1.900391</td>\n      <td>Front-Wheel Drive</td>\n      <td>(MFI)      (FFS)</td>\n      <td>1750</td>\n      <td>Saturn</td>\n      <td>SL</td>\n      <td>Automatic 4-spd</td>\n      <td>0</td>\n      <td>Tue Jan 01 00:00:00 EST 2013</td>\n      <td>1993</td>\n    </tr>\n    <tr>\n      <th>41137</th>\n      <td>24</td>\n      <td>28</td>\n      <td>33</td>\n      <td>4</td>\n      <td>1.900391</td>\n      <td>Front-Wheel Drive</td>\n      <td>(TBI)      (FFS)</td>\n      <td>1500</td>\n      <td>Saturn</td>\n      <td>SL</td>\n      <td>Manual 5-spd</td>\n      <td>0</td>\n      <td>Tue Jan 01 00:00:00 EST 2013</td>\n      <td>1993</td>\n    </tr>\n    <tr>\n      <th>41138</th>\n      <td>21</td>\n      <td>25</td>\n      <td>32</td>\n      <td>4</td>\n      <td>1.900391</td>\n      <td>Front-Wheel Drive</td>\n      <td>(MFI)      (FFS)</td>\n      <td>1700</td>\n      <td>Saturn</td>\n      <td>SL</td>\n      <td>Manual 5-spd</td>\n      <td>0</td>\n      <td>Tue Jan 01 00:00:00 EST 2013</td>\n      <td>1993</td>\n    </tr>\n    <tr>\n      <th>41139</th>\n      <td>19</td>\n      <td>22</td>\n      <td>26</td>\n      <td>4</td>\n      <td>2.199219</td>\n      <td>Front-Wheel Drive</td>\n      <td>(FFS)</td>\n      <td>1900</td>\n      <td>Subaru</td>\n      <td>Legacy</td>\n      <td>Automatic 4-spd</td>\n      <td>0</td>\n      <td>Tue Jan 01 00:00:00 EST 2013</td>\n      <td>1993</td>\n    </tr>\n    <tr>\n      <th>41140</th>\n      <td>20</td>\n      <td>23</td>\n      <td>28</td>\n      <td>4</td>\n      <td>2.199219</td>\n      <td>Front-Wheel Drive</td>\n      <td>(FFS)</td>\n      <td>1850</td>\n      <td>Subaru</td>\n      <td>Legacy</td>\n      <td>Manual 5-spd</td>\n      <td>0</td>\n      <td>Tue Jan 01 00:00:00 EST 2013</td>\n      <td>1993</td>\n    </tr>\n    <tr>\n      <th>41141</th>\n      <td>18</td>\n      <td>21</td>\n      <td>24</td>\n      <td>4</td>\n      <td>2.199219</td>\n      <td>4-Wheel or All-Wheel Drive</td>\n      <td>(FFS)</td>\n      <td>2000</td>\n      <td>Subaru</td>\n      <td>Legacy AWD</td>\n      <td>Automatic 4-spd</td>\n      <td>0</td>\n      <td>Tue Jan 01 00:00:00 EST 2013</td>\n      <td>1993</td>\n    </tr>\n    <tr>\n      <th>41142</th>\n      <td>18</td>\n      <td>21</td>\n      <td>24</td>\n      <td>4</td>\n      <td>2.199219</td>\n      <td>4-Wheel or All-Wheel Drive</td>\n      <td>(FFS)</td>\n      <td>2000</td>\n      <td>Subaru</td>\n      <td>Legacy AWD</td>\n      <td>Manual 5-spd</td>\n      <td>0</td>\n      <td>Tue Jan 01 00:00:00 EST 2013</td>\n      <td>1993</td>\n    </tr>\n    <tr>\n      <th>41143</th>\n      <td>16</td>\n      <td>18</td>\n      <td>21</td>\n      <td>4</td>\n      <td>2.199219</td>\n      <td>4-Wheel or All-Wheel Drive</td>\n      <td>(FFS,TRBO)</td>\n      <td>2900</td>\n      <td>Subaru</td>\n      <td>Legacy AWD Turbo</td>\n      <td>Automatic 4-spd</td>\n      <td>0</td>\n      <td>Tue Jan 01 00:00:00 EST 2013</td>\n      <td>1993</td>\n    </tr>\n  </tbody>\n</table>\n<p>41144 rows × 14 columns</p>\n</div>"
     },
     "metadata": {},
     "execution_count": 41
    }
   ],
   "source": [
    "(\n",
    "    autos[cols]\n",
    "    .assign(cylinders=autos.cylinders.fillna(0).astype('int8'),\n",
    "        displ=autos.displ.fillna(0).astype('float16'))\n",
    "    .astype({'highway08': 'int8', 'city08':'int16','comb08':'int16',\n",
    "        'fuelCost08':'int16','range':'int16','year':'int16'})\n",
    ")"
   ]
  },
  {
   "cell_type": "code",
   "execution_count": 42,
   "metadata": {},
   "outputs": [
    {
     "output_type": "execute_result",
     "data": {
      "text/plain": [
       "17590123"
      ]
     },
     "metadata": {},
     "execution_count": 42
    }
   ],
   "source": [
    "(\n",
    "    autos[cols]\n",
    "    .assign(cylinders=autos.cylinders.fillna(0).astype('int8'),\n",
    "        displ=autos.displ.fillna(0).astype('float16'))\n",
    "    .astype({'highway08': 'int8', 'city08':'int16','comb08':'int16',\n",
    "        'fuelCost08':'int16','range':'int16','year':'int16'})\n",
    "    .memory_usage(deep=True)\n",
    "    .sum()\n",
    ")"
   ]
  },
  {
   "cell_type": "markdown",
   "metadata": {},
   "source": [
    "## Objects"
   ]
  },
  {
   "cell_type": "code",
   "execution_count": 43,
   "metadata": {},
   "outputs": [
    {
     "output_type": "execute_result",
     "data": {
      "text/plain": [
       "                            drive          eng_dscr        make  \\\n",
       "0                Rear-Wheel Drive             (FFS)  Alfa Romeo   \n",
       "1                Rear-Wheel Drive         (GUZZLER)     Ferrari   \n",
       "2               Front-Wheel Drive             (FFS)       Dodge   \n",
       "3                Rear-Wheel Drive               NaN       Dodge   \n",
       "4      4-Wheel or All-Wheel Drive        (FFS,TRBO)      Subaru   \n",
       "5               Front-Wheel Drive             (FFS)      Subaru   \n",
       "6               Front-Wheel Drive             (FFS)      Subaru   \n",
       "7               Front-Wheel Drive             (FFS)      Toyota   \n",
       "8               Front-Wheel Drive             (FFS)      Toyota   \n",
       "9               Front-Wheel Drive             (FFS)      Toyota   \n",
       "...                           ...               ...         ...   \n",
       "41134           Front-Wheel Drive             (FFS)        Saab   \n",
       "41135           Front-Wheel Drive  (TBI)      (FFS)      Saturn   \n",
       "41136           Front-Wheel Drive  (MFI)      (FFS)      Saturn   \n",
       "41137           Front-Wheel Drive  (TBI)      (FFS)      Saturn   \n",
       "41138           Front-Wheel Drive  (MFI)      (FFS)      Saturn   \n",
       "41139           Front-Wheel Drive             (FFS)      Subaru   \n",
       "41140           Front-Wheel Drive             (FFS)      Subaru   \n",
       "41141  4-Wheel or All-Wheel Drive             (FFS)      Subaru   \n",
       "41142  4-Wheel or All-Wheel Drive             (FFS)      Subaru   \n",
       "41143  4-Wheel or All-Wheel Drive        (FFS,TRBO)      Subaru   \n",
       "\n",
       "                     model            trany                     createdOn  \n",
       "0       Spider Veloce 2000     Manual 5-spd  Tue Jan 01 00:00:00 EST 2013  \n",
       "1               Testarossa     Manual 5-spd  Tue Jan 01 00:00:00 EST 2013  \n",
       "2                  Charger     Manual 5-spd  Tue Jan 01 00:00:00 EST 2013  \n",
       "3      B150/B250 Wagon 2WD  Automatic 3-spd  Tue Jan 01 00:00:00 EST 2013  \n",
       "4         Legacy AWD Turbo     Manual 5-spd  Tue Jan 01 00:00:00 EST 2013  \n",
       "5                   Loyale  Automatic 3-spd  Tue Jan 01 00:00:00 EST 2013  \n",
       "6                   Loyale     Manual 5-spd  Tue Jan 01 00:00:00 EST 2013  \n",
       "7                  Corolla  Automatic 3-spd  Tue Jan 01 00:00:00 EST 2013  \n",
       "8                  Corolla     Manual 5-spd  Tue Jan 01 00:00:00 EST 2013  \n",
       "9                  Corolla  Automatic 4-spd  Tue Jan 01 00:00:00 EST 2013  \n",
       "...                    ...              ...                           ...  \n",
       "41134                  900     Manual 5-spd  Tue Jan 01 00:00:00 EST 2013  \n",
       "41135                   SL  Automatic 4-spd  Tue Jan 01 00:00:00 EST 2013  \n",
       "41136                   SL  Automatic 4-spd  Tue Jan 01 00:00:00 EST 2013  \n",
       "41137                   SL     Manual 5-spd  Tue Jan 01 00:00:00 EST 2013  \n",
       "41138                   SL     Manual 5-spd  Tue Jan 01 00:00:00 EST 2013  \n",
       "41139               Legacy  Automatic 4-spd  Tue Jan 01 00:00:00 EST 2013  \n",
       "41140               Legacy     Manual 5-spd  Tue Jan 01 00:00:00 EST 2013  \n",
       "41141           Legacy AWD  Automatic 4-spd  Tue Jan 01 00:00:00 EST 2013  \n",
       "41142           Legacy AWD     Manual 5-spd  Tue Jan 01 00:00:00 EST 2013  \n",
       "41143     Legacy AWD Turbo  Automatic 4-spd  Tue Jan 01 00:00:00 EST 2013  \n",
       "\n",
       "[41144 rows x 6 columns]"
      ],
      "text/html": "<div>\n<style scoped>\n    .dataframe tbody tr th:only-of-type {\n        vertical-align: middle;\n    }\n\n    .dataframe tbody tr th {\n        vertical-align: top;\n    }\n\n    .dataframe thead th {\n        text-align: right;\n    }\n</style>\n<table border=\"1\" class=\"dataframe\">\n  <thead>\n    <tr style=\"text-align: right;\">\n      <th></th>\n      <th>drive</th>\n      <th>eng_dscr</th>\n      <th>make</th>\n      <th>model</th>\n      <th>trany</th>\n      <th>createdOn</th>\n    </tr>\n  </thead>\n  <tbody>\n    <tr>\n      <th>0</th>\n      <td>Rear-Wheel Drive</td>\n      <td>(FFS)</td>\n      <td>Alfa Romeo</td>\n      <td>Spider Veloce 2000</td>\n      <td>Manual 5-spd</td>\n      <td>Tue Jan 01 00:00:00 EST 2013</td>\n    </tr>\n    <tr>\n      <th>1</th>\n      <td>Rear-Wheel Drive</td>\n      <td>(GUZZLER)</td>\n      <td>Ferrari</td>\n      <td>Testarossa</td>\n      <td>Manual 5-spd</td>\n      <td>Tue Jan 01 00:00:00 EST 2013</td>\n    </tr>\n    <tr>\n      <th>2</th>\n      <td>Front-Wheel Drive</td>\n      <td>(FFS)</td>\n      <td>Dodge</td>\n      <td>Charger</td>\n      <td>Manual 5-spd</td>\n      <td>Tue Jan 01 00:00:00 EST 2013</td>\n    </tr>\n    <tr>\n      <th>3</th>\n      <td>Rear-Wheel Drive</td>\n      <td>NaN</td>\n      <td>Dodge</td>\n      <td>B150/B250 Wagon 2WD</td>\n      <td>Automatic 3-spd</td>\n      <td>Tue Jan 01 00:00:00 EST 2013</td>\n    </tr>\n    <tr>\n      <th>4</th>\n      <td>4-Wheel or All-Wheel Drive</td>\n      <td>(FFS,TRBO)</td>\n      <td>Subaru</td>\n      <td>Legacy AWD Turbo</td>\n      <td>Manual 5-spd</td>\n      <td>Tue Jan 01 00:00:00 EST 2013</td>\n    </tr>\n    <tr>\n      <th>5</th>\n      <td>Front-Wheel Drive</td>\n      <td>(FFS)</td>\n      <td>Subaru</td>\n      <td>Loyale</td>\n      <td>Automatic 3-spd</td>\n      <td>Tue Jan 01 00:00:00 EST 2013</td>\n    </tr>\n    <tr>\n      <th>6</th>\n      <td>Front-Wheel Drive</td>\n      <td>(FFS)</td>\n      <td>Subaru</td>\n      <td>Loyale</td>\n      <td>Manual 5-spd</td>\n      <td>Tue Jan 01 00:00:00 EST 2013</td>\n    </tr>\n    <tr>\n      <th>7</th>\n      <td>Front-Wheel Drive</td>\n      <td>(FFS)</td>\n      <td>Toyota</td>\n      <td>Corolla</td>\n      <td>Automatic 3-spd</td>\n      <td>Tue Jan 01 00:00:00 EST 2013</td>\n    </tr>\n    <tr>\n      <th>8</th>\n      <td>Front-Wheel Drive</td>\n      <td>(FFS)</td>\n      <td>Toyota</td>\n      <td>Corolla</td>\n      <td>Manual 5-spd</td>\n      <td>Tue Jan 01 00:00:00 EST 2013</td>\n    </tr>\n    <tr>\n      <th>9</th>\n      <td>Front-Wheel Drive</td>\n      <td>(FFS)</td>\n      <td>Toyota</td>\n      <td>Corolla</td>\n      <td>Automatic 4-spd</td>\n      <td>Tue Jan 01 00:00:00 EST 2013</td>\n    </tr>\n    <tr>\n      <th>...</th>\n      <td>...</td>\n      <td>...</td>\n      <td>...</td>\n      <td>...</td>\n      <td>...</td>\n      <td>...</td>\n    </tr>\n    <tr>\n      <th>41134</th>\n      <td>Front-Wheel Drive</td>\n      <td>(FFS)</td>\n      <td>Saab</td>\n      <td>900</td>\n      <td>Manual 5-spd</td>\n      <td>Tue Jan 01 00:00:00 EST 2013</td>\n    </tr>\n    <tr>\n      <th>41135</th>\n      <td>Front-Wheel Drive</td>\n      <td>(TBI)      (FFS)</td>\n      <td>Saturn</td>\n      <td>SL</td>\n      <td>Automatic 4-spd</td>\n      <td>Tue Jan 01 00:00:00 EST 2013</td>\n    </tr>\n    <tr>\n      <th>41136</th>\n      <td>Front-Wheel Drive</td>\n      <td>(MFI)      (FFS)</td>\n      <td>Saturn</td>\n      <td>SL</td>\n      <td>Automatic 4-spd</td>\n      <td>Tue Jan 01 00:00:00 EST 2013</td>\n    </tr>\n    <tr>\n      <th>41137</th>\n      <td>Front-Wheel Drive</td>\n      <td>(TBI)      (FFS)</td>\n      <td>Saturn</td>\n      <td>SL</td>\n      <td>Manual 5-spd</td>\n      <td>Tue Jan 01 00:00:00 EST 2013</td>\n    </tr>\n    <tr>\n      <th>41138</th>\n      <td>Front-Wheel Drive</td>\n      <td>(MFI)      (FFS)</td>\n      <td>Saturn</td>\n      <td>SL</td>\n      <td>Manual 5-spd</td>\n      <td>Tue Jan 01 00:00:00 EST 2013</td>\n    </tr>\n    <tr>\n      <th>41139</th>\n      <td>Front-Wheel Drive</td>\n      <td>(FFS)</td>\n      <td>Subaru</td>\n      <td>Legacy</td>\n      <td>Automatic 4-spd</td>\n      <td>Tue Jan 01 00:00:00 EST 2013</td>\n    </tr>\n    <tr>\n      <th>41140</th>\n      <td>Front-Wheel Drive</td>\n      <td>(FFS)</td>\n      <td>Subaru</td>\n      <td>Legacy</td>\n      <td>Manual 5-spd</td>\n      <td>Tue Jan 01 00:00:00 EST 2013</td>\n    </tr>\n    <tr>\n      <th>41141</th>\n      <td>4-Wheel or All-Wheel Drive</td>\n      <td>(FFS)</td>\n      <td>Subaru</td>\n      <td>Legacy AWD</td>\n      <td>Automatic 4-spd</td>\n      <td>Tue Jan 01 00:00:00 EST 2013</td>\n    </tr>\n    <tr>\n      <th>41142</th>\n      <td>4-Wheel or All-Wheel Drive</td>\n      <td>(FFS)</td>\n      <td>Subaru</td>\n      <td>Legacy AWD</td>\n      <td>Manual 5-spd</td>\n      <td>Tue Jan 01 00:00:00 EST 2013</td>\n    </tr>\n    <tr>\n      <th>41143</th>\n      <td>4-Wheel or All-Wheel Drive</td>\n      <td>(FFS,TRBO)</td>\n      <td>Subaru</td>\n      <td>Legacy AWD Turbo</td>\n      <td>Automatic 4-spd</td>\n      <td>Tue Jan 01 00:00:00 EST 2013</td>\n    </tr>\n  </tbody>\n</table>\n<p>41144 rows × 6 columns</p>\n</div>"
     },
     "metadata": {},
     "execution_count": 43
    }
   ],
   "source": [
    "(\n",
    "    autos[cols]\n",
    "    .select_dtypes(object)\n",
    ")"
   ]
  },
  {
   "cell_type": "code",
   "execution_count": 44,
   "metadata": {},
   "outputs": [],
   "source": [
    "# cardinality - how many unique values there are\n"
   ]
  },
  {
   "cell_type": "code",
   "execution_count": 45,
   "metadata": {},
   "outputs": [
    {
     "output_type": "execute_result",
     "data": {
      "text/plain": [
       "Front-Wheel Drive             14236\n",
       "Rear-Wheel Drive              13831\n",
       "4-Wheel or All-Wheel Drive     6648\n",
       "All-Wheel Drive                3015\n",
       "4-Wheel Drive                  1460\n",
       "NaN                            1189\n",
       "2-Wheel Drive                   507\n",
       "Part-time 4-Wheel Drive         258\n",
       "Name: drive, dtype: int64"
      ]
     },
     "metadata": {},
     "execution_count": 45
    }
   ],
   "source": [
    "# looks categorical\n",
    "autos.drive.value_counts(dropna=False)"
   ]
  },
  {
   "cell_type": "code",
   "execution_count": 49,
   "metadata": {},
   "outputs": [
    {
     "output_type": "execute_result",
     "data": {
      "text/plain": [
       "       city08  comb08  highway08  cylinders  displ drive            eng_dscr  \\\n",
       "7138       81      85         91        NaN    NaN   NaN                 NaN   \n",
       "8144       74      65         58        NaN    NaN   NaN                 NaN   \n",
       "8147       84      75         66        NaN    NaN   NaN                 NaN   \n",
       "18217      18      21         25        4.0    2.0   NaN               (FFS)   \n",
       "18218      20      22         26        4.0    1.5   NaN               (FFS)   \n",
       "18219      13      15         20        8.0    5.7   NaN      (350 V8) (FFS)   \n",
       "18220      13      15         20        8.0    5.7   NaN      (350 V8) (FFS)   \n",
       "18221      15      17         20        6.0    3.0   NaN          (FFS,TRBO)   \n",
       "18222      16      18         20        6.0    3.0   NaN               (FFS)   \n",
       "18223      16      18         22        6.0    3.0   NaN          (FFS,TRBO)   \n",
       "...       ...     ...        ...        ...    ...   ...                 ...   \n",
       "20063      13      15         19        8.0    5.0   NaN      (FFS) CA model   \n",
       "20064      13      15         20        8.0    5.0   NaN  (GM-OLDS) CA model   \n",
       "20065      14      16         19        8.0    5.0   NaN  (GM-CHEV) CA model   \n",
       "20387      14      14         15        4.0    2.4   NaN      (FFS) CA model   \n",
       "21129      14      16         21        8.0    3.5   NaN  GUZZLER  FFS,TURBO   \n",
       "23029      79      85         94        NaN    NaN   NaN           Lead Acid   \n",
       "23030      35      37         39        NaN    NaN   NaN                NiMH   \n",
       "23032      49      48         46        NaN    NaN   NaN                 NaN   \n",
       "23037      49      48         46        NaN    NaN   NaN                 NaN   \n",
       "23040     102      98         94        NaN    NaN   NaN                 NaN   \n",
       "\n",
       "       fuelCost08        make                 model            trany  range  \\\n",
       "7138          800      Nissan              Altra EV              NaN     90   \n",
       "8144         1000        Ford                 Th!nk              NaN     29   \n",
       "8147          900      Nissan            Hyper-Mini              NaN     33   \n",
       "18217        2000  Alfa Romeo    Spider Veloce 2000     Manual 5-spd      0   \n",
       "18218        1900     Bertone                  X1/9     Manual 5-spd      0   \n",
       "18219        2800   Chevrolet              Corvette  Automatic 4-spd      0   \n",
       "18220        2800   Chevrolet              Corvette     Manual 4-spd      0   \n",
       "18221        2500      Nissan                 300ZX  Automatic 4-spd      0   \n",
       "18222        2350      Nissan                 300ZX  Automatic 4-spd      0   \n",
       "18223        2350      Nissan                 300ZX     Manual 5-spd      0   \n",
       "...           ...         ...                   ...              ...    ...   \n",
       "20063        2800     Mercury   Grand Marquis Wagon  Automatic 4-spd      0   \n",
       "20064        2800  Oldsmobile  Custom Cruiser Wagon  Automatic 4-spd      0   \n",
       "20065        2650     Pontiac      Parisienne Wagon  Automatic 4-spd      0   \n",
       "20387        3000      Nissan    Pickup Cab Chassis     Manual 5-spd      0   \n",
       "21129        3250       Lotus             Esprit V8     Manual 5-spd      0   \n",
       "23029         800         GMC                   EV1   Automatic (A1)     55   \n",
       "23030        1750         GMC                   EV1   Automatic (A1)    105   \n",
       "23032        1400       Honda               EV Plus   Automatic (A1)     81   \n",
       "23037        1400       Honda               EV Plus   Automatic (A1)     81   \n",
       "23040         650        MINI                 MiniE   Automatic (A1)    100   \n",
       "\n",
       "                          createdOn  year  \n",
       "7138   Tue Jan 01 00:00:00 EST 2013  2000  \n",
       "8144   Tue Jan 01 00:00:00 EST 2013  2001  \n",
       "8147   Tue Jan 01 00:00:00 EST 2013  2001  \n",
       "18217  Tue Jan 01 00:00:00 EST 2013  1984  \n",
       "18218  Tue Jan 01 00:00:00 EST 2013  1984  \n",
       "18219  Tue Jan 01 00:00:00 EST 2013  1984  \n",
       "18220  Tue Jan 01 00:00:00 EST 2013  1984  \n",
       "18221  Tue Jan 01 00:00:00 EST 2013  1984  \n",
       "18222  Tue Jan 01 00:00:00 EST 2013  1984  \n",
       "18223  Tue Jan 01 00:00:00 EST 2013  1984  \n",
       "...                             ...   ...  \n",
       "20063  Tue Jan 01 00:00:00 EST 2013  1984  \n",
       "20064  Tue Jan 01 00:00:00 EST 2013  1984  \n",
       "20065  Tue Jan 01 00:00:00 EST 2013  1984  \n",
       "20387  Tue Jan 01 00:00:00 EST 2013  1984  \n",
       "21129  Tue Jan 01 00:00:00 EST 2013  2002  \n",
       "23029  Tue Jan 01 00:00:00 EST 2013  1999  \n",
       "23030  Tue Jan 01 00:00:00 EST 2013  1999  \n",
       "23032  Tue Jan 01 00:00:00 EST 2013  1999  \n",
       "23037  Tue Jan 01 00:00:00 EST 2013  1998  \n",
       "23040  Tue Jan 01 00:00:00 EST 2013  2008  \n",
       "\n",
       "[1189 rows x 14 columns]"
      ],
      "text/html": "<div>\n<style scoped>\n    .dataframe tbody tr th:only-of-type {\n        vertical-align: middle;\n    }\n\n    .dataframe tbody tr th {\n        vertical-align: top;\n    }\n\n    .dataframe thead th {\n        text-align: right;\n    }\n</style>\n<table border=\"1\" class=\"dataframe\">\n  <thead>\n    <tr style=\"text-align: right;\">\n      <th></th>\n      <th>city08</th>\n      <th>comb08</th>\n      <th>highway08</th>\n      <th>cylinders</th>\n      <th>displ</th>\n      <th>drive</th>\n      <th>eng_dscr</th>\n      <th>fuelCost08</th>\n      <th>make</th>\n      <th>model</th>\n      <th>trany</th>\n      <th>range</th>\n      <th>createdOn</th>\n      <th>year</th>\n    </tr>\n  </thead>\n  <tbody>\n    <tr>\n      <th>7138</th>\n      <td>81</td>\n      <td>85</td>\n      <td>91</td>\n      <td>NaN</td>\n      <td>NaN</td>\n      <td>NaN</td>\n      <td>NaN</td>\n      <td>800</td>\n      <td>Nissan</td>\n      <td>Altra EV</td>\n      <td>NaN</td>\n      <td>90</td>\n      <td>Tue Jan 01 00:00:00 EST 2013</td>\n      <td>2000</td>\n    </tr>\n    <tr>\n      <th>8144</th>\n      <td>74</td>\n      <td>65</td>\n      <td>58</td>\n      <td>NaN</td>\n      <td>NaN</td>\n      <td>NaN</td>\n      <td>NaN</td>\n      <td>1000</td>\n      <td>Ford</td>\n      <td>Th!nk</td>\n      <td>NaN</td>\n      <td>29</td>\n      <td>Tue Jan 01 00:00:00 EST 2013</td>\n      <td>2001</td>\n    </tr>\n    <tr>\n      <th>8147</th>\n      <td>84</td>\n      <td>75</td>\n      <td>66</td>\n      <td>NaN</td>\n      <td>NaN</td>\n      <td>NaN</td>\n      <td>NaN</td>\n      <td>900</td>\n      <td>Nissan</td>\n      <td>Hyper-Mini</td>\n      <td>NaN</td>\n      <td>33</td>\n      <td>Tue Jan 01 00:00:00 EST 2013</td>\n      <td>2001</td>\n    </tr>\n    <tr>\n      <th>18217</th>\n      <td>18</td>\n      <td>21</td>\n      <td>25</td>\n      <td>4.0</td>\n      <td>2.0</td>\n      <td>NaN</td>\n      <td>(FFS)</td>\n      <td>2000</td>\n      <td>Alfa Romeo</td>\n      <td>Spider Veloce 2000</td>\n      <td>Manual 5-spd</td>\n      <td>0</td>\n      <td>Tue Jan 01 00:00:00 EST 2013</td>\n      <td>1984</td>\n    </tr>\n    <tr>\n      <th>18218</th>\n      <td>20</td>\n      <td>22</td>\n      <td>26</td>\n      <td>4.0</td>\n      <td>1.5</td>\n      <td>NaN</td>\n      <td>(FFS)</td>\n      <td>1900</td>\n      <td>Bertone</td>\n      <td>X1/9</td>\n      <td>Manual 5-spd</td>\n      <td>0</td>\n      <td>Tue Jan 01 00:00:00 EST 2013</td>\n      <td>1984</td>\n    </tr>\n    <tr>\n      <th>18219</th>\n      <td>13</td>\n      <td>15</td>\n      <td>20</td>\n      <td>8.0</td>\n      <td>5.7</td>\n      <td>NaN</td>\n      <td>(350 V8) (FFS)</td>\n      <td>2800</td>\n      <td>Chevrolet</td>\n      <td>Corvette</td>\n      <td>Automatic 4-spd</td>\n      <td>0</td>\n      <td>Tue Jan 01 00:00:00 EST 2013</td>\n      <td>1984</td>\n    </tr>\n    <tr>\n      <th>18220</th>\n      <td>13</td>\n      <td>15</td>\n      <td>20</td>\n      <td>8.0</td>\n      <td>5.7</td>\n      <td>NaN</td>\n      <td>(350 V8) (FFS)</td>\n      <td>2800</td>\n      <td>Chevrolet</td>\n      <td>Corvette</td>\n      <td>Manual 4-spd</td>\n      <td>0</td>\n      <td>Tue Jan 01 00:00:00 EST 2013</td>\n      <td>1984</td>\n    </tr>\n    <tr>\n      <th>18221</th>\n      <td>15</td>\n      <td>17</td>\n      <td>20</td>\n      <td>6.0</td>\n      <td>3.0</td>\n      <td>NaN</td>\n      <td>(FFS,TRBO)</td>\n      <td>2500</td>\n      <td>Nissan</td>\n      <td>300ZX</td>\n      <td>Automatic 4-spd</td>\n      <td>0</td>\n      <td>Tue Jan 01 00:00:00 EST 2013</td>\n      <td>1984</td>\n    </tr>\n    <tr>\n      <th>18222</th>\n      <td>16</td>\n      <td>18</td>\n      <td>20</td>\n      <td>6.0</td>\n      <td>3.0</td>\n      <td>NaN</td>\n      <td>(FFS)</td>\n      <td>2350</td>\n      <td>Nissan</td>\n      <td>300ZX</td>\n      <td>Automatic 4-spd</td>\n      <td>0</td>\n      <td>Tue Jan 01 00:00:00 EST 2013</td>\n      <td>1984</td>\n    </tr>\n    <tr>\n      <th>18223</th>\n      <td>16</td>\n      <td>18</td>\n      <td>22</td>\n      <td>6.0</td>\n      <td>3.0</td>\n      <td>NaN</td>\n      <td>(FFS,TRBO)</td>\n      <td>2350</td>\n      <td>Nissan</td>\n      <td>300ZX</td>\n      <td>Manual 5-spd</td>\n      <td>0</td>\n      <td>Tue Jan 01 00:00:00 EST 2013</td>\n      <td>1984</td>\n    </tr>\n    <tr>\n      <th>...</th>\n      <td>...</td>\n      <td>...</td>\n      <td>...</td>\n      <td>...</td>\n      <td>...</td>\n      <td>...</td>\n      <td>...</td>\n      <td>...</td>\n      <td>...</td>\n      <td>...</td>\n      <td>...</td>\n      <td>...</td>\n      <td>...</td>\n      <td>...</td>\n    </tr>\n    <tr>\n      <th>20063</th>\n      <td>13</td>\n      <td>15</td>\n      <td>19</td>\n      <td>8.0</td>\n      <td>5.0</td>\n      <td>NaN</td>\n      <td>(FFS) CA model</td>\n      <td>2800</td>\n      <td>Mercury</td>\n      <td>Grand Marquis Wagon</td>\n      <td>Automatic 4-spd</td>\n      <td>0</td>\n      <td>Tue Jan 01 00:00:00 EST 2013</td>\n      <td>1984</td>\n    </tr>\n    <tr>\n      <th>20064</th>\n      <td>13</td>\n      <td>15</td>\n      <td>20</td>\n      <td>8.0</td>\n      <td>5.0</td>\n      <td>NaN</td>\n      <td>(GM-OLDS) CA model</td>\n      <td>2800</td>\n      <td>Oldsmobile</td>\n      <td>Custom Cruiser Wagon</td>\n      <td>Automatic 4-spd</td>\n      <td>0</td>\n      <td>Tue Jan 01 00:00:00 EST 2013</td>\n      <td>1984</td>\n    </tr>\n    <tr>\n      <th>20065</th>\n      <td>14</td>\n      <td>16</td>\n      <td>19</td>\n      <td>8.0</td>\n      <td>5.0</td>\n      <td>NaN</td>\n      <td>(GM-CHEV) CA model</td>\n      <td>2650</td>\n      <td>Pontiac</td>\n      <td>Parisienne Wagon</td>\n      <td>Automatic 4-spd</td>\n      <td>0</td>\n      <td>Tue Jan 01 00:00:00 EST 2013</td>\n      <td>1984</td>\n    </tr>\n    <tr>\n      <th>20387</th>\n      <td>14</td>\n      <td>14</td>\n      <td>15</td>\n      <td>4.0</td>\n      <td>2.4</td>\n      <td>NaN</td>\n      <td>(FFS) CA model</td>\n      <td>3000</td>\n      <td>Nissan</td>\n      <td>Pickup Cab Chassis</td>\n      <td>Manual 5-spd</td>\n      <td>0</td>\n      <td>Tue Jan 01 00:00:00 EST 2013</td>\n      <td>1984</td>\n    </tr>\n    <tr>\n      <th>21129</th>\n      <td>14</td>\n      <td>16</td>\n      <td>21</td>\n      <td>8.0</td>\n      <td>3.5</td>\n      <td>NaN</td>\n      <td>GUZZLER  FFS,TURBO</td>\n      <td>3250</td>\n      <td>Lotus</td>\n      <td>Esprit V8</td>\n      <td>Manual 5-spd</td>\n      <td>0</td>\n      <td>Tue Jan 01 00:00:00 EST 2013</td>\n      <td>2002</td>\n    </tr>\n    <tr>\n      <th>23029</th>\n      <td>79</td>\n      <td>85</td>\n      <td>94</td>\n      <td>NaN</td>\n      <td>NaN</td>\n      <td>NaN</td>\n      <td>Lead Acid</td>\n      <td>800</td>\n      <td>GMC</td>\n      <td>EV1</td>\n      <td>Automatic (A1)</td>\n      <td>55</td>\n      <td>Tue Jan 01 00:00:00 EST 2013</td>\n      <td>1999</td>\n    </tr>\n    <tr>\n      <th>23030</th>\n      <td>35</td>\n      <td>37</td>\n      <td>39</td>\n      <td>NaN</td>\n      <td>NaN</td>\n      <td>NaN</td>\n      <td>NiMH</td>\n      <td>1750</td>\n      <td>GMC</td>\n      <td>EV1</td>\n      <td>Automatic (A1)</td>\n      <td>105</td>\n      <td>Tue Jan 01 00:00:00 EST 2013</td>\n      <td>1999</td>\n    </tr>\n    <tr>\n      <th>23032</th>\n      <td>49</td>\n      <td>48</td>\n      <td>46</td>\n      <td>NaN</td>\n      <td>NaN</td>\n      <td>NaN</td>\n      <td>NaN</td>\n      <td>1400</td>\n      <td>Honda</td>\n      <td>EV Plus</td>\n      <td>Automatic (A1)</td>\n      <td>81</td>\n      <td>Tue Jan 01 00:00:00 EST 2013</td>\n      <td>1999</td>\n    </tr>\n    <tr>\n      <th>23037</th>\n      <td>49</td>\n      <td>48</td>\n      <td>46</td>\n      <td>NaN</td>\n      <td>NaN</td>\n      <td>NaN</td>\n      <td>NaN</td>\n      <td>1400</td>\n      <td>Honda</td>\n      <td>EV Plus</td>\n      <td>Automatic (A1)</td>\n      <td>81</td>\n      <td>Tue Jan 01 00:00:00 EST 2013</td>\n      <td>1998</td>\n    </tr>\n    <tr>\n      <th>23040</th>\n      <td>102</td>\n      <td>98</td>\n      <td>94</td>\n      <td>NaN</td>\n      <td>NaN</td>\n      <td>NaN</td>\n      <td>NaN</td>\n      <td>650</td>\n      <td>MINI</td>\n      <td>MiniE</td>\n      <td>Automatic (A1)</td>\n      <td>100</td>\n      <td>Tue Jan 01 00:00:00 EST 2013</td>\n      <td>2008</td>\n    </tr>\n  </tbody>\n</table>\n<p>1189 rows × 14 columns</p>\n</div>"
     },
     "metadata": {},
     "execution_count": 49
    }
   ],
   "source": [
    "# where are the values missing for drive?\n",
    "(autos[cols]\n",
    ".query('drive.isna()'))"
   ]
  },
  {
   "cell_type": "code",
   "execution_count": 52,
   "metadata": {},
   "outputs": [
    {
     "output_type": "execute_result",
     "data": {
      "text/plain": [
       "12094247"
      ]
     },
     "metadata": {},
     "execution_count": 52
    }
   ],
   "source": [
    "# drive and make (in .astype) to category\n",
    "(autos[cols]\n",
    " .assign(cylinders=autos.cylinders.fillna(0).astype('int8'),\n",
    " displ=autos.displ.fillna(0).astype('float16'),\n",
    " drive=autos.drive.fillna('Other').astype('category'))\n",
    ".astype({'highway08': 'int8', 'city08':'int16','comb08':'int16',\n",
    "        'fuelCost08':'int16','range':'int16','year':'int16',\n",
    "        'make': 'category'})\n",
    "    .memory_usage(deep=True)\n",
    "    .sum()\n",
    ")"
   ]
  },
  {
   "cell_type": "code",
   "execution_count": 56,
   "metadata": {},
   "outputs": [
    {
     "output_type": "execute_result",
     "data": {
      "text/plain": [
       "Automatic 4-spd                     11047\n",
       "Manual 5-spd                         8361\n",
       "Automatic 3-spd                      3151\n",
       "Automatic (S6)                       3106\n",
       "Manual 6-spd                         2757\n",
       "Automatic 5-spd                      2203\n",
       "Automatic (S8)                       1665\n",
       "Automatic 6-spd                      1619\n",
       "Manual 4-spd                         1483\n",
       "Automatic (S5)                        833\n",
       "Automatic (variable gear ratios)      826\n",
       "Automatic 7-spd                       724\n",
       "Automatic 8-spd                       433\n",
       "Automatic (AM-S7)                     424\n",
       "Automatic (S7)                        327\n",
       "Automatic 9-spd                       293\n",
       "Automatic (AM7)                       245\n",
       "Automatic (S4)                        233\n",
       "Automatic (AV-S6)                     208\n",
       "Automatic (A1)                        201\n",
       "Automatic (AM6)                       151\n",
       "Automatic (AV-S7)                     139\n",
       "Automatic (S10)                       124\n",
       "Automatic (AM-S6)                     116\n",
       "Manual 7-spd                          114\n",
       "Automatic (S9)                         86\n",
       "Manual 3-spd                           77\n",
       "Automatic (AM-S8)                      60\n",
       "Automatic (AV-S8)                      47\n",
       "Automatic 10-spd                       25\n",
       "Manual 4-spd Doubled                   17\n",
       "Automatic (AM5)                        14\n",
       "Automatic (AV-S10)                     11\n",
       "NaN                                    11\n",
       "Automatic (AM8)                         6\n",
       "Automatic (AM-S9)                       3\n",
       "Automatic (L3)                          2\n",
       "Automatic (L4)                          2\n",
       "Name: trany, dtype: int64"
      ]
     },
     "metadata": {},
     "execution_count": 56
    }
   ],
   "source": [
    "# let's inspect trany\n",
    "# seems to represent two pieces of data, automatic/manual and gear speds\n",
    "autos.trany.value_counts(dropna=False)"
   ]
  },
  {
   "cell_type": "code",
   "execution_count": 61,
   "metadata": {},
   "outputs": [
    {
     "output_type": "execute_result",
     "data": {
      "text/plain": [
       "10632019"
      ]
     },
     "metadata": {},
     "execution_count": 61
    }
   ],
   "source": [
    "# add automatic, speeds from trany, then drop trany\n",
    "(autos[cols]\n",
    " .assign(cylinders=autos.cylinders.fillna(0).astype('int8'),\n",
    " displ=autos.displ.fillna(0).astype('float16'),\n",
    " drive=autos.drive.fillna('Other').astype('category'),\n",
    " automatic=autos.trany.str.contains('Auto'),\n",
    " speeds=autos.trany.str.extract('r(\\d)+').fillna('20').astype('int8')\n",
    " )\n",
    ".astype({'highway08': 'int8', 'city08':'int16','comb08':'int16',\n",
    "        'fuelCost08':'int16','range':'int16','year':'int16',\n",
    "        'make': 'category'})\n",
    ".drop(columns=['trany'])\n",
    ".memory_usage(deep=True)\n",
    ".sum()\n",
    ")"
   ]
  },
  {
   "cell_type": "markdown",
   "metadata": {},
   "source": [
    "## Dates"
   ]
  },
  {
   "cell_type": "code",
   "execution_count": 63,
   "metadata": {},
   "outputs": [
    {
     "output_type": "execute_result",
     "data": {
      "text/plain": [
       "7463931"
      ]
     },
     "metadata": {},
     "execution_count": 63
    }
   ],
   "source": [
    "# add createdOn\n",
    "(autos[cols]\n",
    " .assign(cylinders=autos.cylinders.fillna(0).astype('int8'),\n",
    " displ=autos.displ.fillna(0).astype('float16'),\n",
    " drive=autos.drive.fillna('Other').astype('category'),\n",
    " automatic=autos.trany.str.contains('Auto'),\n",
    " speeds=autos.trany.str.extract('r(\\d)+').fillna('20').astype('int8'), createdOn=pd.to_datetime(autos.createdOn).dt.tz_localize('America/New_York')\n",
    " )\n",
    ".astype({'highway08': 'int8', 'city08':'int16','comb08':'int16',\n",
    "        'fuelCost08':'int16','range':'int16','year':'int16',\n",
    "        'make': 'category'})\n",
    ".drop(columns=['trany'])\n",
    ".memory_usage(deep=True)\n",
    ".sum()\n",
    ")"
   ]
  },
  {
   "cell_type": "code",
   "execution_count": 64,
   "metadata": {},
   "outputs": [
    {
     "output_type": "execute_result",
     "data": {
      "text/plain": [
       "0        Tue Jan 01 00:00:00 EST 2013\n",
       "1        Tue Jan 01 00:00:00 EST 2013\n",
       "2        Tue Jan 01 00:00:00 EST 2013\n",
       "3        Tue Jan 01 00:00:00 EST 2013\n",
       "4        Tue Jan 01 00:00:00 EST 2013\n",
       "5        Tue Jan 01 00:00:00 EST 2013\n",
       "6        Tue Jan 01 00:00:00 EST 2013\n",
       "7        Tue Jan 01 00:00:00 EST 2013\n",
       "8        Tue Jan 01 00:00:00 EST 2013\n",
       "9        Tue Jan 01 00:00:00 EST 2013\n",
       "                     ...             \n",
       "41134    Tue Jan 01 00:00:00 EST 2013\n",
       "41135    Tue Jan 01 00:00:00 EST 2013\n",
       "41136    Tue Jan 01 00:00:00 EST 2013\n",
       "41137    Tue Jan 01 00:00:00 EST 2013\n",
       "41138    Tue Jan 01 00:00:00 EST 2013\n",
       "41139    Tue Jan 01 00:00:00 EST 2013\n",
       "41140    Tue Jan 01 00:00:00 EST 2013\n",
       "41141    Tue Jan 01 00:00:00 EST 2013\n",
       "41142    Tue Jan 01 00:00:00 EST 2013\n",
       "41143    Tue Jan 01 00:00:00 EST 2013\n",
       "Name: createdOn, Length: 41144, dtype: object"
      ]
     },
     "metadata": {},
     "execution_count": 64
    }
   ],
   "source": [
    "autos[cols].createdOn"
   ]
  },
  {
   "cell_type": "code",
   "execution_count": 66,
   "metadata": {},
   "outputs": [
    {
     "output_type": "execute_result",
     "data": {
      "text/plain": [
       "NaN                                   16153\n",
       "(FFS)                                  8827\n",
       "SIDI                                   5526\n",
       "(FFS) CA model                          926\n",
       "(FFS)      (MPFI)                       734\n",
       "FFV                                     701\n",
       "(FFS,TRBO)                              666\n",
       "(350 V8) (FFS)                          411\n",
       "(GUZZLER)  (FFS)                        366\n",
       "SOHC                                    354\n",
       "                                      ...  \n",
       "54RA12                                    1\n",
       "5.4V-R                                    1\n",
       "B308E5 FFS,TURBO                          1\n",
       "California Emission Control System        1\n",
       "B234E4 (FFS,TRBO)                         1\n",
       "Sport Transmission                        1\n",
       "5.4V-4                                    1\n",
       "DSL, TRBO                                 1\n",
       "SIDI; PZEV (SULEV) Emissions              1\n",
       "DVVT                                      1\n",
       "Name: eng_dscr, Length: 558, dtype: int64"
      ]
     },
     "metadata": {},
     "execution_count": 66
    }
   ],
   "source": [
    "# fix the EST/EDT time\n",
    "(autos[cols]\n",
    " .assign(cylinders=autos.cylinders.fillna(0).astype('int8'),\n",
    " displ=autos.displ.fillna(0).astype('float16'),\n",
    " drive=autos.drive.fillna('Other').astype('category'),\n",
    " automatic=autos.trany.str.contains('Auto'),\n",
    " speeds=autos.trany.str.extract('r(\\d)+').fillna('20').astype('int8'), createdOn=pd.to_datetime(autos.createdOn.replace({'EDT': '-04:00', 'EST': '-05:00'}, regex=True))\n",
    " )\n",
    ".astype({'highway08': 'int8', 'city08':'int16','comb08':'int16',\n",
    "        'fuelCost08':'int16','range':'int16','year':'int16',\n",
    "        'make': 'category'})\n",
    ".drop(columns=['trany'])\n",
    ".eng_dscr\n",
    ".value_counts(dropna=False)\n",
    ")"
   ]
  },
  {
   "cell_type": "code",
   "execution_count": 67,
   "metadata": {},
   "outputs": [
    {
     "output_type": "execute_result",
     "data": {
      "text/plain": [
       "8677186"
      ]
     },
     "metadata": {},
     "execution_count": 67
    }
   ],
   "source": [
    "# add FFS and drop eng_descr\n",
    "(autos[cols]\n",
    " .assign(cylinders=autos.cylinders.fillna(0).astype('int8'),\n",
    " displ=autos.displ.fillna(0).astype('float16'),\n",
    " drive=autos.drive.fillna('Other').astype('category'),\n",
    " automatic=autos.trany.str.contains('Auto'),\n",
    " speeds=autos.trany.str.extract('r(\\d)+').fillna('20').astype('int8'), createdOn=pd.to_datetime(autos.createdOn.replace({'EDT': '-04:00', 'EST': '-05:00'}, regex=True)),\n",
    " ffs=autos.eng_dscr.str.contains('FFS')\n",
    " )\n",
    ".astype({'highway08': 'int8', 'city08':'int16','comb08':'int16',\n",
    "        'fuelCost08':'int16','range':'int16','year':'int16',\n",
    "        'make': 'category'})\n",
    ".drop(columns=['trany','eng_dscr'])\n",
    ".memory_usage(deep=True)\n",
    ".sum()\n",
    ")"
   ]
  },
  {
   "cell_type": "code",
   "execution_count": 70,
   "metadata": {},
   "outputs": [
    {
     "output_type": "execute_result",
     "data": {
      "text/plain": [
       "       city08  comb08  highway08  cylinders     displ  \\\n",
       "0          19      21         25          4  2.000000   \n",
       "1           9      11         14         12  4.898438   \n",
       "2          23      27         33          4  2.199219   \n",
       "3          10      11         12          8  5.199219   \n",
       "4          17      19         23          4  2.199219   \n",
       "5          21      22         24          4  1.799805   \n",
       "6          22      25         29          4  1.799805   \n",
       "7          23      24         26          4  1.599609   \n",
       "8          23      26         31          4  1.599609   \n",
       "9          23      25         30          4  1.799805   \n",
       "...       ...     ...        ...        ...       ...   \n",
       "41134      18      20         24          4  2.099609   \n",
       "41135      23      26         33          4  1.900391   \n",
       "41136      21      24         30          4  1.900391   \n",
       "41137      24      28         33          4  1.900391   \n",
       "41138      21      25         32          4  1.900391   \n",
       "41139      19      22         26          4  2.199219   \n",
       "41140      20      23         28          4  2.199219   \n",
       "41141      18      21         24          4  2.199219   \n",
       "41142      18      21         24          4  2.199219   \n",
       "41143      16      18         21          4  2.199219   \n",
       "\n",
       "                            drive  fuelCost08        make  \\\n",
       "0                Rear-Wheel Drive        2000  Alfa Romeo   \n",
       "1                Rear-Wheel Drive        3850     Ferrari   \n",
       "2               Front-Wheel Drive        1550       Dodge   \n",
       "3                Rear-Wheel Drive        3850       Dodge   \n",
       "4      4-Wheel or All-Wheel Drive        2700      Subaru   \n",
       "5               Front-Wheel Drive        1900      Subaru   \n",
       "6               Front-Wheel Drive        1700      Subaru   \n",
       "7               Front-Wheel Drive        1750      Toyota   \n",
       "8               Front-Wheel Drive        1600      Toyota   \n",
       "9               Front-Wheel Drive        1700      Toyota   \n",
       "...                           ...         ...         ...   \n",
       "41134           Front-Wheel Drive        2100        Saab   \n",
       "41135           Front-Wheel Drive        1600      Saturn   \n",
       "41136           Front-Wheel Drive        1750      Saturn   \n",
       "41137           Front-Wheel Drive        1500      Saturn   \n",
       "41138           Front-Wheel Drive        1700      Saturn   \n",
       "41139           Front-Wheel Drive        1900      Subaru   \n",
       "41140           Front-Wheel Drive        1850      Subaru   \n",
       "41141  4-Wheel or All-Wheel Drive        2000      Subaru   \n",
       "41142  4-Wheel or All-Wheel Drive        2000      Subaru   \n",
       "41143  4-Wheel or All-Wheel Drive        2900      Subaru   \n",
       "\n",
       "                     model  range                  createdOn  year automatic  \\\n",
       "0       Spider Veloce 2000      0  2013-01-01 00:00:00-05:00  1985     False   \n",
       "1               Testarossa      0  2013-01-01 00:00:00-05:00  1985     False   \n",
       "2                  Charger      0  2013-01-01 00:00:00-05:00  1985     False   \n",
       "3      B150/B250 Wagon 2WD      0  2013-01-01 00:00:00-05:00  1985      True   \n",
       "4         Legacy AWD Turbo      0  2013-01-01 00:00:00-05:00  1993     False   \n",
       "5                   Loyale      0  2013-01-01 00:00:00-05:00  1993      True   \n",
       "6                   Loyale      0  2013-01-01 00:00:00-05:00  1993     False   \n",
       "7                  Corolla      0  2013-01-01 00:00:00-05:00  1993      True   \n",
       "8                  Corolla      0  2013-01-01 00:00:00-05:00  1993     False   \n",
       "9                  Corolla      0  2013-01-01 00:00:00-05:00  1993      True   \n",
       "...                    ...    ...                        ...   ...       ...   \n",
       "41134                  900      0  2013-01-01 00:00:00-05:00  1993     False   \n",
       "41135                   SL      0  2013-01-01 00:00:00-05:00  1993      True   \n",
       "41136                   SL      0  2013-01-01 00:00:00-05:00  1993      True   \n",
       "41137                   SL      0  2013-01-01 00:00:00-05:00  1993     False   \n",
       "41138                   SL      0  2013-01-01 00:00:00-05:00  1993     False   \n",
       "41139               Legacy      0  2013-01-01 00:00:00-05:00  1993      True   \n",
       "41140               Legacy      0  2013-01-01 00:00:00-05:00  1993     False   \n",
       "41141           Legacy AWD      0  2013-01-01 00:00:00-05:00  1993      True   \n",
       "41142           Legacy AWD      0  2013-01-01 00:00:00-05:00  1993     False   \n",
       "41143     Legacy AWD Turbo      0  2013-01-01 00:00:00-05:00  1993      True   \n",
       "\n",
       "       speeds    ffs  \n",
       "0          20   True  \n",
       "1          20  False  \n",
       "2          20   True  \n",
       "3          20    NaN  \n",
       "4          20   True  \n",
       "5          20   True  \n",
       "6          20   True  \n",
       "7          20   True  \n",
       "8          20   True  \n",
       "9          20   True  \n",
       "...       ...    ...  \n",
       "41134      20   True  \n",
       "41135      20   True  \n",
       "41136      20   True  \n",
       "41137      20   True  \n",
       "41138      20   True  \n",
       "41139      20   True  \n",
       "41140      20   True  \n",
       "41141      20   True  \n",
       "41142      20   True  \n",
       "41143      20   True  \n",
       "\n",
       "[41144 rows x 15 columns]"
      ],
      "text/html": "<div>\n<style scoped>\n    .dataframe tbody tr th:only-of-type {\n        vertical-align: middle;\n    }\n\n    .dataframe tbody tr th {\n        vertical-align: top;\n    }\n\n    .dataframe thead th {\n        text-align: right;\n    }\n</style>\n<table border=\"1\" class=\"dataframe\">\n  <thead>\n    <tr style=\"text-align: right;\">\n      <th></th>\n      <th>city08</th>\n      <th>comb08</th>\n      <th>highway08</th>\n      <th>cylinders</th>\n      <th>displ</th>\n      <th>drive</th>\n      <th>fuelCost08</th>\n      <th>make</th>\n      <th>model</th>\n      <th>range</th>\n      <th>createdOn</th>\n      <th>year</th>\n      <th>automatic</th>\n      <th>speeds</th>\n      <th>ffs</th>\n    </tr>\n  </thead>\n  <tbody>\n    <tr>\n      <th>0</th>\n      <td>19</td>\n      <td>21</td>\n      <td>25</td>\n      <td>4</td>\n      <td>2.000000</td>\n      <td>Rear-Wheel Drive</td>\n      <td>2000</td>\n      <td>Alfa Romeo</td>\n      <td>Spider Veloce 2000</td>\n      <td>0</td>\n      <td>2013-01-01 00:00:00-05:00</td>\n      <td>1985</td>\n      <td>False</td>\n      <td>20</td>\n      <td>True</td>\n    </tr>\n    <tr>\n      <th>1</th>\n      <td>9</td>\n      <td>11</td>\n      <td>14</td>\n      <td>12</td>\n      <td>4.898438</td>\n      <td>Rear-Wheel Drive</td>\n      <td>3850</td>\n      <td>Ferrari</td>\n      <td>Testarossa</td>\n      <td>0</td>\n      <td>2013-01-01 00:00:00-05:00</td>\n      <td>1985</td>\n      <td>False</td>\n      <td>20</td>\n      <td>False</td>\n    </tr>\n    <tr>\n      <th>2</th>\n      <td>23</td>\n      <td>27</td>\n      <td>33</td>\n      <td>4</td>\n      <td>2.199219</td>\n      <td>Front-Wheel Drive</td>\n      <td>1550</td>\n      <td>Dodge</td>\n      <td>Charger</td>\n      <td>0</td>\n      <td>2013-01-01 00:00:00-05:00</td>\n      <td>1985</td>\n      <td>False</td>\n      <td>20</td>\n      <td>True</td>\n    </tr>\n    <tr>\n      <th>3</th>\n      <td>10</td>\n      <td>11</td>\n      <td>12</td>\n      <td>8</td>\n      <td>5.199219</td>\n      <td>Rear-Wheel Drive</td>\n      <td>3850</td>\n      <td>Dodge</td>\n      <td>B150/B250 Wagon 2WD</td>\n      <td>0</td>\n      <td>2013-01-01 00:00:00-05:00</td>\n      <td>1985</td>\n      <td>True</td>\n      <td>20</td>\n      <td>NaN</td>\n    </tr>\n    <tr>\n      <th>4</th>\n      <td>17</td>\n      <td>19</td>\n      <td>23</td>\n      <td>4</td>\n      <td>2.199219</td>\n      <td>4-Wheel or All-Wheel Drive</td>\n      <td>2700</td>\n      <td>Subaru</td>\n      <td>Legacy AWD Turbo</td>\n      <td>0</td>\n      <td>2013-01-01 00:00:00-05:00</td>\n      <td>1993</td>\n      <td>False</td>\n      <td>20</td>\n      <td>True</td>\n    </tr>\n    <tr>\n      <th>5</th>\n      <td>21</td>\n      <td>22</td>\n      <td>24</td>\n      <td>4</td>\n      <td>1.799805</td>\n      <td>Front-Wheel Drive</td>\n      <td>1900</td>\n      <td>Subaru</td>\n      <td>Loyale</td>\n      <td>0</td>\n      <td>2013-01-01 00:00:00-05:00</td>\n      <td>1993</td>\n      <td>True</td>\n      <td>20</td>\n      <td>True</td>\n    </tr>\n    <tr>\n      <th>6</th>\n      <td>22</td>\n      <td>25</td>\n      <td>29</td>\n      <td>4</td>\n      <td>1.799805</td>\n      <td>Front-Wheel Drive</td>\n      <td>1700</td>\n      <td>Subaru</td>\n      <td>Loyale</td>\n      <td>0</td>\n      <td>2013-01-01 00:00:00-05:00</td>\n      <td>1993</td>\n      <td>False</td>\n      <td>20</td>\n      <td>True</td>\n    </tr>\n    <tr>\n      <th>7</th>\n      <td>23</td>\n      <td>24</td>\n      <td>26</td>\n      <td>4</td>\n      <td>1.599609</td>\n      <td>Front-Wheel Drive</td>\n      <td>1750</td>\n      <td>Toyota</td>\n      <td>Corolla</td>\n      <td>0</td>\n      <td>2013-01-01 00:00:00-05:00</td>\n      <td>1993</td>\n      <td>True</td>\n      <td>20</td>\n      <td>True</td>\n    </tr>\n    <tr>\n      <th>8</th>\n      <td>23</td>\n      <td>26</td>\n      <td>31</td>\n      <td>4</td>\n      <td>1.599609</td>\n      <td>Front-Wheel Drive</td>\n      <td>1600</td>\n      <td>Toyota</td>\n      <td>Corolla</td>\n      <td>0</td>\n      <td>2013-01-01 00:00:00-05:00</td>\n      <td>1993</td>\n      <td>False</td>\n      <td>20</td>\n      <td>True</td>\n    </tr>\n    <tr>\n      <th>9</th>\n      <td>23</td>\n      <td>25</td>\n      <td>30</td>\n      <td>4</td>\n      <td>1.799805</td>\n      <td>Front-Wheel Drive</td>\n      <td>1700</td>\n      <td>Toyota</td>\n      <td>Corolla</td>\n      <td>0</td>\n      <td>2013-01-01 00:00:00-05:00</td>\n      <td>1993</td>\n      <td>True</td>\n      <td>20</td>\n      <td>True</td>\n    </tr>\n    <tr>\n      <th>...</th>\n      <td>...</td>\n      <td>...</td>\n      <td>...</td>\n      <td>...</td>\n      <td>...</td>\n      <td>...</td>\n      <td>...</td>\n      <td>...</td>\n      <td>...</td>\n      <td>...</td>\n      <td>...</td>\n      <td>...</td>\n      <td>...</td>\n      <td>...</td>\n      <td>...</td>\n    </tr>\n    <tr>\n      <th>41134</th>\n      <td>18</td>\n      <td>20</td>\n      <td>24</td>\n      <td>4</td>\n      <td>2.099609</td>\n      <td>Front-Wheel Drive</td>\n      <td>2100</td>\n      <td>Saab</td>\n      <td>900</td>\n      <td>0</td>\n      <td>2013-01-01 00:00:00-05:00</td>\n      <td>1993</td>\n      <td>False</td>\n      <td>20</td>\n      <td>True</td>\n    </tr>\n    <tr>\n      <th>41135</th>\n      <td>23</td>\n      <td>26</td>\n      <td>33</td>\n      <td>4</td>\n      <td>1.900391</td>\n      <td>Front-Wheel Drive</td>\n      <td>1600</td>\n      <td>Saturn</td>\n      <td>SL</td>\n      <td>0</td>\n      <td>2013-01-01 00:00:00-05:00</td>\n      <td>1993</td>\n      <td>True</td>\n      <td>20</td>\n      <td>True</td>\n    </tr>\n    <tr>\n      <th>41136</th>\n      <td>21</td>\n      <td>24</td>\n      <td>30</td>\n      <td>4</td>\n      <td>1.900391</td>\n      <td>Front-Wheel Drive</td>\n      <td>1750</td>\n      <td>Saturn</td>\n      <td>SL</td>\n      <td>0</td>\n      <td>2013-01-01 00:00:00-05:00</td>\n      <td>1993</td>\n      <td>True</td>\n      <td>20</td>\n      <td>True</td>\n    </tr>\n    <tr>\n      <th>41137</th>\n      <td>24</td>\n      <td>28</td>\n      <td>33</td>\n      <td>4</td>\n      <td>1.900391</td>\n      <td>Front-Wheel Drive</td>\n      <td>1500</td>\n      <td>Saturn</td>\n      <td>SL</td>\n      <td>0</td>\n      <td>2013-01-01 00:00:00-05:00</td>\n      <td>1993</td>\n      <td>False</td>\n      <td>20</td>\n      <td>True</td>\n    </tr>\n    <tr>\n      <th>41138</th>\n      <td>21</td>\n      <td>25</td>\n      <td>32</td>\n      <td>4</td>\n      <td>1.900391</td>\n      <td>Front-Wheel Drive</td>\n      <td>1700</td>\n      <td>Saturn</td>\n      <td>SL</td>\n      <td>0</td>\n      <td>2013-01-01 00:00:00-05:00</td>\n      <td>1993</td>\n      <td>False</td>\n      <td>20</td>\n      <td>True</td>\n    </tr>\n    <tr>\n      <th>41139</th>\n      <td>19</td>\n      <td>22</td>\n      <td>26</td>\n      <td>4</td>\n      <td>2.199219</td>\n      <td>Front-Wheel Drive</td>\n      <td>1900</td>\n      <td>Subaru</td>\n      <td>Legacy</td>\n      <td>0</td>\n      <td>2013-01-01 00:00:00-05:00</td>\n      <td>1993</td>\n      <td>True</td>\n      <td>20</td>\n      <td>True</td>\n    </tr>\n    <tr>\n      <th>41140</th>\n      <td>20</td>\n      <td>23</td>\n      <td>28</td>\n      <td>4</td>\n      <td>2.199219</td>\n      <td>Front-Wheel Drive</td>\n      <td>1850</td>\n      <td>Subaru</td>\n      <td>Legacy</td>\n      <td>0</td>\n      <td>2013-01-01 00:00:00-05:00</td>\n      <td>1993</td>\n      <td>False</td>\n      <td>20</td>\n      <td>True</td>\n    </tr>\n    <tr>\n      <th>41141</th>\n      <td>18</td>\n      <td>21</td>\n      <td>24</td>\n      <td>4</td>\n      <td>2.199219</td>\n      <td>4-Wheel or All-Wheel Drive</td>\n      <td>2000</td>\n      <td>Subaru</td>\n      <td>Legacy AWD</td>\n      <td>0</td>\n      <td>2013-01-01 00:00:00-05:00</td>\n      <td>1993</td>\n      <td>True</td>\n      <td>20</td>\n      <td>True</td>\n    </tr>\n    <tr>\n      <th>41142</th>\n      <td>18</td>\n      <td>21</td>\n      <td>24</td>\n      <td>4</td>\n      <td>2.199219</td>\n      <td>4-Wheel or All-Wheel Drive</td>\n      <td>2000</td>\n      <td>Subaru</td>\n      <td>Legacy AWD</td>\n      <td>0</td>\n      <td>2013-01-01 00:00:00-05:00</td>\n      <td>1993</td>\n      <td>False</td>\n      <td>20</td>\n      <td>True</td>\n    </tr>\n    <tr>\n      <th>41143</th>\n      <td>16</td>\n      <td>18</td>\n      <td>21</td>\n      <td>4</td>\n      <td>2.199219</td>\n      <td>4-Wheel or All-Wheel Drive</td>\n      <td>2900</td>\n      <td>Subaru</td>\n      <td>Legacy AWD Turbo</td>\n      <td>0</td>\n      <td>2013-01-01 00:00:00-05:00</td>\n      <td>1993</td>\n      <td>True</td>\n      <td>20</td>\n      <td>True</td>\n    </tr>\n  </tbody>\n</table>\n<p>41144 rows × 15 columns</p>\n</div>"
     },
     "metadata": {},
     "execution_count": 70
    }
   ],
   "source": [
    "# take chain from above and convert into glorious function\n",
    "def tweak_autos(autos):\n",
    "    cols = ['city08', 'comb08', 'highway08', 'cylinders', 'displ', 'drive', 'eng_dscr','fuelCost08','make','model','trany','range',                 'createdOn','year']\n",
    "    return (autos[cols]\n",
    " .assign(cylinders=autos.cylinders.fillna(0).astype('int8'),\n",
    " displ=autos.displ.fillna(0).astype('float16'),\n",
    " drive=autos.drive.fillna('Other').astype('category'),\n",
    " automatic=autos.trany.str.contains('Auto'),\n",
    " speeds=autos.trany.str.extract('r(\\d)+').fillna('20').astype('int8'), createdOn=pd.to_datetime(autos.createdOn.replace({'EDT': '-04:00', 'EST': '-05:00'}, regex=True)),\n",
    " ffs=autos.eng_dscr.str.contains('FFS')\n",
    " )\n",
    ".astype({'highway08': 'int8', 'city08':'int16','comb08':'int16',\n",
    "        'fuelCost08':'int16','range':'int16','year':'int16',\n",
    "        'make': 'category'})\n",
    ".drop(columns=['trany','eng_dscr'])\n",
    ")\n",
    "\n",
    "tweak_autos(autos)"
   ]
  },
  {
   "cell_type": "markdown",
   "metadata": {},
   "source": [
    "## Chain\n",
    "Chaining is also called \"flow\" programming. Rather than making intermediate variables, just leverage the fact that most operations return a new object and work on that.\n",
    "\n",
    "The chain should read like a recipe of ordered steps. (what we did above)\n",
    "\n",
    "Hint: Leverage .pipe if you cant find a way to chain"
   ]
  },
  {
   "cell_type": "code",
   "execution_count": 100,
   "metadata": {},
   "outputs": [
    {
     "output_type": "execute_result",
     "data": {
      "text/plain": [
       "   city08  comb08  highway08  cylinders     displ                       drive  \\\n",
       "0      19      21         25          4  2.000000            Rear-Wheel Drive   \n",
       "1       9      11         14         12  4.898438            Rear-Wheel Drive   \n",
       "2      23      27         33          4  2.199219           Front-Wheel Drive   \n",
       "3      10      11         12          8  5.199219            Rear-Wheel Drive   \n",
       "4      17      19         23          4  2.199219  4-Wheel or All-Wheel Drive   \n",
       "\n",
       "   fuelCost08        make                model  range  \\\n",
       "0        2000  Alfa Romeo   Spider Veloce 2000      0   \n",
       "1        3850     Ferrari           Testarossa      0   \n",
       "2        1550       Dodge              Charger      0   \n",
       "3        3850       Dodge  B150/B250 Wagon 2WD      0   \n",
       "4        2700      Subaru     Legacy AWD Turbo      0   \n",
       "\n",
       "                   createdOn  year automatic  speeds    ffs  \n",
       "0  2013-01-01 00:00:00-05:00  1985     False      20   True  \n",
       "1  2013-01-01 00:00:00-05:00  1985     False      20  False  \n",
       "2  2013-01-01 00:00:00-05:00  1985     False      20   True  \n",
       "3  2013-01-01 00:00:00-05:00  1985      True      20    NaN  \n",
       "4  2013-01-01 00:00:00-05:00  1993     False      20   True  "
      ],
      "text/html": "<div>\n<style scoped>\n    .dataframe tbody tr th:only-of-type {\n        vertical-align: middle;\n    }\n\n    .dataframe tbody tr th {\n        vertical-align: top;\n    }\n\n    .dataframe thead th {\n        text-align: right;\n    }\n</style>\n<table border=\"1\" class=\"dataframe\">\n  <thead>\n    <tr style=\"text-align: right;\">\n      <th></th>\n      <th>city08</th>\n      <th>comb08</th>\n      <th>highway08</th>\n      <th>cylinders</th>\n      <th>displ</th>\n      <th>drive</th>\n      <th>fuelCost08</th>\n      <th>make</th>\n      <th>model</th>\n      <th>range</th>\n      <th>createdOn</th>\n      <th>year</th>\n      <th>automatic</th>\n      <th>speeds</th>\n      <th>ffs</th>\n    </tr>\n  </thead>\n  <tbody>\n    <tr>\n      <th>0</th>\n      <td>19</td>\n      <td>21</td>\n      <td>25</td>\n      <td>4</td>\n      <td>2.000000</td>\n      <td>Rear-Wheel Drive</td>\n      <td>2000</td>\n      <td>Alfa Romeo</td>\n      <td>Spider Veloce 2000</td>\n      <td>0</td>\n      <td>2013-01-01 00:00:00-05:00</td>\n      <td>1985</td>\n      <td>False</td>\n      <td>20</td>\n      <td>True</td>\n    </tr>\n    <tr>\n      <th>1</th>\n      <td>9</td>\n      <td>11</td>\n      <td>14</td>\n      <td>12</td>\n      <td>4.898438</td>\n      <td>Rear-Wheel Drive</td>\n      <td>3850</td>\n      <td>Ferrari</td>\n      <td>Testarossa</td>\n      <td>0</td>\n      <td>2013-01-01 00:00:00-05:00</td>\n      <td>1985</td>\n      <td>False</td>\n      <td>20</td>\n      <td>False</td>\n    </tr>\n    <tr>\n      <th>2</th>\n      <td>23</td>\n      <td>27</td>\n      <td>33</td>\n      <td>4</td>\n      <td>2.199219</td>\n      <td>Front-Wheel Drive</td>\n      <td>1550</td>\n      <td>Dodge</td>\n      <td>Charger</td>\n      <td>0</td>\n      <td>2013-01-01 00:00:00-05:00</td>\n      <td>1985</td>\n      <td>False</td>\n      <td>20</td>\n      <td>True</td>\n    </tr>\n    <tr>\n      <th>3</th>\n      <td>10</td>\n      <td>11</td>\n      <td>12</td>\n      <td>8</td>\n      <td>5.199219</td>\n      <td>Rear-Wheel Drive</td>\n      <td>3850</td>\n      <td>Dodge</td>\n      <td>B150/B250 Wagon 2WD</td>\n      <td>0</td>\n      <td>2013-01-01 00:00:00-05:00</td>\n      <td>1985</td>\n      <td>True</td>\n      <td>20</td>\n      <td>NaN</td>\n    </tr>\n    <tr>\n      <th>4</th>\n      <td>17</td>\n      <td>19</td>\n      <td>23</td>\n      <td>4</td>\n      <td>2.199219</td>\n      <td>4-Wheel or All-Wheel Drive</td>\n      <td>2700</td>\n      <td>Subaru</td>\n      <td>Legacy AWD Turbo</td>\n      <td>0</td>\n      <td>2013-01-01 00:00:00-05:00</td>\n      <td>1993</td>\n      <td>False</td>\n      <td>20</td>\n      <td>True</td>\n    </tr>\n  </tbody>\n</table>\n</div>"
     },
     "metadata": {},
     "execution_count": 100
    }
   ],
   "source": [
    "def tweak_autos(autos):\n",
    "    cols = ['city08', 'comb08', 'highway08', 'cylinders', 'displ', 'drive', 'eng_dscr','fuelCost08','make','model','trany','range',                 'createdOn','year']\n",
    "    return (autos\n",
    "    [cols]\n",
    "    .assign(cylinders=autos.cylinders.fillna(0).astype('int8'),\n",
    "            displ=autos.displ.fillna(0).astype('float16'),\n",
    "            drive=autos.drive.fillna('Other').astype('category'),\n",
    "            automatic=autos.trany.str.contains('Auto'),\n",
    "            speeds=autos.trany.str.extract('r(\\d)+').fillna('20').astype('int8'), \n",
    "            createdOn=pd.to_datetime(autos.createdOn.replace({'EDT': '-04:00', \n",
    "                'EST': '-05:00'}, regex=True)),\n",
    "            ffs=autos.eng_dscr.str.contains('FFS')\n",
    "        )\n",
    "    .astype({'highway08': 'int8', 'city08':'int16','comb08':'int16',\n",
    "            'fuelCost08':'int16','range':'int16','year':'int16', 'make': 'category'})\n",
    "    .drop(columns=['trany','eng_dscr'])\n",
    ")\n",
    "\n",
    "tweak_autos(autos).head()"
   ]
  },
  {
   "cell_type": "markdown",
   "metadata": {},
   "source": [
    "## Don't Mutate\n",
    "- in general, no performance benefits\n",
    "- prohibits chaining\n",
    "- SettingWiethCopyWarning errors pop up"
   ]
  },
  {
   "cell_type": "markdown",
   "metadata": {},
   "source": [
    "## Don't Apply (if you can)"
   ]
  },
  {
   "cell_type": "code",
   "execution_count": 76,
   "metadata": {},
   "outputs": [],
   "source": [
    "# fn to use L/100km\n",
    "def to_lper100km(val):\n",
    "    return 235.215 / val"
   ]
  },
  {
   "cell_type": "code",
   "execution_count": 77,
   "metadata": {},
   "outputs": [
    {
     "output_type": "stream",
     "name": "stdout",
     "text": [
      "6.11 ms ± 327 µs per loop (mean ± std. dev. of 7 runs, 100 loops each)\n"
     ]
    }
   ],
   "source": [
    "%%timeit\n",
    "autos.city08.apply(to_lper100km)"
   ]
  },
  {
   "cell_type": "code",
   "execution_count": 79,
   "metadata": {},
   "outputs": [
    {
     "output_type": "stream",
     "name": "stdout",
     "text": [
      "138 µs ± 1.36 µs per loop (mean ± std. dev. of 7 runs, 10000 loops each)\n"
     ]
    }
   ],
   "source": [
    "%%timeit\n",
    "# this gives the same results\n",
    "235.215 / autos.city08"
   ]
  },
  {
   "cell_type": "code",
   "execution_count": 81,
   "metadata": {},
   "outputs": [],
   "source": [
    "def is_american(val):\n",
    "    return val in {'Chevrolet','Ford','Dodge','GMC','Tesla'}"
   ]
  },
  {
   "cell_type": "code",
   "execution_count": 82,
   "metadata": {},
   "outputs": [
    {
     "output_type": "stream",
     "name": "stdout",
     "text": [
      "4.87 ms ± 145 µs per loop (mean ± std. dev. of 7 runs, 100 loops each)\n"
     ]
    }
   ],
   "source": [
    "%%timeit\n",
    "autos.make.apply(is_american)"
   ]
  },
  {
   "cell_type": "code",
   "execution_count": 83,
   "metadata": {},
   "outputs": [
    {
     "output_type": "stream",
     "name": "stdout",
     "text": [
      "1.22 ms ± 22.6 µs per loop (mean ± std. dev. of 7 runs, 1000 loops each)\n"
     ]
    }
   ],
   "source": [
    "%%timeit\n",
    "autos.make.isin({'Chevrolet','Ford','Dodge','GMC','Tesla'})"
   ]
  },
  {
   "cell_type": "code",
   "execution_count": 84,
   "metadata": {},
   "outputs": [
    {
     "output_type": "stream",
     "name": "stdout",
     "text": [
      "5.58 ms ± 28.5 µs per loop (mean ± std. dev. of 7 runs, 100 loops each)\n"
     ]
    }
   ],
   "source": [
    "%%timeit\n",
    "# string timings, string timings are slower\n",
    "autos.make.astype(str).isin({'Chevrolet','Ford','Dodge','GMC','Tesla'})"
   ]
  },
  {
   "cell_type": "code",
   "execution_count": 85,
   "metadata": {},
   "outputs": [],
   "source": [
    "def country(val):\n",
    "    if val in {'Chevrolet','Ford','Dodge','GMC','Tesla'}:\n",
    "        return 'US'\n",
    "    return 'Other'"
   ]
  },
  {
   "cell_type": "code",
   "execution_count": 87,
   "metadata": {},
   "outputs": [
    {
     "output_type": "stream",
     "name": "stdout",
     "text": [
      "13.8 ms ± 159 µs per loop (mean ± std. dev. of 7 runs, 100 loops each)\n"
     ]
    }
   ],
   "source": [
    "%%timeit\n",
    "(autos\n",
    "    .assign(country=autos.make.apply(country))\n",
    ")"
   ]
  },
  {
   "cell_type": "code",
   "execution_count": 89,
   "metadata": {},
   "outputs": [
    {
     "output_type": "stream",
     "name": "stdout",
     "text": [
      "21.2 ms ± 408 µs per loop (mean ± std. dev. of 7 runs, 10 loops each)\n"
     ]
    }
   ],
   "source": [
    "%%timeit\n",
    "values = {'Chevrolet','Ford','Dodge','GMC','Tesla'}\n",
    "(autos\n",
    "    .assign(country='US')\n",
    "    .assign(country=lambda df_:df_.country.where(df_.make.isin(values),'Other')))"
   ]
  },
  {
   "cell_type": "markdown",
   "metadata": {},
   "source": [
    "## Master Aggregation"
   ]
  },
  {
   "cell_type": "code",
   "execution_count": 96,
   "metadata": {},
   "outputs": [
    {
     "output_type": "execute_result",
     "data": {
      "text/plain": [
       "      barrels08  barrelsA08  charge120  charge240     city08    city08U  \\\n",
       "year                                                                      \n",
       "1984  18.171512    0.000000        0.0   0.000000  17.982688   0.000000   \n",
       "1985  18.086848    0.000000        0.0   0.000000  17.878307   0.000000   \n",
       "1986  18.202988    0.000000        0.0   0.000000  17.665289   0.000000   \n",
       "1987  18.539687    0.000000        0.0   0.000000  17.310345   0.000000   \n",
       "1988  18.295107    0.000000        0.0   0.000000  17.333628   0.000000   \n",
       "1989  18.520101    0.000000        0.0   0.000000  17.143972   0.000000   \n",
       "1990  18.544233    0.000000        0.0   0.000000  17.033395   0.000000   \n",
       "1991  18.711743    0.000000        0.0   0.000000  16.848940   0.000000   \n",
       "1992  18.632268    0.000000        0.0   0.000000  16.805531   0.000000   \n",
       "1993  18.344320    0.000000        0.0   0.000000  16.998170   0.000000   \n",
       "1994  18.347945    0.000000        0.0   0.000000  16.918534   0.000000   \n",
       "1995  18.619253    0.000000        0.0   0.000000  16.569804   0.000000   \n",
       "1996  17.771635    0.000000        0.0   0.000000  17.289780   0.000000   \n",
       "1997  17.870299    0.000000        0.0   0.000000  17.135171   0.000000   \n",
       "1998  17.711151    0.000000        0.0   0.000000  17.113300   0.000000   \n",
       "1999  17.652871    0.000000        0.0   0.000000  17.272300   0.000000   \n",
       "2000  17.716158    0.098954        0.0   0.000000  17.221429   0.000000   \n",
       "2001  17.723546    0.129919        0.0   0.000000  17.275521   0.000000   \n",
       "2002  18.001878    0.186467        0.0   0.000000  16.893333   0.000000   \n",
       "2003  18.228890    0.226764        0.0   0.000000  16.780651   0.000000   \n",
       "2004  17.961532    0.246445        0.0   0.000000  16.740642   0.000000   \n",
       "2005  17.920131    0.234355        0.0   0.000000  16.851630   0.000000   \n",
       "2006  18.169609    0.190201        0.0   0.000000  16.626812   0.000000   \n",
       "2007  18.093144    0.337770        0.0   0.000000  16.605684   0.000000   \n",
       "2008  17.953195    0.342750        0.0   0.000000  16.900590   0.000000   \n",
       "2009  17.516118    0.496225        0.0   0.000000  17.334459   0.125845   \n",
       "2010  16.862117    0.519934        0.0   0.000000  18.105500   1.456923   \n",
       "2011  16.704105    0.777640        0.0   0.028319  18.669027  18.301787   \n",
       "2012  16.241021    0.790072        0.0   0.065538  19.362847  19.255515   \n",
       "2013  15.615971    0.799889        0.0   0.083193  20.661318  20.633650   \n",
       "2014  15.384899    0.698186        0.0   0.103894  21.033469  21.016435   \n",
       "2015  15.034380    0.457018        0.0   0.140569  21.445830  21.438021   \n",
       "2016  14.561400    0.328865        0.0   0.263986  22.591918  22.587696   \n",
       "2017  14.569485    0.312218        0.0   0.234184  22.761021  22.758435   \n",
       "2018  14.485043    0.292596        0.0   0.211905  22.564732  22.565058   \n",
       "2019  14.414226    0.248192        0.0   0.291078  23.318147  23.301682   \n",
       "2020  13.768670    0.077748        0.0   0.136364  22.679426  22.659208   \n",
       "\n",
       "       cityA08  cityA08U    cityCD     cityE  ...  rangeHwyA      UCity  \\\n",
       "year                                          ...                         \n",
       "1984  0.000000  0.000000  0.000000  0.000000  ...   0.000000  22.619145   \n",
       "1985  0.000000  0.000000  0.000000  0.000000  ...   0.000000  22.468082   \n",
       "1986  0.000000  0.000000  0.000000  0.000000  ...   0.000000  22.175024   \n",
       "1987  0.000000  0.000000  0.000000  0.000000  ...   0.000000  21.695599   \n",
       "1988  0.000000  0.000000  0.000000  0.000000  ...   0.000000  21.735983   \n",
       "1989  0.000000  0.000000  0.000000  0.000000  ...   0.000000  21.509702   \n",
       "1990  0.000000  0.000000  0.000000  0.000000  ...   0.000000  21.330735   \n",
       "1991  0.000000  0.000000  0.000000  0.000000  ...   0.000000  21.067970   \n",
       "1992  0.000000  0.000000  0.000000  0.000000  ...   0.000000  21.016665   \n",
       "1993  0.000000  0.000000  0.000000  0.000000  ...   0.000000  21.267728   \n",
       "1994  0.000000  0.000000  0.000000  0.000000  ...   0.000000  21.150231   \n",
       "1995  0.000000  0.000000  0.000000  0.000000  ...   0.000000  20.716049   \n",
       "1996  0.000000  0.000000  0.000000  0.000000  ...   0.000000  21.640968   \n",
       "1997  0.000000  0.000000  0.000000  0.000000  ...   0.000000  21.416589   \n",
       "1998  0.000000  0.000000  0.000000  0.314039  ...   0.000000  21.505716   \n",
       "1999  0.000000  0.000000  0.000000  0.597418  ...   0.000000  21.746244   \n",
       "2000  0.213095  0.000000  0.000000  0.229762  ...   0.000000  21.644393   \n",
       "2001  0.298573  0.000000  0.000000  0.281010  ...   0.000000  21.640059   \n",
       "2002  0.367179  0.000000  0.000000  0.116923  ...   0.000000  21.109635   \n",
       "2003  0.411877  0.000000  0.000000  0.037356  ...   0.000000  20.991217   \n",
       "2004  0.495544  0.000000  0.000000  0.000000  ...   0.000000  20.834584   \n",
       "2005  0.416810  0.000000  0.000000  0.000000  ...   0.000000  21.062148   \n",
       "2006  0.318841  0.000000  0.000000  0.000000  ...   0.000000  20.821292   \n",
       "2007  0.519538  0.000000  0.000000  0.000000  ...   0.000000  20.779661   \n",
       "2008  0.523168  0.000000  0.000000  0.027801  ...   0.000000  21.193541   \n",
       "2009  0.833615  0.000000  0.000000  0.000000  ...   0.000000  21.749116   \n",
       "2010  1.009919  0.000000  0.000000  0.000000  ...   0.000000  22.746876   \n",
       "2011  1.455752  1.368009  0.000000  0.152212  ...   0.030973  23.546672   \n",
       "2012  1.676215  1.675100  0.000304  0.438108  ...   0.066828  24.593787   \n",
       "2013  1.830236  1.830884  0.000296  0.504223  ...   0.067738  26.435844   \n",
       "2014  2.026122  2.025679  0.005363  0.685714  ...   0.197489  26.939593   \n",
       "2015  1.654716  1.657392  0.005118  0.837780  ...   0.211040  27.505147   \n",
       "2016  1.805071  1.811094  0.001705  1.490462  ...   0.321808  29.117735   \n",
       "2017  1.813612  1.818711  0.000927  1.429973  ...   0.354660  29.442608   \n",
       "2018  2.389137  2.397881  0.001042  1.762381  ...   0.621625  29.164221   \n",
       "2019  2.303721  2.314081  0.000304  1.848383  ...   0.634811  30.260677   \n",
       "2020  1.110048  1.109948  0.000000  0.752329  ...   0.192010  29.151390   \n",
       "\n",
       "        UCityA   UHighway  UHighwayA  youSaveSpend  charge240b  phevCity  \\\n",
       "year                                                                       \n",
       "1984  0.000000  32.115071   0.000000  -3817.718941    0.000000  0.000000   \n",
       "1985  0.000000  32.099529   0.000000  -3922.545561    0.000000  0.000000   \n",
       "1986  0.000000  31.636979   0.000000  -4020.247934    0.000000  0.000000   \n",
       "1987  0.000000  31.259528   0.000000  -4268.243785    0.000000  0.000000   \n",
       "1988  0.000000  31.634214   0.000000  -4185.176991    0.000000  0.000000   \n",
       "1989  0.000000  31.281208   0.000000  -4417.172593    0.000000  0.000000   \n",
       "1990  0.000000  31.082254   0.000000  -4430.890538    0.000000  0.000000   \n",
       "1991  0.000000  30.942625   0.000000  -4704.284452    0.000000  0.000000   \n",
       "1992  0.000000  31.235817   0.000000  -4723.684211    0.000000  0.000000   \n",
       "1993  0.000000  31.711901   0.000000  -4523.101555    0.000000  0.000000   \n",
       "1994  0.000000  31.619679   0.000000  -4557.535642    0.000000  0.000000   \n",
       "1995  0.000000  31.574800   0.000000  -4739.141675    0.000000  0.000000   \n",
       "1996  0.000000  32.862592   0.000000  -4125.161708    0.000000  0.000000   \n",
       "1997  0.000000  32.683144   0.000000  -4277.559055    0.000000  0.000000   \n",
       "1998  0.000000  32.811657   0.000000  -4163.177340    0.000000  0.000000   \n",
       "1999  0.000000  32.854770   0.000000  -4210.974178    0.000000  0.000000   \n",
       "2000  0.177029  32.661020   0.269021  -4398.511905    0.000000  0.000000   \n",
       "2001  0.208196  32.436143   0.326230  -4492.316136    0.000000  0.000000   \n",
       "2002  0.169408  31.960495   0.262063  -4648.974359    0.000000  0.000000   \n",
       "2003  0.493507  31.761074   0.754751  -4877.873563    0.000000  0.000000   \n",
       "2004  0.550858  31.964928   0.835471  -4812.834225    0.000000  0.000000   \n",
       "2005  0.484047  32.407037   0.735915  -4843.053173    0.000000  0.000000   \n",
       "2006  0.391990  32.091053   0.605132  -4945.878623    0.000000  0.000000   \n",
       "2007  0.647104  32.116871   1.006787  -4929.618117    0.000000  0.000000   \n",
       "2008  0.646138  32.657164   0.989512  -4932.181971    0.000000  0.000000   \n",
       "2009  1.037499  33.404736   1.641026  -4385.135135    0.000000  0.000000   \n",
       "2010  1.251353  34.730102   1.992811  -4005.410280    0.000000  0.000000   \n",
       "2011  1.812297  35.466907   2.810852  -3917.920354    0.000000  0.051327   \n",
       "2012  2.116845  36.965172   3.235347  -3693.793403    0.000000  0.130208   \n",
       "2013  2.335982  39.061314   3.455105  -3300.253378    0.012669  0.195946   \n",
       "2014  2.664995  39.695878   3.596589  -3228.367347    0.014898  0.426122   \n",
       "2015  2.210934  40.611255   2.930296  -2979.150429    0.032736  0.422447   \n",
       "2016  2.456731  42.069230   3.021462  -2682.448494    0.074881  0.637876   \n",
       "2017  2.466861  42.135553   2.930482  -2709.976798    0.056458  0.689095   \n",
       "2018  3.322677  41.815070   3.709166  -2723.214286    0.049293  1.130208   \n",
       "2019  3.225796  42.444147   3.422917  -2675.398633    0.067426  1.125285   \n",
       "2020  1.559628  42.396129   1.554276  -2352.870813    0.000000  0.516746   \n",
       "\n",
       "       phevHwy  phevComb  \n",
       "year                      \n",
       "1984  0.000000  0.000000  \n",
       "1985  0.000000  0.000000  \n",
       "1986  0.000000  0.000000  \n",
       "1987  0.000000  0.000000  \n",
       "1988  0.000000  0.000000  \n",
       "1989  0.000000  0.000000  \n",
       "1990  0.000000  0.000000  \n",
       "1991  0.000000  0.000000  \n",
       "1992  0.000000  0.000000  \n",
       "1993  0.000000  0.000000  \n",
       "1994  0.000000  0.000000  \n",
       "1995  0.000000  0.000000  \n",
       "1996  0.000000  0.000000  \n",
       "1997  0.000000  0.000000  \n",
       "1998  0.000000  0.000000  \n",
       "1999  0.000000  0.000000  \n",
       "2000  0.000000  0.000000  \n",
       "2001  0.000000  0.000000  \n",
       "2002  0.000000  0.000000  \n",
       "2003  0.000000  0.000000  \n",
       "2004  0.000000  0.000000  \n",
       "2005  0.000000  0.000000  \n",
       "2006  0.000000  0.000000  \n",
       "2007  0.000000  0.000000  \n",
       "2008  0.000000  0.000000  \n",
       "2009  0.000000  0.000000  \n",
       "2010  0.000000  0.000000  \n",
       "2011  0.054867  0.053097  \n",
       "2012  0.131944  0.131076  \n",
       "2013  0.176520  0.187500  \n",
       "2014  0.401633  0.413061  \n",
       "2015  0.413094  0.416991  \n",
       "2016  0.646593  0.638669  \n",
       "2017  0.699149  0.689869  \n",
       "2018  1.156994  1.135417  \n",
       "2019  1.115414  1.116932  \n",
       "2020  0.507177  0.507177  \n",
       "\n",
       "[37 rows x 59 columns]"
      ],
      "text/html": "<div>\n<style scoped>\n    .dataframe tbody tr th:only-of-type {\n        vertical-align: middle;\n    }\n\n    .dataframe tbody tr th {\n        vertical-align: top;\n    }\n\n    .dataframe thead th {\n        text-align: right;\n    }\n</style>\n<table border=\"1\" class=\"dataframe\">\n  <thead>\n    <tr style=\"text-align: right;\">\n      <th></th>\n      <th>barrels08</th>\n      <th>barrelsA08</th>\n      <th>charge120</th>\n      <th>charge240</th>\n      <th>city08</th>\n      <th>city08U</th>\n      <th>cityA08</th>\n      <th>cityA08U</th>\n      <th>cityCD</th>\n      <th>cityE</th>\n      <th>...</th>\n      <th>rangeHwyA</th>\n      <th>UCity</th>\n      <th>UCityA</th>\n      <th>UHighway</th>\n      <th>UHighwayA</th>\n      <th>youSaveSpend</th>\n      <th>charge240b</th>\n      <th>phevCity</th>\n      <th>phevHwy</th>\n      <th>phevComb</th>\n    </tr>\n    <tr>\n      <th>year</th>\n      <th></th>\n      <th></th>\n      <th></th>\n      <th></th>\n      <th></th>\n      <th></th>\n      <th></th>\n      <th></th>\n      <th></th>\n      <th></th>\n      <th></th>\n      <th></th>\n      <th></th>\n      <th></th>\n      <th></th>\n      <th></th>\n      <th></th>\n      <th></th>\n      <th></th>\n      <th></th>\n      <th></th>\n    </tr>\n  </thead>\n  <tbody>\n    <tr>\n      <th>1984</th>\n      <td>18.171512</td>\n      <td>0.000000</td>\n      <td>0.0</td>\n      <td>0.000000</td>\n      <td>17.982688</td>\n      <td>0.000000</td>\n      <td>0.000000</td>\n      <td>0.000000</td>\n      <td>0.000000</td>\n      <td>0.000000</td>\n      <td>...</td>\n      <td>0.000000</td>\n      <td>22.619145</td>\n      <td>0.000000</td>\n      <td>32.115071</td>\n      <td>0.000000</td>\n      <td>-3817.718941</td>\n      <td>0.000000</td>\n      <td>0.000000</td>\n      <td>0.000000</td>\n      <td>0.000000</td>\n    </tr>\n    <tr>\n      <th>1985</th>\n      <td>18.086848</td>\n      <td>0.000000</td>\n      <td>0.0</td>\n      <td>0.000000</td>\n      <td>17.878307</td>\n      <td>0.000000</td>\n      <td>0.000000</td>\n      <td>0.000000</td>\n      <td>0.000000</td>\n      <td>0.000000</td>\n      <td>...</td>\n      <td>0.000000</td>\n      <td>22.468082</td>\n      <td>0.000000</td>\n      <td>32.099529</td>\n      <td>0.000000</td>\n      <td>-3922.545561</td>\n      <td>0.000000</td>\n      <td>0.000000</td>\n      <td>0.000000</td>\n      <td>0.000000</td>\n    </tr>\n    <tr>\n      <th>1986</th>\n      <td>18.202988</td>\n      <td>0.000000</td>\n      <td>0.0</td>\n      <td>0.000000</td>\n      <td>17.665289</td>\n      <td>0.000000</td>\n      <td>0.000000</td>\n      <td>0.000000</td>\n      <td>0.000000</td>\n      <td>0.000000</td>\n      <td>...</td>\n      <td>0.000000</td>\n      <td>22.175024</td>\n      <td>0.000000</td>\n      <td>31.636979</td>\n      <td>0.000000</td>\n      <td>-4020.247934</td>\n      <td>0.000000</td>\n      <td>0.000000</td>\n      <td>0.000000</td>\n      <td>0.000000</td>\n    </tr>\n    <tr>\n      <th>1987</th>\n      <td>18.539687</td>\n      <td>0.000000</td>\n      <td>0.0</td>\n      <td>0.000000</td>\n      <td>17.310345</td>\n      <td>0.000000</td>\n      <td>0.000000</td>\n      <td>0.000000</td>\n      <td>0.000000</td>\n      <td>0.000000</td>\n      <td>...</td>\n      <td>0.000000</td>\n      <td>21.695599</td>\n      <td>0.000000</td>\n      <td>31.259528</td>\n      <td>0.000000</td>\n      <td>-4268.243785</td>\n      <td>0.000000</td>\n      <td>0.000000</td>\n      <td>0.000000</td>\n      <td>0.000000</td>\n    </tr>\n    <tr>\n      <th>1988</th>\n      <td>18.295107</td>\n      <td>0.000000</td>\n      <td>0.0</td>\n      <td>0.000000</td>\n      <td>17.333628</td>\n      <td>0.000000</td>\n      <td>0.000000</td>\n      <td>0.000000</td>\n      <td>0.000000</td>\n      <td>0.000000</td>\n      <td>...</td>\n      <td>0.000000</td>\n      <td>21.735983</td>\n      <td>0.000000</td>\n      <td>31.634214</td>\n      <td>0.000000</td>\n      <td>-4185.176991</td>\n      <td>0.000000</td>\n      <td>0.000000</td>\n      <td>0.000000</td>\n      <td>0.000000</td>\n    </tr>\n    <tr>\n      <th>1989</th>\n      <td>18.520101</td>\n      <td>0.000000</td>\n      <td>0.0</td>\n      <td>0.000000</td>\n      <td>17.143972</td>\n      <td>0.000000</td>\n      <td>0.000000</td>\n      <td>0.000000</td>\n      <td>0.000000</td>\n      <td>0.000000</td>\n      <td>...</td>\n      <td>0.000000</td>\n      <td>21.509702</td>\n      <td>0.000000</td>\n      <td>31.281208</td>\n      <td>0.000000</td>\n      <td>-4417.172593</td>\n      <td>0.000000</td>\n      <td>0.000000</td>\n      <td>0.000000</td>\n      <td>0.000000</td>\n    </tr>\n    <tr>\n      <th>1990</th>\n      <td>18.544233</td>\n      <td>0.000000</td>\n      <td>0.0</td>\n      <td>0.000000</td>\n      <td>17.033395</td>\n      <td>0.000000</td>\n      <td>0.000000</td>\n      <td>0.000000</td>\n      <td>0.000000</td>\n      <td>0.000000</td>\n      <td>...</td>\n      <td>0.000000</td>\n      <td>21.330735</td>\n      <td>0.000000</td>\n      <td>31.082254</td>\n      <td>0.000000</td>\n      <td>-4430.890538</td>\n      <td>0.000000</td>\n      <td>0.000000</td>\n      <td>0.000000</td>\n      <td>0.000000</td>\n    </tr>\n    <tr>\n      <th>1991</th>\n      <td>18.711743</td>\n      <td>0.000000</td>\n      <td>0.0</td>\n      <td>0.000000</td>\n      <td>16.848940</td>\n      <td>0.000000</td>\n      <td>0.000000</td>\n      <td>0.000000</td>\n      <td>0.000000</td>\n      <td>0.000000</td>\n      <td>...</td>\n      <td>0.000000</td>\n      <td>21.067970</td>\n      <td>0.000000</td>\n      <td>30.942625</td>\n      <td>0.000000</td>\n      <td>-4704.284452</td>\n      <td>0.000000</td>\n      <td>0.000000</td>\n      <td>0.000000</td>\n      <td>0.000000</td>\n    </tr>\n    <tr>\n      <th>1992</th>\n      <td>18.632268</td>\n      <td>0.000000</td>\n      <td>0.0</td>\n      <td>0.000000</td>\n      <td>16.805531</td>\n      <td>0.000000</td>\n      <td>0.000000</td>\n      <td>0.000000</td>\n      <td>0.000000</td>\n      <td>0.000000</td>\n      <td>...</td>\n      <td>0.000000</td>\n      <td>21.016665</td>\n      <td>0.000000</td>\n      <td>31.235817</td>\n      <td>0.000000</td>\n      <td>-4723.684211</td>\n      <td>0.000000</td>\n      <td>0.000000</td>\n      <td>0.000000</td>\n      <td>0.000000</td>\n    </tr>\n    <tr>\n      <th>1993</th>\n      <td>18.344320</td>\n      <td>0.000000</td>\n      <td>0.0</td>\n      <td>0.000000</td>\n      <td>16.998170</td>\n      <td>0.000000</td>\n      <td>0.000000</td>\n      <td>0.000000</td>\n      <td>0.000000</td>\n      <td>0.000000</td>\n      <td>...</td>\n      <td>0.000000</td>\n      <td>21.267728</td>\n      <td>0.000000</td>\n      <td>31.711901</td>\n      <td>0.000000</td>\n      <td>-4523.101555</td>\n      <td>0.000000</td>\n      <td>0.000000</td>\n      <td>0.000000</td>\n      <td>0.000000</td>\n    </tr>\n    <tr>\n      <th>1994</th>\n      <td>18.347945</td>\n      <td>0.000000</td>\n      <td>0.0</td>\n      <td>0.000000</td>\n      <td>16.918534</td>\n      <td>0.000000</td>\n      <td>0.000000</td>\n      <td>0.000000</td>\n      <td>0.000000</td>\n      <td>0.000000</td>\n      <td>...</td>\n      <td>0.000000</td>\n      <td>21.150231</td>\n      <td>0.000000</td>\n      <td>31.619679</td>\n      <td>0.000000</td>\n      <td>-4557.535642</td>\n      <td>0.000000</td>\n      <td>0.000000</td>\n      <td>0.000000</td>\n      <td>0.000000</td>\n    </tr>\n    <tr>\n      <th>1995</th>\n      <td>18.619253</td>\n      <td>0.000000</td>\n      <td>0.0</td>\n      <td>0.000000</td>\n      <td>16.569804</td>\n      <td>0.000000</td>\n      <td>0.000000</td>\n      <td>0.000000</td>\n      <td>0.000000</td>\n      <td>0.000000</td>\n      <td>...</td>\n      <td>0.000000</td>\n      <td>20.716049</td>\n      <td>0.000000</td>\n      <td>31.574800</td>\n      <td>0.000000</td>\n      <td>-4739.141675</td>\n      <td>0.000000</td>\n      <td>0.000000</td>\n      <td>0.000000</td>\n      <td>0.000000</td>\n    </tr>\n    <tr>\n      <th>1996</th>\n      <td>17.771635</td>\n      <td>0.000000</td>\n      <td>0.0</td>\n      <td>0.000000</td>\n      <td>17.289780</td>\n      <td>0.000000</td>\n      <td>0.000000</td>\n      <td>0.000000</td>\n      <td>0.000000</td>\n      <td>0.000000</td>\n      <td>...</td>\n      <td>0.000000</td>\n      <td>21.640968</td>\n      <td>0.000000</td>\n      <td>32.862592</td>\n      <td>0.000000</td>\n      <td>-4125.161708</td>\n      <td>0.000000</td>\n      <td>0.000000</td>\n      <td>0.000000</td>\n      <td>0.000000</td>\n    </tr>\n    <tr>\n      <th>1997</th>\n      <td>17.870299</td>\n      <td>0.000000</td>\n      <td>0.0</td>\n      <td>0.000000</td>\n      <td>17.135171</td>\n      <td>0.000000</td>\n      <td>0.000000</td>\n      <td>0.000000</td>\n      <td>0.000000</td>\n      <td>0.000000</td>\n      <td>...</td>\n      <td>0.000000</td>\n      <td>21.416589</td>\n      <td>0.000000</td>\n      <td>32.683144</td>\n      <td>0.000000</td>\n      <td>-4277.559055</td>\n      <td>0.000000</td>\n      <td>0.000000</td>\n      <td>0.000000</td>\n      <td>0.000000</td>\n    </tr>\n    <tr>\n      <th>1998</th>\n      <td>17.711151</td>\n      <td>0.000000</td>\n      <td>0.0</td>\n      <td>0.000000</td>\n      <td>17.113300</td>\n      <td>0.000000</td>\n      <td>0.000000</td>\n      <td>0.000000</td>\n      <td>0.000000</td>\n      <td>0.314039</td>\n      <td>...</td>\n      <td>0.000000</td>\n      <td>21.505716</td>\n      <td>0.000000</td>\n      <td>32.811657</td>\n      <td>0.000000</td>\n      <td>-4163.177340</td>\n      <td>0.000000</td>\n      <td>0.000000</td>\n      <td>0.000000</td>\n      <td>0.000000</td>\n    </tr>\n    <tr>\n      <th>1999</th>\n      <td>17.652871</td>\n      <td>0.000000</td>\n      <td>0.0</td>\n      <td>0.000000</td>\n      <td>17.272300</td>\n      <td>0.000000</td>\n      <td>0.000000</td>\n      <td>0.000000</td>\n      <td>0.000000</td>\n      <td>0.597418</td>\n      <td>...</td>\n      <td>0.000000</td>\n      <td>21.746244</td>\n      <td>0.000000</td>\n      <td>32.854770</td>\n      <td>0.000000</td>\n      <td>-4210.974178</td>\n      <td>0.000000</td>\n      <td>0.000000</td>\n      <td>0.000000</td>\n      <td>0.000000</td>\n    </tr>\n    <tr>\n      <th>2000</th>\n      <td>17.716158</td>\n      <td>0.098954</td>\n      <td>0.0</td>\n      <td>0.000000</td>\n      <td>17.221429</td>\n      <td>0.000000</td>\n      <td>0.213095</td>\n      <td>0.000000</td>\n      <td>0.000000</td>\n      <td>0.229762</td>\n      <td>...</td>\n      <td>0.000000</td>\n      <td>21.644393</td>\n      <td>0.177029</td>\n      <td>32.661020</td>\n      <td>0.269021</td>\n      <td>-4398.511905</td>\n      <td>0.000000</td>\n      <td>0.000000</td>\n      <td>0.000000</td>\n      <td>0.000000</td>\n    </tr>\n    <tr>\n      <th>2001</th>\n      <td>17.723546</td>\n      <td>0.129919</td>\n      <td>0.0</td>\n      <td>0.000000</td>\n      <td>17.275521</td>\n      <td>0.000000</td>\n      <td>0.298573</td>\n      <td>0.000000</td>\n      <td>0.000000</td>\n      <td>0.281010</td>\n      <td>...</td>\n      <td>0.000000</td>\n      <td>21.640059</td>\n      <td>0.208196</td>\n      <td>32.436143</td>\n      <td>0.326230</td>\n      <td>-4492.316136</td>\n      <td>0.000000</td>\n      <td>0.000000</td>\n      <td>0.000000</td>\n      <td>0.000000</td>\n    </tr>\n    <tr>\n      <th>2002</th>\n      <td>18.001878</td>\n      <td>0.186467</td>\n      <td>0.0</td>\n      <td>0.000000</td>\n      <td>16.893333</td>\n      <td>0.000000</td>\n      <td>0.367179</td>\n      <td>0.000000</td>\n      <td>0.000000</td>\n      <td>0.116923</td>\n      <td>...</td>\n      <td>0.000000</td>\n      <td>21.109635</td>\n      <td>0.169408</td>\n      <td>31.960495</td>\n      <td>0.262063</td>\n      <td>-4648.974359</td>\n      <td>0.000000</td>\n      <td>0.000000</td>\n      <td>0.000000</td>\n      <td>0.000000</td>\n    </tr>\n    <tr>\n      <th>2003</th>\n      <td>18.228890</td>\n      <td>0.226764</td>\n      <td>0.0</td>\n      <td>0.000000</td>\n      <td>16.780651</td>\n      <td>0.000000</td>\n      <td>0.411877</td>\n      <td>0.000000</td>\n      <td>0.000000</td>\n      <td>0.037356</td>\n      <td>...</td>\n      <td>0.000000</td>\n      <td>20.991217</td>\n      <td>0.493507</td>\n      <td>31.761074</td>\n      <td>0.754751</td>\n      <td>-4877.873563</td>\n      <td>0.000000</td>\n      <td>0.000000</td>\n      <td>0.000000</td>\n      <td>0.000000</td>\n    </tr>\n    <tr>\n      <th>2004</th>\n      <td>17.961532</td>\n      <td>0.246445</td>\n      <td>0.0</td>\n      <td>0.000000</td>\n      <td>16.740642</td>\n      <td>0.000000</td>\n      <td>0.495544</td>\n      <td>0.000000</td>\n      <td>0.000000</td>\n      <td>0.000000</td>\n      <td>...</td>\n      <td>0.000000</td>\n      <td>20.834584</td>\n      <td>0.550858</td>\n      <td>31.964928</td>\n      <td>0.835471</td>\n      <td>-4812.834225</td>\n      <td>0.000000</td>\n      <td>0.000000</td>\n      <td>0.000000</td>\n      <td>0.000000</td>\n    </tr>\n    <tr>\n      <th>2005</th>\n      <td>17.920131</td>\n      <td>0.234355</td>\n      <td>0.0</td>\n      <td>0.000000</td>\n      <td>16.851630</td>\n      <td>0.000000</td>\n      <td>0.416810</td>\n      <td>0.000000</td>\n      <td>0.000000</td>\n      <td>0.000000</td>\n      <td>...</td>\n      <td>0.000000</td>\n      <td>21.062148</td>\n      <td>0.484047</td>\n      <td>32.407037</td>\n      <td>0.735915</td>\n      <td>-4843.053173</td>\n      <td>0.000000</td>\n      <td>0.000000</td>\n      <td>0.000000</td>\n      <td>0.000000</td>\n    </tr>\n    <tr>\n      <th>2006</th>\n      <td>18.169609</td>\n      <td>0.190201</td>\n      <td>0.0</td>\n      <td>0.000000</td>\n      <td>16.626812</td>\n      <td>0.000000</td>\n      <td>0.318841</td>\n      <td>0.000000</td>\n      <td>0.000000</td>\n      <td>0.000000</td>\n      <td>...</td>\n      <td>0.000000</td>\n      <td>20.821292</td>\n      <td>0.391990</td>\n      <td>32.091053</td>\n      <td>0.605132</td>\n      <td>-4945.878623</td>\n      <td>0.000000</td>\n      <td>0.000000</td>\n      <td>0.000000</td>\n      <td>0.000000</td>\n    </tr>\n    <tr>\n      <th>2007</th>\n      <td>18.093144</td>\n      <td>0.337770</td>\n      <td>0.0</td>\n      <td>0.000000</td>\n      <td>16.605684</td>\n      <td>0.000000</td>\n      <td>0.519538</td>\n      <td>0.000000</td>\n      <td>0.000000</td>\n      <td>0.000000</td>\n      <td>...</td>\n      <td>0.000000</td>\n      <td>20.779661</td>\n      <td>0.647104</td>\n      <td>32.116871</td>\n      <td>1.006787</td>\n      <td>-4929.618117</td>\n      <td>0.000000</td>\n      <td>0.000000</td>\n      <td>0.000000</td>\n      <td>0.000000</td>\n    </tr>\n    <tr>\n      <th>2008</th>\n      <td>17.953195</td>\n      <td>0.342750</td>\n      <td>0.0</td>\n      <td>0.000000</td>\n      <td>16.900590</td>\n      <td>0.000000</td>\n      <td>0.523168</td>\n      <td>0.000000</td>\n      <td>0.000000</td>\n      <td>0.027801</td>\n      <td>...</td>\n      <td>0.000000</td>\n      <td>21.193541</td>\n      <td>0.646138</td>\n      <td>32.657164</td>\n      <td>0.989512</td>\n      <td>-4932.181971</td>\n      <td>0.000000</td>\n      <td>0.000000</td>\n      <td>0.000000</td>\n      <td>0.000000</td>\n    </tr>\n    <tr>\n      <th>2009</th>\n      <td>17.516118</td>\n      <td>0.496225</td>\n      <td>0.0</td>\n      <td>0.000000</td>\n      <td>17.334459</td>\n      <td>0.125845</td>\n      <td>0.833615</td>\n      <td>0.000000</td>\n      <td>0.000000</td>\n      <td>0.000000</td>\n      <td>...</td>\n      <td>0.000000</td>\n      <td>21.749116</td>\n      <td>1.037499</td>\n      <td>33.404736</td>\n      <td>1.641026</td>\n      <td>-4385.135135</td>\n      <td>0.000000</td>\n      <td>0.000000</td>\n      <td>0.000000</td>\n      <td>0.000000</td>\n    </tr>\n    <tr>\n      <th>2010</th>\n      <td>16.862117</td>\n      <td>0.519934</td>\n      <td>0.0</td>\n      <td>0.000000</td>\n      <td>18.105500</td>\n      <td>1.456923</td>\n      <td>1.009919</td>\n      <td>0.000000</td>\n      <td>0.000000</td>\n      <td>0.000000</td>\n      <td>...</td>\n      <td>0.000000</td>\n      <td>22.746876</td>\n      <td>1.251353</td>\n      <td>34.730102</td>\n      <td>1.992811</td>\n      <td>-4005.410280</td>\n      <td>0.000000</td>\n      <td>0.000000</td>\n      <td>0.000000</td>\n      <td>0.000000</td>\n    </tr>\n    <tr>\n      <th>2011</th>\n      <td>16.704105</td>\n      <td>0.777640</td>\n      <td>0.0</td>\n      <td>0.028319</td>\n      <td>18.669027</td>\n      <td>18.301787</td>\n      <td>1.455752</td>\n      <td>1.368009</td>\n      <td>0.000000</td>\n      <td>0.152212</td>\n      <td>...</td>\n      <td>0.030973</td>\n      <td>23.546672</td>\n      <td>1.812297</td>\n      <td>35.466907</td>\n      <td>2.810852</td>\n      <td>-3917.920354</td>\n      <td>0.000000</td>\n      <td>0.051327</td>\n      <td>0.054867</td>\n      <td>0.053097</td>\n    </tr>\n    <tr>\n      <th>2012</th>\n      <td>16.241021</td>\n      <td>0.790072</td>\n      <td>0.0</td>\n      <td>0.065538</td>\n      <td>19.362847</td>\n      <td>19.255515</td>\n      <td>1.676215</td>\n      <td>1.675100</td>\n      <td>0.000304</td>\n      <td>0.438108</td>\n      <td>...</td>\n      <td>0.066828</td>\n      <td>24.593787</td>\n      <td>2.116845</td>\n      <td>36.965172</td>\n      <td>3.235347</td>\n      <td>-3693.793403</td>\n      <td>0.000000</td>\n      <td>0.130208</td>\n      <td>0.131944</td>\n      <td>0.131076</td>\n    </tr>\n    <tr>\n      <th>2013</th>\n      <td>15.615971</td>\n      <td>0.799889</td>\n      <td>0.0</td>\n      <td>0.083193</td>\n      <td>20.661318</td>\n      <td>20.633650</td>\n      <td>1.830236</td>\n      <td>1.830884</td>\n      <td>0.000296</td>\n      <td>0.504223</td>\n      <td>...</td>\n      <td>0.067738</td>\n      <td>26.435844</td>\n      <td>2.335982</td>\n      <td>39.061314</td>\n      <td>3.455105</td>\n      <td>-3300.253378</td>\n      <td>0.012669</td>\n      <td>0.195946</td>\n      <td>0.176520</td>\n      <td>0.187500</td>\n    </tr>\n    <tr>\n      <th>2014</th>\n      <td>15.384899</td>\n      <td>0.698186</td>\n      <td>0.0</td>\n      <td>0.103894</td>\n      <td>21.033469</td>\n      <td>21.016435</td>\n      <td>2.026122</td>\n      <td>2.025679</td>\n      <td>0.005363</td>\n      <td>0.685714</td>\n      <td>...</td>\n      <td>0.197489</td>\n      <td>26.939593</td>\n      <td>2.664995</td>\n      <td>39.695878</td>\n      <td>3.596589</td>\n      <td>-3228.367347</td>\n      <td>0.014898</td>\n      <td>0.426122</td>\n      <td>0.401633</td>\n      <td>0.413061</td>\n    </tr>\n    <tr>\n      <th>2015</th>\n      <td>15.034380</td>\n      <td>0.457018</td>\n      <td>0.0</td>\n      <td>0.140569</td>\n      <td>21.445830</td>\n      <td>21.438021</td>\n      <td>1.654716</td>\n      <td>1.657392</td>\n      <td>0.005118</td>\n      <td>0.837780</td>\n      <td>...</td>\n      <td>0.211040</td>\n      <td>27.505147</td>\n      <td>2.210934</td>\n      <td>40.611255</td>\n      <td>2.930296</td>\n      <td>-2979.150429</td>\n      <td>0.032736</td>\n      <td>0.422447</td>\n      <td>0.413094</td>\n      <td>0.416991</td>\n    </tr>\n    <tr>\n      <th>2016</th>\n      <td>14.561400</td>\n      <td>0.328865</td>\n      <td>0.0</td>\n      <td>0.263986</td>\n      <td>22.591918</td>\n      <td>22.587696</td>\n      <td>1.805071</td>\n      <td>1.811094</td>\n      <td>0.001705</td>\n      <td>1.490462</td>\n      <td>...</td>\n      <td>0.321808</td>\n      <td>29.117735</td>\n      <td>2.456731</td>\n      <td>42.069230</td>\n      <td>3.021462</td>\n      <td>-2682.448494</td>\n      <td>0.074881</td>\n      <td>0.637876</td>\n      <td>0.646593</td>\n      <td>0.638669</td>\n    </tr>\n    <tr>\n      <th>2017</th>\n      <td>14.569485</td>\n      <td>0.312218</td>\n      <td>0.0</td>\n      <td>0.234184</td>\n      <td>22.761021</td>\n      <td>22.758435</td>\n      <td>1.813612</td>\n      <td>1.818711</td>\n      <td>0.000927</td>\n      <td>1.429973</td>\n      <td>...</td>\n      <td>0.354660</td>\n      <td>29.442608</td>\n      <td>2.466861</td>\n      <td>42.135553</td>\n      <td>2.930482</td>\n      <td>-2709.976798</td>\n      <td>0.056458</td>\n      <td>0.689095</td>\n      <td>0.699149</td>\n      <td>0.689869</td>\n    </tr>\n    <tr>\n      <th>2018</th>\n      <td>14.485043</td>\n      <td>0.292596</td>\n      <td>0.0</td>\n      <td>0.211905</td>\n      <td>22.564732</td>\n      <td>22.565058</td>\n      <td>2.389137</td>\n      <td>2.397881</td>\n      <td>0.001042</td>\n      <td>1.762381</td>\n      <td>...</td>\n      <td>0.621625</td>\n      <td>29.164221</td>\n      <td>3.322677</td>\n      <td>41.815070</td>\n      <td>3.709166</td>\n      <td>-2723.214286</td>\n      <td>0.049293</td>\n      <td>1.130208</td>\n      <td>1.156994</td>\n      <td>1.135417</td>\n    </tr>\n    <tr>\n      <th>2019</th>\n      <td>14.414226</td>\n      <td>0.248192</td>\n      <td>0.0</td>\n      <td>0.291078</td>\n      <td>23.318147</td>\n      <td>23.301682</td>\n      <td>2.303721</td>\n      <td>2.314081</td>\n      <td>0.000304</td>\n      <td>1.848383</td>\n      <td>...</td>\n      <td>0.634811</td>\n      <td>30.260677</td>\n      <td>3.225796</td>\n      <td>42.444147</td>\n      <td>3.422917</td>\n      <td>-2675.398633</td>\n      <td>0.067426</td>\n      <td>1.125285</td>\n      <td>1.115414</td>\n      <td>1.116932</td>\n    </tr>\n    <tr>\n      <th>2020</th>\n      <td>13.768670</td>\n      <td>0.077748</td>\n      <td>0.0</td>\n      <td>0.136364</td>\n      <td>22.679426</td>\n      <td>22.659208</td>\n      <td>1.110048</td>\n      <td>1.109948</td>\n      <td>0.000000</td>\n      <td>0.752329</td>\n      <td>...</td>\n      <td>0.192010</td>\n      <td>29.151390</td>\n      <td>1.559628</td>\n      <td>42.396129</td>\n      <td>1.554276</td>\n      <td>-2352.870813</td>\n      <td>0.000000</td>\n      <td>0.516746</td>\n      <td>0.507177</td>\n      <td>0.507177</td>\n    </tr>\n  </tbody>\n</table>\n<p>37 rows × 59 columns</p>\n</div>"
     },
     "metadata": {},
     "execution_count": 96
    }
   ],
   "source": [
    "(autos\n",
    "    .groupby('year')\n",
    "    .mean())"
   ]
  },
  {
   "cell_type": "code",
   "execution_count": 102,
   "metadata": {},
   "outputs": [],
   "source": [
    "autos2 = tweak_autos(autos)"
   ]
  },
  {
   "cell_type": "code",
   "execution_count": 103,
   "metadata": {},
   "outputs": [
    {
     "output_type": "execute_result",
     "data": {
      "text/plain": [
       "         comb08  speeds\n",
       "year                   \n",
       "1984  19.881874      20\n",
       "1985  19.808348      20\n",
       "1986  19.550413      20\n",
       "1987  19.228549      20\n",
       "1988  19.328319      20\n",
       "1989  19.125759      20\n",
       "1990  19.000928      20\n",
       "1991  18.825972      20\n",
       "1992  18.862623      20\n",
       "1993  19.104300      20\n",
       "1994  19.012220      20\n",
       "1995  18.797311      20\n",
       "1996  19.584735      20\n",
       "1997  19.429134      20\n",
       "1998  19.518473      20\n",
       "1999  19.611502      20\n",
       "2000  19.526190      20\n",
       "2001  19.479693      20\n",
       "2002  19.168205      20\n",
       "2003  19.000958      20\n",
       "2004  19.067736      20\n",
       "2005  19.193825      20\n",
       "2006  18.959239      20\n",
       "2007  18.978686      20\n",
       "2008  19.276327      20\n",
       "2009  19.735642      20\n",
       "2010  20.588819      20\n",
       "2011  21.011504      20\n",
       "2012  21.819444      20\n",
       "2013  23.125000      20\n",
       "2014  23.531429      20\n",
       "2015  24.038971      20\n",
       "2016  25.150555      20\n",
       "2017  25.249033      20\n",
       "2018  25.019345      20\n",
       "2019  25.627942      20\n",
       "2020  25.267943      20"
      ],
      "text/html": "<div>\n<style scoped>\n    .dataframe tbody tr th:only-of-type {\n        vertical-align: middle;\n    }\n\n    .dataframe tbody tr th {\n        vertical-align: top;\n    }\n\n    .dataframe thead th {\n        text-align: right;\n    }\n</style>\n<table border=\"1\" class=\"dataframe\">\n  <thead>\n    <tr style=\"text-align: right;\">\n      <th></th>\n      <th>comb08</th>\n      <th>speeds</th>\n    </tr>\n    <tr>\n      <th>year</th>\n      <th></th>\n      <th></th>\n    </tr>\n  </thead>\n  <tbody>\n    <tr>\n      <th>1984</th>\n      <td>19.881874</td>\n      <td>20</td>\n    </tr>\n    <tr>\n      <th>1985</th>\n      <td>19.808348</td>\n      <td>20</td>\n    </tr>\n    <tr>\n      <th>1986</th>\n      <td>19.550413</td>\n      <td>20</td>\n    </tr>\n    <tr>\n      <th>1987</th>\n      <td>19.228549</td>\n      <td>20</td>\n    </tr>\n    <tr>\n      <th>1988</th>\n      <td>19.328319</td>\n      <td>20</td>\n    </tr>\n    <tr>\n      <th>1989</th>\n      <td>19.125759</td>\n      <td>20</td>\n    </tr>\n    <tr>\n      <th>1990</th>\n      <td>19.000928</td>\n      <td>20</td>\n    </tr>\n    <tr>\n      <th>1991</th>\n      <td>18.825972</td>\n      <td>20</td>\n    </tr>\n    <tr>\n      <th>1992</th>\n      <td>18.862623</td>\n      <td>20</td>\n    </tr>\n    <tr>\n      <th>1993</th>\n      <td>19.104300</td>\n      <td>20</td>\n    </tr>\n    <tr>\n      <th>1994</th>\n      <td>19.012220</td>\n      <td>20</td>\n    </tr>\n    <tr>\n      <th>1995</th>\n      <td>18.797311</td>\n      <td>20</td>\n    </tr>\n    <tr>\n      <th>1996</th>\n      <td>19.584735</td>\n      <td>20</td>\n    </tr>\n    <tr>\n      <th>1997</th>\n      <td>19.429134</td>\n      <td>20</td>\n    </tr>\n    <tr>\n      <th>1998</th>\n      <td>19.518473</td>\n      <td>20</td>\n    </tr>\n    <tr>\n      <th>1999</th>\n      <td>19.611502</td>\n      <td>20</td>\n    </tr>\n    <tr>\n      <th>2000</th>\n      <td>19.526190</td>\n      <td>20</td>\n    </tr>\n    <tr>\n      <th>2001</th>\n      <td>19.479693</td>\n      <td>20</td>\n    </tr>\n    <tr>\n      <th>2002</th>\n      <td>19.168205</td>\n      <td>20</td>\n    </tr>\n    <tr>\n      <th>2003</th>\n      <td>19.000958</td>\n      <td>20</td>\n    </tr>\n    <tr>\n      <th>2004</th>\n      <td>19.067736</td>\n      <td>20</td>\n    </tr>\n    <tr>\n      <th>2005</th>\n      <td>19.193825</td>\n      <td>20</td>\n    </tr>\n    <tr>\n      <th>2006</th>\n      <td>18.959239</td>\n      <td>20</td>\n    </tr>\n    <tr>\n      <th>2007</th>\n      <td>18.978686</td>\n      <td>20</td>\n    </tr>\n    <tr>\n      <th>2008</th>\n      <td>19.276327</td>\n      <td>20</td>\n    </tr>\n    <tr>\n      <th>2009</th>\n      <td>19.735642</td>\n      <td>20</td>\n    </tr>\n    <tr>\n      <th>2010</th>\n      <td>20.588819</td>\n      <td>20</td>\n    </tr>\n    <tr>\n      <th>2011</th>\n      <td>21.011504</td>\n      <td>20</td>\n    </tr>\n    <tr>\n      <th>2012</th>\n      <td>21.819444</td>\n      <td>20</td>\n    </tr>\n    <tr>\n      <th>2013</th>\n      <td>23.125000</td>\n      <td>20</td>\n    </tr>\n    <tr>\n      <th>2014</th>\n      <td>23.531429</td>\n      <td>20</td>\n    </tr>\n    <tr>\n      <th>2015</th>\n      <td>24.038971</td>\n      <td>20</td>\n    </tr>\n    <tr>\n      <th>2016</th>\n      <td>25.150555</td>\n      <td>20</td>\n    </tr>\n    <tr>\n      <th>2017</th>\n      <td>25.249033</td>\n      <td>20</td>\n    </tr>\n    <tr>\n      <th>2018</th>\n      <td>25.019345</td>\n      <td>20</td>\n    </tr>\n    <tr>\n      <th>2019</th>\n      <td>25.627942</td>\n      <td>20</td>\n    </tr>\n    <tr>\n      <th>2020</th>\n      <td>25.267943</td>\n      <td>20</td>\n    </tr>\n  </tbody>\n</table>\n</div>"
     },
     "metadata": {},
     "execution_count": 103
    }
   ],
   "source": [
    "# watch order of column filtering/aggregation\n",
    "(autos2\n",
    "    .groupby('year')\n",
    "    [['comb08','speeds']]\n",
    "    .mean()\n",
    ")"
   ]
  },
  {
   "cell_type": "code",
   "execution_count": 108,
   "metadata": {},
   "outputs": [
    {
     "output_type": "execute_result",
     "data": {
      "text/plain": [
       "<matplotlib.axes._subplots.AxesSubplot at 0x7fb0132a0df0>"
      ]
     },
     "metadata": {},
     "execution_count": 108
    },
    {
     "output_type": "display_data",
     "data": {
      "text/plain": "<Figure size 432x288 with 1 Axes>",
      "image/svg+xml": "<?xml version=\"1.0\" encoding=\"utf-8\" standalone=\"no\"?>\n<!DOCTYPE svg PUBLIC \"-//W3C//DTD SVG 1.1//EN\"\n  \"http://www.w3.org/Graphics/SVG/1.1/DTD/svg11.dtd\">\n<!-- Created with matplotlib (https://matplotlib.org/) -->\n<svg height=\"281.729531pt\" version=\"1.1\" viewBox=\"0 0 388.474318 281.729531\" width=\"388.474318pt\" xmlns=\"http://www.w3.org/2000/svg\" xmlns:xlink=\"http://www.w3.org/1999/xlink\">\n <defs>\n  <style type=\"text/css\">\n*{stroke-linecap:butt;stroke-linejoin:round;}\n  </style>\n </defs>\n <g id=\"figure_1\">\n  <g id=\"patch_1\">\n   <path d=\"M 0 281.729531 \nL 388.474318 281.729531 \nL 388.474318 0 \nL 0 0 \nz\n\" style=\"fill:none;\"/>\n  </g>\n  <g id=\"axes_1\">\n   <g id=\"patch_2\">\n    <path d=\"M 40.69625 224.64 \nL 375.49625 224.64 \nL 375.49625 7.2 \nL 40.69625 7.2 \nz\n\" style=\"fill:#ffffff;\"/>\n   </g>\n   <g id=\"matplotlib.axis_1\">\n    <g id=\"xtick_1\">\n     <g id=\"line2d_1\">\n      <defs>\n       <path d=\"M 0 0 \nL 0 9 \n\" id=\"med1f3c2d2c\" style=\"stroke:#000000;stroke-width:1.875;\"/>\n      </defs>\n      <g>\n       <use style=\"stroke:#000000;stroke-width:1.875;\" x=\"106.641705\" xlink:href=\"#med1f3c2d2c\" y=\"224.64\"/>\n      </g>\n     </g>\n     <g id=\"text_1\">\n      <!-- 1990 -->\n      <defs>\n       <path d=\"M 12.40625 8.296875 \nL 28.515625 8.296875 \nL 28.515625 63.921875 \nL 10.984375 60.40625 \nL 10.984375 69.390625 \nL 28.421875 72.90625 \nL 38.28125 72.90625 \nL 38.28125 8.296875 \nL 54.390625 8.296875 \nL 54.390625 0 \nL 12.40625 0 \nz\n\" id=\"DejaVuSans-49\"/>\n       <path d=\"M 10.984375 1.515625 \nL 10.984375 10.5 \nQ 14.703125 8.734375 18.5 7.8125 \nQ 22.3125 6.890625 25.984375 6.890625 \nQ 35.75 6.890625 40.890625 13.453125 \nQ 46.046875 20.015625 46.78125 33.40625 \nQ 43.953125 29.203125 39.59375 26.953125 \nQ 35.25 24.703125 29.984375 24.703125 \nQ 19.046875 24.703125 12.671875 31.3125 \nQ 6.296875 37.9375 6.296875 49.421875 \nQ 6.296875 60.640625 12.9375 67.421875 \nQ 19.578125 74.21875 30.609375 74.21875 \nQ 43.265625 74.21875 49.921875 64.515625 \nQ 56.59375 54.828125 56.59375 36.375 \nQ 56.59375 19.140625 48.40625 8.859375 \nQ 40.234375 -1.421875 26.421875 -1.421875 \nQ 22.703125 -1.421875 18.890625 -0.6875 \nQ 15.09375 0.046875 10.984375 1.515625 \nz\nM 30.609375 32.421875 \nQ 37.25 32.421875 41.125 36.953125 \nQ 45.015625 41.5 45.015625 49.421875 \nQ 45.015625 57.28125 41.125 61.84375 \nQ 37.25 66.40625 30.609375 66.40625 \nQ 23.96875 66.40625 20.09375 61.84375 \nQ 16.21875 57.28125 16.21875 49.421875 \nQ 16.21875 41.5 20.09375 36.953125 \nQ 23.96875 32.421875 30.609375 32.421875 \nz\n\" id=\"DejaVuSans-57\"/>\n       <path d=\"M 31.78125 66.40625 \nQ 24.171875 66.40625 20.328125 58.90625 \nQ 16.5 51.421875 16.5 36.375 \nQ 16.5 21.390625 20.328125 13.890625 \nQ 24.171875 6.390625 31.78125 6.390625 \nQ 39.453125 6.390625 43.28125 13.890625 \nQ 47.125 21.390625 47.125 36.375 \nQ 47.125 51.421875 43.28125 58.90625 \nQ 39.453125 66.40625 31.78125 66.40625 \nz\nM 31.78125 74.21875 \nQ 44.046875 74.21875 50.515625 64.515625 \nQ 56.984375 54.828125 56.984375 36.375 \nQ 56.984375 17.96875 50.515625 8.265625 \nQ 44.046875 -1.421875 31.78125 -1.421875 \nQ 19.53125 -1.421875 13.0625 8.265625 \nQ 6.59375 17.96875 6.59375 36.375 \nQ 6.59375 54.828125 13.0625 64.515625 \nQ 19.53125 74.21875 31.78125 74.21875 \nz\n\" id=\"DejaVuSans-48\"/>\n      </defs>\n      <g transform=\"translate(85.645455 249.677422)scale(0.165 -0.165)\">\n       <use xlink:href=\"#DejaVuSans-49\"/>\n       <use x=\"63.623047\" xlink:href=\"#DejaVuSans-57\"/>\n       <use x=\"127.246094\" xlink:href=\"#DejaVuSans-57\"/>\n       <use x=\"190.869141\" xlink:href=\"#DejaVuSans-48\"/>\n      </g>\n     </g>\n    </g>\n    <g id=\"xtick_2\">\n     <g id=\"line2d_2\">\n      <g>\n       <use style=\"stroke:#000000;stroke-width:1.875;\" x=\"191.187159\" xlink:href=\"#med1f3c2d2c\" y=\"224.64\"/>\n      </g>\n     </g>\n     <g id=\"text_2\">\n      <!-- 2000 -->\n      <defs>\n       <path d=\"M 19.1875 8.296875 \nL 53.609375 8.296875 \nL 53.609375 0 \nL 7.328125 0 \nL 7.328125 8.296875 \nQ 12.9375 14.109375 22.625 23.890625 \nQ 32.328125 33.6875 34.8125 36.53125 \nQ 39.546875 41.84375 41.421875 45.53125 \nQ 43.3125 49.21875 43.3125 52.78125 \nQ 43.3125 58.59375 39.234375 62.25 \nQ 35.15625 65.921875 28.609375 65.921875 \nQ 23.96875 65.921875 18.8125 64.3125 \nQ 13.671875 62.703125 7.8125 59.421875 \nL 7.8125 69.390625 \nQ 13.765625 71.78125 18.9375 73 \nQ 24.125 74.21875 28.421875 74.21875 \nQ 39.75 74.21875 46.484375 68.546875 \nQ 53.21875 62.890625 53.21875 53.421875 \nQ 53.21875 48.921875 51.53125 44.890625 \nQ 49.859375 40.875 45.40625 35.40625 \nQ 44.1875 33.984375 37.640625 27.21875 \nQ 31.109375 20.453125 19.1875 8.296875 \nz\n\" id=\"DejaVuSans-50\"/>\n      </defs>\n      <g transform=\"translate(170.190909 249.677422)scale(0.165 -0.165)\">\n       <use xlink:href=\"#DejaVuSans-50\"/>\n       <use x=\"63.623047\" xlink:href=\"#DejaVuSans-48\"/>\n       <use x=\"127.246094\" xlink:href=\"#DejaVuSans-48\"/>\n       <use x=\"190.869141\" xlink:href=\"#DejaVuSans-48\"/>\n      </g>\n     </g>\n    </g>\n    <g id=\"xtick_3\">\n     <g id=\"line2d_3\">\n      <g>\n       <use style=\"stroke:#000000;stroke-width:1.875;\" x=\"275.732614\" xlink:href=\"#med1f3c2d2c\" y=\"224.64\"/>\n      </g>\n     </g>\n     <g id=\"text_3\">\n      <!-- 2010 -->\n      <g transform=\"translate(254.736364 249.677422)scale(0.165 -0.165)\">\n       <use xlink:href=\"#DejaVuSans-50\"/>\n       <use x=\"63.623047\" xlink:href=\"#DejaVuSans-48\"/>\n       <use x=\"127.246094\" xlink:href=\"#DejaVuSans-49\"/>\n       <use x=\"190.869141\" xlink:href=\"#DejaVuSans-48\"/>\n      </g>\n     </g>\n    </g>\n    <g id=\"xtick_4\">\n     <g id=\"line2d_4\">\n      <g>\n       <use style=\"stroke:#000000;stroke-width:1.875;\" x=\"360.278068\" xlink:href=\"#med1f3c2d2c\" y=\"224.64\"/>\n      </g>\n     </g>\n     <g id=\"text_4\">\n      <!-- 2020 -->\n      <g transform=\"translate(339.281818 249.677422)scale(0.165 -0.165)\">\n       <use xlink:href=\"#DejaVuSans-50\"/>\n       <use x=\"63.623047\" xlink:href=\"#DejaVuSans-48\"/>\n       <use x=\"127.246094\" xlink:href=\"#DejaVuSans-50\"/>\n       <use x=\"190.869141\" xlink:href=\"#DejaVuSans-48\"/>\n      </g>\n     </g>\n    </g>\n    <g id=\"text_5\">\n     <!-- year -->\n     <defs>\n      <path d=\"M 32.171875 -5.078125 \nQ 28.375 -14.84375 24.75 -17.8125 \nQ 21.140625 -20.796875 15.09375 -20.796875 \nL 7.90625 -20.796875 \nL 7.90625 -13.28125 \nL 13.1875 -13.28125 \nQ 16.890625 -13.28125 18.9375 -11.515625 \nQ 21 -9.765625 23.484375 -3.21875 \nL 25.09375 0.875 \nL 2.984375 54.6875 \nL 12.5 54.6875 \nL 29.59375 11.921875 \nL 46.6875 54.6875 \nL 56.203125 54.6875 \nz\n\" id=\"DejaVuSans-121\"/>\n      <path d=\"M 56.203125 29.59375 \nL 56.203125 25.203125 \nL 14.890625 25.203125 \nQ 15.484375 15.921875 20.484375 11.0625 \nQ 25.484375 6.203125 34.421875 6.203125 \nQ 39.59375 6.203125 44.453125 7.46875 \nQ 49.3125 8.734375 54.109375 11.28125 \nL 54.109375 2.78125 \nQ 49.265625 0.734375 44.1875 -0.34375 \nQ 39.109375 -1.421875 33.890625 -1.421875 \nQ 20.796875 -1.421875 13.15625 6.1875 \nQ 5.515625 13.8125 5.515625 26.8125 \nQ 5.515625 40.234375 12.765625 48.109375 \nQ 20.015625 56 32.328125 56 \nQ 43.359375 56 49.78125 48.890625 \nQ 56.203125 41.796875 56.203125 29.59375 \nz\nM 47.21875 32.234375 \nQ 47.125 39.59375 43.09375 43.984375 \nQ 39.0625 48.390625 32.421875 48.390625 \nQ 24.90625 48.390625 20.390625 44.140625 \nQ 15.875 39.890625 15.1875 32.171875 \nz\n\" id=\"DejaVuSans-101\"/>\n      <path d=\"M 34.28125 27.484375 \nQ 23.390625 27.484375 19.1875 25 \nQ 14.984375 22.515625 14.984375 16.5 \nQ 14.984375 11.71875 18.140625 8.90625 \nQ 21.296875 6.109375 26.703125 6.109375 \nQ 34.1875 6.109375 38.703125 11.40625 \nQ 43.21875 16.703125 43.21875 25.484375 \nL 43.21875 27.484375 \nz\nM 52.203125 31.203125 \nL 52.203125 0 \nL 43.21875 0 \nL 43.21875 8.296875 \nQ 40.140625 3.328125 35.546875 0.953125 \nQ 30.953125 -1.421875 24.3125 -1.421875 \nQ 15.921875 -1.421875 10.953125 3.296875 \nQ 6 8.015625 6 15.921875 \nQ 6 25.140625 12.171875 29.828125 \nQ 18.359375 34.515625 30.609375 34.515625 \nL 43.21875 34.515625 \nL 43.21875 35.40625 \nQ 43.21875 41.609375 39.140625 45 \nQ 35.0625 48.390625 27.6875 48.390625 \nQ 23 48.390625 18.546875 47.265625 \nQ 14.109375 46.140625 10.015625 43.890625 \nL 10.015625 52.203125 \nQ 14.9375 54.109375 19.578125 55.046875 \nQ 24.21875 56 28.609375 56 \nQ 40.484375 56 46.34375 49.84375 \nQ 52.203125 43.703125 52.203125 31.203125 \nz\n\" id=\"DejaVuSans-97\"/>\n      <path d=\"M 41.109375 46.296875 \nQ 39.59375 47.171875 37.8125 47.578125 \nQ 36.03125 48 33.890625 48 \nQ 26.265625 48 22.1875 43.046875 \nQ 18.109375 38.09375 18.109375 28.8125 \nL 18.109375 0 \nL 9.078125 0 \nL 9.078125 54.6875 \nL 18.109375 54.6875 \nL 18.109375 46.1875 \nQ 20.953125 51.171875 25.484375 53.578125 \nQ 30.03125 56 36.53125 56 \nQ 37.453125 56 38.578125 55.875 \nQ 39.703125 55.765625 41.0625 55.515625 \nz\n\" id=\"DejaVuSans-114\"/>\n     </defs>\n     <g transform=\"translate(188.016406 270.786094)scale(0.18 -0.18)\">\n      <use xlink:href=\"#DejaVuSans-121\"/>\n      <use x=\"59.179688\" xlink:href=\"#DejaVuSans-101\"/>\n      <use x=\"120.703125\" xlink:href=\"#DejaVuSans-97\"/>\n      <use x=\"181.982422\" xlink:href=\"#DejaVuSans-114\"/>\n     </g>\n    </g>\n   </g>\n   <g id=\"matplotlib.axis_2\">\n    <g id=\"ytick_1\">\n     <g id=\"line2d_5\">\n      <defs>\n       <path d=\"M 0 0 \nL -9 0 \n\" id=\"m001afd1ad7\" style=\"stroke:#000000;stroke-width:1.875;\"/>\n      </defs>\n      <g>\n       <use style=\"stroke:#000000;stroke-width:1.875;\" x=\"40.69625\" xlink:href=\"#m001afd1ad7\" y=\"179.951562\"/>\n      </g>\n     </g>\n     <g id=\"text_6\">\n      <!-- 20 -->\n      <g transform=\"translate(7.2 186.220272)scale(0.165 -0.165)\">\n       <use xlink:href=\"#DejaVuSans-50\"/>\n       <use x=\"63.623047\" xlink:href=\"#DejaVuSans-48\"/>\n      </g>\n     </g>\n    </g>\n    <g id=\"ytick_2\">\n     <g id=\"line2d_6\">\n      <g>\n       <use style=\"stroke:#000000;stroke-width:1.875;\" x=\"40.69625\" xlink:href=\"#m001afd1ad7\" y=\"122.073241\"/>\n      </g>\n     </g>\n     <g id=\"text_7\">\n      <!-- 22 -->\n      <g transform=\"translate(7.2 128.341952)scale(0.165 -0.165)\">\n       <use xlink:href=\"#DejaVuSans-50\"/>\n       <use x=\"63.623047\" xlink:href=\"#DejaVuSans-50\"/>\n      </g>\n     </g>\n    </g>\n    <g id=\"ytick_3\">\n     <g id=\"line2d_7\">\n      <g>\n       <use style=\"stroke:#000000;stroke-width:1.875;\" x=\"40.69625\" xlink:href=\"#m001afd1ad7\" y=\"64.19492\"/>\n      </g>\n     </g>\n     <g id=\"text_8\">\n      <!-- 24 -->\n      <defs>\n       <path d=\"M 37.796875 64.3125 \nL 12.890625 25.390625 \nL 37.796875 25.390625 \nz\nM 35.203125 72.90625 \nL 47.609375 72.90625 \nL 47.609375 25.390625 \nL 58.015625 25.390625 \nL 58.015625 17.1875 \nL 47.609375 17.1875 \nL 47.609375 0 \nL 37.796875 0 \nL 37.796875 17.1875 \nL 4.890625 17.1875 \nL 4.890625 26.703125 \nz\n\" id=\"DejaVuSans-52\"/>\n      </defs>\n      <g transform=\"translate(7.2 70.463631)scale(0.165 -0.165)\">\n       <use xlink:href=\"#DejaVuSans-50\"/>\n       <use x=\"63.623047\" xlink:href=\"#DejaVuSans-52\"/>\n      </g>\n     </g>\n    </g>\n   </g>\n   <g id=\"line2d_8\">\n    <path clip-path=\"url(#p7a8a7f392b)\" d=\"M 55.914432 183.370037 \nL 64.368977 185.497809 \nL 72.823523 192.962225 \nL 81.278068 202.27672 \nL 89.732614 199.389458 \nL 98.187159 205.251365 \nL 106.641705 208.863877 \nL 115.09625 213.926954 \nL 123.550795 212.866307 \nL 132.005341 205.872365 \nL 140.459886 208.537087 \nL 148.914432 214.756364 \nL 157.368977 191.968988 \nL 165.823523 196.471948 \nL 174.278068 193.886551 \nL 182.732614 191.194357 \nL 191.187159 193.663211 \nL 199.641705 195.00882 \nL 208.09625 204.023007 \nL 216.550795 208.863003 \nL 225.005341 206.930494 \nL 233.459886 203.281588 \nL 241.914432 210.070307 \nL 250.368977 209.507542 \nL 258.823523 200.894054 \nL 267.278068 187.601863 \nL 275.732614 162.911641 \nL 284.187159 150.679473 \nL 292.641705 127.298367 \nL 301.09625 89.516685 \nL 309.550795 77.754983 \nL 318.005341 63.067127 \nL 326.459886 30.898833 \nL 334.914432 28.048946 \nL 343.368977 34.695924 \nL 351.823523 17.083636 \nL 360.278068 27.501726 \n\" style=\"fill:none;stroke:#1f77b4;stroke-linecap:square;stroke-width:2.25;\"/>\n   </g>\n   <g id=\"line2d_9\">\n    <path clip-path=\"url(#p7a8a7f392b)\" d=\"M 55.914432 179.951562 \nL 64.368977 179.951562 \nL 72.823523 179.951562 \nL 81.278068 179.951562 \nL 89.732614 179.951562 \nL 98.187159 179.951562 \nL 106.641705 179.951562 \nL 115.09625 179.951562 \nL 123.550795 179.951562 \nL 132.005341 179.951562 \nL 140.459886 179.951562 \nL 148.914432 179.951562 \nL 157.368977 179.951562 \nL 165.823523 179.951562 \nL 174.278068 179.951562 \nL 182.732614 179.951562 \nL 191.187159 179.951562 \nL 199.641705 179.951562 \nL 208.09625 179.951562 \nL 216.550795 179.951562 \nL 225.005341 179.951562 \nL 233.459886 179.951562 \nL 241.914432 179.951562 \nL 250.368977 179.951562 \nL 258.823523 179.951562 \nL 267.278068 179.951562 \nL 275.732614 179.951562 \nL 284.187159 179.951562 \nL 292.641705 179.951562 \nL 301.09625 179.951562 \nL 309.550795 179.951562 \nL 318.005341 179.951562 \nL 326.459886 179.951562 \nL 334.914432 179.951562 \nL 343.368977 179.951562 \nL 351.823523 179.951562 \nL 360.278068 179.951562 \n\" style=\"fill:none;stroke:#ff7f0e;stroke-linecap:square;stroke-width:2.25;\"/>\n   </g>\n   <g id=\"patch_3\">\n    <path d=\"M 40.69625 224.64 \nL 40.69625 7.2 \n\" style=\"fill:none;stroke:#000000;stroke-linecap:square;stroke-linejoin:miter;stroke-width:1.875;\"/>\n   </g>\n   <g id=\"patch_4\">\n    <path d=\"M 375.49625 224.64 \nL 375.49625 7.2 \n\" style=\"fill:none;stroke:#000000;stroke-linecap:square;stroke-linejoin:miter;stroke-width:1.875;\"/>\n   </g>\n   <g id=\"patch_5\">\n    <path d=\"M 40.69625 224.64 \nL 375.49625 224.64 \n\" style=\"fill:none;stroke:#000000;stroke-linecap:square;stroke-linejoin:miter;stroke-width:1.875;\"/>\n   </g>\n   <g id=\"patch_6\">\n    <path d=\"M 40.69625 7.2 \nL 375.49625 7.2 \n\" style=\"fill:none;stroke:#000000;stroke-linecap:square;stroke-linejoin:miter;stroke-width:1.875;\"/>\n   </g>\n   <g id=\"legend_1\">\n    <g id=\"patch_7\">\n     <path d=\"M 52.24625 68.837813 \nL 171.757812 68.837813 \nQ 175.057813 68.837813 175.057813 65.537813 \nL 175.057813 18.75 \nQ 175.057813 15.45 171.757812 15.45 \nL 52.24625 15.45 \nQ 48.94625 15.45 48.94625 18.75 \nL 48.94625 65.537813 \nQ 48.94625 68.837813 52.24625 68.837813 \nz\n\" style=\"fill:#ffffff;opacity:0.8;stroke:#cccccc;stroke-linejoin:miter;stroke-width:1.5;\"/>\n    </g>\n    <g id=\"line2d_10\">\n     <path d=\"M 55.54625 28.812422 \nL 88.54625 28.812422 \n\" style=\"fill:none;stroke:#1f77b4;stroke-linecap:square;stroke-width:2.25;\"/>\n    </g>\n    <g id=\"line2d_11\"/>\n    <g id=\"text_9\">\n     <!-- comb08 -->\n     <defs>\n      <path d=\"M 48.78125 52.59375 \nL 48.78125 44.1875 \nQ 44.96875 46.296875 41.140625 47.34375 \nQ 37.3125 48.390625 33.40625 48.390625 \nQ 24.65625 48.390625 19.8125 42.84375 \nQ 14.984375 37.3125 14.984375 27.296875 \nQ 14.984375 17.28125 19.8125 11.734375 \nQ 24.65625 6.203125 33.40625 6.203125 \nQ 37.3125 6.203125 41.140625 7.25 \nQ 44.96875 8.296875 48.78125 10.40625 \nL 48.78125 2.09375 \nQ 45.015625 0.34375 40.984375 -0.53125 \nQ 36.96875 -1.421875 32.421875 -1.421875 \nQ 20.0625 -1.421875 12.78125 6.34375 \nQ 5.515625 14.109375 5.515625 27.296875 \nQ 5.515625 40.671875 12.859375 48.328125 \nQ 20.21875 56 33.015625 56 \nQ 37.15625 56 41.109375 55.140625 \nQ 45.0625 54.296875 48.78125 52.59375 \nz\n\" id=\"DejaVuSans-99\"/>\n      <path d=\"M 30.609375 48.390625 \nQ 23.390625 48.390625 19.1875 42.75 \nQ 14.984375 37.109375 14.984375 27.296875 \nQ 14.984375 17.484375 19.15625 11.84375 \nQ 23.34375 6.203125 30.609375 6.203125 \nQ 37.796875 6.203125 41.984375 11.859375 \nQ 46.1875 17.53125 46.1875 27.296875 \nQ 46.1875 37.015625 41.984375 42.703125 \nQ 37.796875 48.390625 30.609375 48.390625 \nz\nM 30.609375 56 \nQ 42.328125 56 49.015625 48.375 \nQ 55.71875 40.765625 55.71875 27.296875 \nQ 55.71875 13.875 49.015625 6.21875 \nQ 42.328125 -1.421875 30.609375 -1.421875 \nQ 18.84375 -1.421875 12.171875 6.21875 \nQ 5.515625 13.875 5.515625 27.296875 \nQ 5.515625 40.765625 12.171875 48.375 \nQ 18.84375 56 30.609375 56 \nz\n\" id=\"DejaVuSans-111\"/>\n      <path d=\"M 52 44.1875 \nQ 55.375 50.25 60.0625 53.125 \nQ 64.75 56 71.09375 56 \nQ 79.640625 56 84.28125 50.015625 \nQ 88.921875 44.046875 88.921875 33.015625 \nL 88.921875 0 \nL 79.890625 0 \nL 79.890625 32.71875 \nQ 79.890625 40.578125 77.09375 44.375 \nQ 74.3125 48.1875 68.609375 48.1875 \nQ 61.625 48.1875 57.5625 43.546875 \nQ 53.515625 38.921875 53.515625 30.90625 \nL 53.515625 0 \nL 44.484375 0 \nL 44.484375 32.71875 \nQ 44.484375 40.625 41.703125 44.40625 \nQ 38.921875 48.1875 33.109375 48.1875 \nQ 26.21875 48.1875 22.15625 43.53125 \nQ 18.109375 38.875 18.109375 30.90625 \nL 18.109375 0 \nL 9.078125 0 \nL 9.078125 54.6875 \nL 18.109375 54.6875 \nL 18.109375 46.1875 \nQ 21.1875 51.21875 25.484375 53.609375 \nQ 29.78125 56 35.6875 56 \nQ 41.65625 56 45.828125 52.96875 \nQ 50 49.953125 52 44.1875 \nz\n\" id=\"DejaVuSans-109\"/>\n      <path d=\"M 48.6875 27.296875 \nQ 48.6875 37.203125 44.609375 42.84375 \nQ 40.53125 48.484375 33.40625 48.484375 \nQ 26.265625 48.484375 22.1875 42.84375 \nQ 18.109375 37.203125 18.109375 27.296875 \nQ 18.109375 17.390625 22.1875 11.75 \nQ 26.265625 6.109375 33.40625 6.109375 \nQ 40.53125 6.109375 44.609375 11.75 \nQ 48.6875 17.390625 48.6875 27.296875 \nz\nM 18.109375 46.390625 \nQ 20.953125 51.265625 25.265625 53.625 \nQ 29.59375 56 35.59375 56 \nQ 45.5625 56 51.78125 48.09375 \nQ 58.015625 40.1875 58.015625 27.296875 \nQ 58.015625 14.40625 51.78125 6.484375 \nQ 45.5625 -1.421875 35.59375 -1.421875 \nQ 29.59375 -1.421875 25.265625 0.953125 \nQ 20.953125 3.328125 18.109375 8.203125 \nL 18.109375 0 \nL 9.078125 0 \nL 9.078125 75.984375 \nL 18.109375 75.984375 \nz\n\" id=\"DejaVuSans-98\"/>\n      <path d=\"M 31.78125 34.625 \nQ 24.75 34.625 20.71875 30.859375 \nQ 16.703125 27.09375 16.703125 20.515625 \nQ 16.703125 13.921875 20.71875 10.15625 \nQ 24.75 6.390625 31.78125 6.390625 \nQ 38.8125 6.390625 42.859375 10.171875 \nQ 46.921875 13.96875 46.921875 20.515625 \nQ 46.921875 27.09375 42.890625 30.859375 \nQ 38.875 34.625 31.78125 34.625 \nz\nM 21.921875 38.8125 \nQ 15.578125 40.375 12.03125 44.71875 \nQ 8.5 49.078125 8.5 55.328125 \nQ 8.5 64.0625 14.71875 69.140625 \nQ 20.953125 74.21875 31.78125 74.21875 \nQ 42.671875 74.21875 48.875 69.140625 \nQ 55.078125 64.0625 55.078125 55.328125 \nQ 55.078125 49.078125 51.53125 44.71875 \nQ 48 40.375 41.703125 38.8125 \nQ 48.828125 37.15625 52.796875 32.3125 \nQ 56.78125 27.484375 56.78125 20.515625 \nQ 56.78125 9.90625 50.3125 4.234375 \nQ 43.84375 -1.421875 31.78125 -1.421875 \nQ 19.734375 -1.421875 13.25 4.234375 \nQ 6.78125 9.90625 6.78125 20.515625 \nQ 6.78125 27.484375 10.78125 32.3125 \nQ 14.796875 37.15625 21.921875 38.8125 \nz\nM 18.3125 54.390625 \nQ 18.3125 48.734375 21.84375 45.5625 \nQ 25.390625 42.390625 31.78125 42.390625 \nQ 38.140625 42.390625 41.71875 45.5625 \nQ 45.3125 48.734375 45.3125 54.390625 \nQ 45.3125 60.0625 41.71875 63.234375 \nQ 38.140625 66.40625 31.78125 66.40625 \nQ 25.390625 66.40625 21.84375 63.234375 \nQ 18.3125 60.0625 18.3125 54.390625 \nz\n\" id=\"DejaVuSans-56\"/>\n     </defs>\n     <g transform=\"translate(101.74625 34.587422)scale(0.165 -0.165)\">\n      <use xlink:href=\"#DejaVuSans-99\"/>\n      <use x=\"54.980469\" xlink:href=\"#DejaVuSans-111\"/>\n      <use x=\"116.162109\" xlink:href=\"#DejaVuSans-109\"/>\n      <use x=\"213.574219\" xlink:href=\"#DejaVuSans-98\"/>\n      <use x=\"277.050781\" xlink:href=\"#DejaVuSans-48\"/>\n      <use x=\"340.673828\" xlink:href=\"#DejaVuSans-56\"/>\n     </g>\n    </g>\n    <g id=\"line2d_12\">\n     <path d=\"M 55.54625 53.031328 \nL 88.54625 53.031328 \n\" style=\"fill:none;stroke:#ff7f0e;stroke-linecap:square;stroke-width:2.25;\"/>\n    </g>\n    <g id=\"line2d_13\"/>\n    <g id=\"text_10\">\n     <!-- speeds -->\n     <defs>\n      <path d=\"M 44.28125 53.078125 \nL 44.28125 44.578125 \nQ 40.484375 46.53125 36.375 47.5 \nQ 32.28125 48.484375 27.875 48.484375 \nQ 21.1875 48.484375 17.84375 46.4375 \nQ 14.5 44.390625 14.5 40.28125 \nQ 14.5 37.15625 16.890625 35.375 \nQ 19.28125 33.59375 26.515625 31.984375 \nL 29.59375 31.296875 \nQ 39.15625 29.25 43.1875 25.515625 \nQ 47.21875 21.78125 47.21875 15.09375 \nQ 47.21875 7.46875 41.1875 3.015625 \nQ 35.15625 -1.421875 24.609375 -1.421875 \nQ 20.21875 -1.421875 15.453125 -0.5625 \nQ 10.6875 0.296875 5.421875 2 \nL 5.421875 11.28125 \nQ 10.40625 8.6875 15.234375 7.390625 \nQ 20.0625 6.109375 24.8125 6.109375 \nQ 31.15625 6.109375 34.5625 8.28125 \nQ 37.984375 10.453125 37.984375 14.40625 \nQ 37.984375 18.0625 35.515625 20.015625 \nQ 33.0625 21.96875 24.703125 23.78125 \nL 21.578125 24.515625 \nQ 13.234375 26.265625 9.515625 29.90625 \nQ 5.8125 33.546875 5.8125 39.890625 \nQ 5.8125 47.609375 11.28125 51.796875 \nQ 16.75 56 26.8125 56 \nQ 31.78125 56 36.171875 55.265625 \nQ 40.578125 54.546875 44.28125 53.078125 \nz\n\" id=\"DejaVuSans-115\"/>\n      <path d=\"M 18.109375 8.203125 \nL 18.109375 -20.796875 \nL 9.078125 -20.796875 \nL 9.078125 54.6875 \nL 18.109375 54.6875 \nL 18.109375 46.390625 \nQ 20.953125 51.265625 25.265625 53.625 \nQ 29.59375 56 35.59375 56 \nQ 45.5625 56 51.78125 48.09375 \nQ 58.015625 40.1875 58.015625 27.296875 \nQ 58.015625 14.40625 51.78125 6.484375 \nQ 45.5625 -1.421875 35.59375 -1.421875 \nQ 29.59375 -1.421875 25.265625 0.953125 \nQ 20.953125 3.328125 18.109375 8.203125 \nz\nM 48.6875 27.296875 \nQ 48.6875 37.203125 44.609375 42.84375 \nQ 40.53125 48.484375 33.40625 48.484375 \nQ 26.265625 48.484375 22.1875 42.84375 \nQ 18.109375 37.203125 18.109375 27.296875 \nQ 18.109375 17.390625 22.1875 11.75 \nQ 26.265625 6.109375 33.40625 6.109375 \nQ 40.53125 6.109375 44.609375 11.75 \nQ 48.6875 17.390625 48.6875 27.296875 \nz\n\" id=\"DejaVuSans-112\"/>\n      <path d=\"M 45.40625 46.390625 \nL 45.40625 75.984375 \nL 54.390625 75.984375 \nL 54.390625 0 \nL 45.40625 0 \nL 45.40625 8.203125 \nQ 42.578125 3.328125 38.25 0.953125 \nQ 33.9375 -1.421875 27.875 -1.421875 \nQ 17.96875 -1.421875 11.734375 6.484375 \nQ 5.515625 14.40625 5.515625 27.296875 \nQ 5.515625 40.1875 11.734375 48.09375 \nQ 17.96875 56 27.875 56 \nQ 33.9375 56 38.25 53.625 \nQ 42.578125 51.265625 45.40625 46.390625 \nz\nM 14.796875 27.296875 \nQ 14.796875 17.390625 18.875 11.75 \nQ 22.953125 6.109375 30.078125 6.109375 \nQ 37.203125 6.109375 41.296875 11.75 \nQ 45.40625 17.390625 45.40625 27.296875 \nQ 45.40625 37.203125 41.296875 42.84375 \nQ 37.203125 48.484375 30.078125 48.484375 \nQ 22.953125 48.484375 18.875 42.84375 \nQ 14.796875 37.203125 14.796875 27.296875 \nz\n\" id=\"DejaVuSans-100\"/>\n     </defs>\n     <g transform=\"translate(101.74625 58.806328)scale(0.165 -0.165)\">\n      <use xlink:href=\"#DejaVuSans-115\"/>\n      <use x=\"52.099609\" xlink:href=\"#DejaVuSans-112\"/>\n      <use x=\"115.576172\" xlink:href=\"#DejaVuSans-101\"/>\n      <use x=\"177.099609\" xlink:href=\"#DejaVuSans-101\"/>\n      <use x=\"238.623047\" xlink:href=\"#DejaVuSans-100\"/>\n      <use x=\"302.099609\" xlink:href=\"#DejaVuSans-115\"/>\n     </g>\n    </g>\n   </g>\n  </g>\n </g>\n <defs>\n  <clipPath id=\"p7a8a7f392b\">\n   <rect height=\"217.44\" width=\"334.8\" x=\"40.69625\" y=\"7.2\"/>\n  </clipPath>\n </defs>\n</svg>\n",
      "image/png": "[encoded data removed]"
     },
     "metadata": {
      "needs_background": "light"
     }
    }
   ],
   "source": [
    "(autos2\n",
    "    .groupby('year')\n",
    "    [['comb08','speeds']]\n",
    "    .mean()\n",
    "    .plot()\n",
    ")"
   ]
  },
  {
   "cell_type": "code",
   "execution_count": 113,
   "metadata": {},
   "outputs": [
    {
     "output_type": "execute_result",
     "data": {
      "text/plain": [
       "<matplotlib.axes._subplots.AxesSubplot at 0x7fb0132dab80>"
      ]
     },
     "metadata": {},
     "execution_count": 113
    },
    {
     "output_type": "display_data",
     "data": {
      "text/plain": "<Figure size 432x288 with 1 Axes>",
      "image/svg+xml": "<?xml version=\"1.0\" encoding=\"utf-8\" standalone=\"no\"?>\n<!DOCTYPE svg PUBLIC \"-//W3C//DTD SVG 1.1//EN\"\n  \"http://www.w3.org/Graphics/SVG/1.1/DTD/svg11.dtd\">\n<!-- Created with matplotlib (https://matplotlib.org/) -->\n<svg height=\"282.101502pt\" version=\"1.1\" viewBox=\"0 0 388.474318 282.101502\" width=\"388.474318pt\" xmlns=\"http://www.w3.org/2000/svg\" xmlns:xlink=\"http://www.w3.org/1999/xlink\">\n <defs>\n  <style type=\"text/css\">\n*{stroke-linecap:butt;stroke-linejoin:round;}\n  </style>\n </defs>\n <g id=\"figure_1\">\n  <g id=\"patch_1\">\n   <path d=\"M 0 282.101502 \nL 388.474318 282.101502 \nL 388.474318 0 \nL 0 0 \nz\n\" style=\"fill:none;\"/>\n  </g>\n  <g id=\"axes_1\">\n   <g id=\"patch_2\">\n    <path d=\"M 40.69625 225.011971 \nL 375.49625 225.011971 \nL 375.49625 7.571971 \nL 40.69625 7.571971 \nz\n\" style=\"fill:#ffffff;\"/>\n   </g>\n   <g id=\"matplotlib.axis_1\">\n    <g id=\"xtick_1\">\n     <g id=\"line2d_1\">\n      <defs>\n       <path d=\"M 0 0 \nL 0 9 \n\" id=\"m2fccf7a151\" style=\"stroke:#000000;stroke-width:1.875;\"/>\n      </defs>\n      <g>\n       <use style=\"stroke:#000000;stroke-width:1.875;\" x=\"106.641705\" xlink:href=\"#m2fccf7a151\" y=\"225.011971\"/>\n      </g>\n     </g>\n     <g id=\"text_1\">\n      <!-- 1990 -->\n      <defs>\n       <path d=\"M 12.40625 8.296875 \nL 28.515625 8.296875 \nL 28.515625 63.921875 \nL 10.984375 60.40625 \nL 10.984375 69.390625 \nL 28.421875 72.90625 \nL 38.28125 72.90625 \nL 38.28125 8.296875 \nL 54.390625 8.296875 \nL 54.390625 0 \nL 12.40625 0 \nz\n\" id=\"DejaVuSans-49\"/>\n       <path d=\"M 10.984375 1.515625 \nL 10.984375 10.5 \nQ 14.703125 8.734375 18.5 7.8125 \nQ 22.3125 6.890625 25.984375 6.890625 \nQ 35.75 6.890625 40.890625 13.453125 \nQ 46.046875 20.015625 46.78125 33.40625 \nQ 43.953125 29.203125 39.59375 26.953125 \nQ 35.25 24.703125 29.984375 24.703125 \nQ 19.046875 24.703125 12.671875 31.3125 \nQ 6.296875 37.9375 6.296875 49.421875 \nQ 6.296875 60.640625 12.9375 67.421875 \nQ 19.578125 74.21875 30.609375 74.21875 \nQ 43.265625 74.21875 49.921875 64.515625 \nQ 56.59375 54.828125 56.59375 36.375 \nQ 56.59375 19.140625 48.40625 8.859375 \nQ 40.234375 -1.421875 26.421875 -1.421875 \nQ 22.703125 -1.421875 18.890625 -0.6875 \nQ 15.09375 0.046875 10.984375 1.515625 \nz\nM 30.609375 32.421875 \nQ 37.25 32.421875 41.125 36.953125 \nQ 45.015625 41.5 45.015625 49.421875 \nQ 45.015625 57.28125 41.125 61.84375 \nQ 37.25 66.40625 30.609375 66.40625 \nQ 23.96875 66.40625 20.09375 61.84375 \nQ 16.21875 57.28125 16.21875 49.421875 \nQ 16.21875 41.5 20.09375 36.953125 \nQ 23.96875 32.421875 30.609375 32.421875 \nz\n\" id=\"DejaVuSans-57\"/>\n       <path d=\"M 31.78125 66.40625 \nQ 24.171875 66.40625 20.328125 58.90625 \nQ 16.5 51.421875 16.5 36.375 \nQ 16.5 21.390625 20.328125 13.890625 \nQ 24.171875 6.390625 31.78125 6.390625 \nQ 39.453125 6.390625 43.28125 13.890625 \nQ 47.125 21.390625 47.125 36.375 \nQ 47.125 51.421875 43.28125 58.90625 \nQ 39.453125 66.40625 31.78125 66.40625 \nz\nM 31.78125 74.21875 \nQ 44.046875 74.21875 50.515625 64.515625 \nQ 56.984375 54.828125 56.984375 36.375 \nQ 56.984375 17.96875 50.515625 8.265625 \nQ 44.046875 -1.421875 31.78125 -1.421875 \nQ 19.53125 -1.421875 13.0625 8.265625 \nQ 6.59375 17.96875 6.59375 36.375 \nQ 6.59375 54.828125 13.0625 64.515625 \nQ 19.53125 74.21875 31.78125 74.21875 \nz\n\" id=\"DejaVuSans-48\"/>\n      </defs>\n      <g transform=\"translate(85.645455 250.049393)scale(0.165 -0.165)\">\n       <use xlink:href=\"#DejaVuSans-49\"/>\n       <use x=\"63.623047\" xlink:href=\"#DejaVuSans-57\"/>\n       <use x=\"127.246094\" xlink:href=\"#DejaVuSans-57\"/>\n       <use x=\"190.869141\" xlink:href=\"#DejaVuSans-48\"/>\n      </g>\n     </g>\n    </g>\n    <g id=\"xtick_2\">\n     <g id=\"line2d_2\">\n      <g>\n       <use style=\"stroke:#000000;stroke-width:1.875;\" x=\"191.187159\" xlink:href=\"#m2fccf7a151\" y=\"225.011971\"/>\n      </g>\n     </g>\n     <g id=\"text_2\">\n      <!-- 2000 -->\n      <defs>\n       <path d=\"M 19.1875 8.296875 \nL 53.609375 8.296875 \nL 53.609375 0 \nL 7.328125 0 \nL 7.328125 8.296875 \nQ 12.9375 14.109375 22.625 23.890625 \nQ 32.328125 33.6875 34.8125 36.53125 \nQ 39.546875 41.84375 41.421875 45.53125 \nQ 43.3125 49.21875 43.3125 52.78125 \nQ 43.3125 58.59375 39.234375 62.25 \nQ 35.15625 65.921875 28.609375 65.921875 \nQ 23.96875 65.921875 18.8125 64.3125 \nQ 13.671875 62.703125 7.8125 59.421875 \nL 7.8125 69.390625 \nQ 13.765625 71.78125 18.9375 73 \nQ 24.125 74.21875 28.421875 74.21875 \nQ 39.75 74.21875 46.484375 68.546875 \nQ 53.21875 62.890625 53.21875 53.421875 \nQ 53.21875 48.921875 51.53125 44.890625 \nQ 49.859375 40.875 45.40625 35.40625 \nQ 44.1875 33.984375 37.640625 27.21875 \nQ 31.109375 20.453125 19.1875 8.296875 \nz\n\" id=\"DejaVuSans-50\"/>\n      </defs>\n      <g transform=\"translate(170.190909 250.049393)scale(0.165 -0.165)\">\n       <use xlink:href=\"#DejaVuSans-50\"/>\n       <use x=\"63.623047\" xlink:href=\"#DejaVuSans-48\"/>\n       <use x=\"127.246094\" xlink:href=\"#DejaVuSans-48\"/>\n       <use x=\"190.869141\" xlink:href=\"#DejaVuSans-48\"/>\n      </g>\n     </g>\n    </g>\n    <g id=\"xtick_3\">\n     <g id=\"line2d_3\">\n      <g>\n       <use style=\"stroke:#000000;stroke-width:1.875;\" x=\"275.732614\" xlink:href=\"#m2fccf7a151\" y=\"225.011971\"/>\n      </g>\n     </g>\n     <g id=\"text_3\">\n      <!-- 2010 -->\n      <g transform=\"translate(254.736364 250.049393)scale(0.165 -0.165)\">\n       <use xlink:href=\"#DejaVuSans-50\"/>\n       <use x=\"63.623047\" xlink:href=\"#DejaVuSans-48\"/>\n       <use x=\"127.246094\" xlink:href=\"#DejaVuSans-49\"/>\n       <use x=\"190.869141\" xlink:href=\"#DejaVuSans-48\"/>\n      </g>\n     </g>\n    </g>\n    <g id=\"xtick_4\">\n     <g id=\"line2d_4\">\n      <g>\n       <use style=\"stroke:#000000;stroke-width:1.875;\" x=\"360.278068\" xlink:href=\"#m2fccf7a151\" y=\"225.011971\"/>\n      </g>\n     </g>\n     <g id=\"text_4\">\n      <!-- 2020 -->\n      <g transform=\"translate(339.281818 250.049393)scale(0.165 -0.165)\">\n       <use xlink:href=\"#DejaVuSans-50\"/>\n       <use x=\"63.623047\" xlink:href=\"#DejaVuSans-48\"/>\n       <use x=\"127.246094\" xlink:href=\"#DejaVuSans-50\"/>\n       <use x=\"190.869141\" xlink:href=\"#DejaVuSans-48\"/>\n      </g>\n     </g>\n    </g>\n    <g id=\"text_5\">\n     <!-- year -->\n     <defs>\n      <path d=\"M 32.171875 -5.078125 \nQ 28.375 -14.84375 24.75 -17.8125 \nQ 21.140625 -20.796875 15.09375 -20.796875 \nL 7.90625 -20.796875 \nL 7.90625 -13.28125 \nL 13.1875 -13.28125 \nQ 16.890625 -13.28125 18.9375 -11.515625 \nQ 21 -9.765625 23.484375 -3.21875 \nL 25.09375 0.875 \nL 2.984375 54.6875 \nL 12.5 54.6875 \nL 29.59375 11.921875 \nL 46.6875 54.6875 \nL 56.203125 54.6875 \nz\n\" id=\"DejaVuSans-121\"/>\n      <path d=\"M 56.203125 29.59375 \nL 56.203125 25.203125 \nL 14.890625 25.203125 \nQ 15.484375 15.921875 20.484375 11.0625 \nQ 25.484375 6.203125 34.421875 6.203125 \nQ 39.59375 6.203125 44.453125 7.46875 \nQ 49.3125 8.734375 54.109375 11.28125 \nL 54.109375 2.78125 \nQ 49.265625 0.734375 44.1875 -0.34375 \nQ 39.109375 -1.421875 33.890625 -1.421875 \nQ 20.796875 -1.421875 13.15625 6.1875 \nQ 5.515625 13.8125 5.515625 26.8125 \nQ 5.515625 40.234375 12.765625 48.109375 \nQ 20.015625 56 32.328125 56 \nQ 43.359375 56 49.78125 48.890625 \nQ 56.203125 41.796875 56.203125 29.59375 \nz\nM 47.21875 32.234375 \nQ 47.125 39.59375 43.09375 43.984375 \nQ 39.0625 48.390625 32.421875 48.390625 \nQ 24.90625 48.390625 20.390625 44.140625 \nQ 15.875 39.890625 15.1875 32.171875 \nz\n\" id=\"DejaVuSans-101\"/>\n      <path d=\"M 34.28125 27.484375 \nQ 23.390625 27.484375 19.1875 25 \nQ 14.984375 22.515625 14.984375 16.5 \nQ 14.984375 11.71875 18.140625 8.90625 \nQ 21.296875 6.109375 26.703125 6.109375 \nQ 34.1875 6.109375 38.703125 11.40625 \nQ 43.21875 16.703125 43.21875 25.484375 \nL 43.21875 27.484375 \nz\nM 52.203125 31.203125 \nL 52.203125 0 \nL 43.21875 0 \nL 43.21875 8.296875 \nQ 40.140625 3.328125 35.546875 0.953125 \nQ 30.953125 -1.421875 24.3125 -1.421875 \nQ 15.921875 -1.421875 10.953125 3.296875 \nQ 6 8.015625 6 15.921875 \nQ 6 25.140625 12.171875 29.828125 \nQ 18.359375 34.515625 30.609375 34.515625 \nL 43.21875 34.515625 \nL 43.21875 35.40625 \nQ 43.21875 41.609375 39.140625 45 \nQ 35.0625 48.390625 27.6875 48.390625 \nQ 23 48.390625 18.546875 47.265625 \nQ 14.109375 46.140625 10.015625 43.890625 \nL 10.015625 52.203125 \nQ 14.9375 54.109375 19.578125 55.046875 \nQ 24.21875 56 28.609375 56 \nQ 40.484375 56 46.34375 49.84375 \nQ 52.203125 43.703125 52.203125 31.203125 \nz\n\" id=\"DejaVuSans-97\"/>\n      <path d=\"M 41.109375 46.296875 \nQ 39.59375 47.171875 37.8125 47.578125 \nQ 36.03125 48 33.890625 48 \nQ 26.265625 48 22.1875 43.046875 \nQ 18.109375 38.09375 18.109375 28.8125 \nL 18.109375 0 \nL 9.078125 0 \nL 9.078125 54.6875 \nL 18.109375 54.6875 \nL 18.109375 46.1875 \nQ 20.953125 51.171875 25.484375 53.578125 \nQ 30.03125 56 36.53125 56 \nQ 37.453125 56 38.578125 55.875 \nQ 39.703125 55.765625 41.0625 55.515625 \nz\n\" id=\"DejaVuSans-114\"/>\n     </defs>\n     <g transform=\"translate(188.016406 271.158064)scale(0.18 -0.18)\">\n      <use xlink:href=\"#DejaVuSans-121\"/>\n      <use x=\"59.179688\" xlink:href=\"#DejaVuSans-101\"/>\n      <use x=\"120.703125\" xlink:href=\"#DejaVuSans-97\"/>\n      <use x=\"181.982422\" xlink:href=\"#DejaVuSans-114\"/>\n     </g>\n    </g>\n   </g>\n   <g id=\"matplotlib.axis_2\">\n    <g id=\"ytick_1\">\n     <g id=\"line2d_5\">\n      <defs>\n       <path d=\"M 0 0 \nL -9 0 \n\" id=\"me6174f8ad8\" style=\"stroke:#000000;stroke-width:1.875;\"/>\n      </defs>\n      <g>\n       <use style=\"stroke:#000000;stroke-width:1.875;\" x=\"40.69625\" xlink:href=\"#me6174f8ad8\" y=\"215.128334\"/>\n      </g>\n     </g>\n     <g id=\"text_6\">\n      <!-- 0 -->\n      <g transform=\"translate(17.698125 221.397045)scale(0.165 -0.165)\">\n       <use xlink:href=\"#DejaVuSans-48\"/>\n      </g>\n     </g>\n    </g>\n    <g id=\"ytick_2\">\n     <g id=\"line2d_6\">\n      <g>\n       <use style=\"stroke:#000000;stroke-width:1.875;\" x=\"40.69625\" xlink:href=\"#me6174f8ad8\" y=\"147.90846\"/>\n      </g>\n     </g>\n     <g id=\"text_7\">\n      <!-- 5 -->\n      <defs>\n       <path d=\"M 10.796875 72.90625 \nL 49.515625 72.90625 \nL 49.515625 64.59375 \nL 19.828125 64.59375 \nL 19.828125 46.734375 \nQ 21.96875 47.46875 24.109375 47.828125 \nQ 26.265625 48.1875 28.421875 48.1875 \nQ 40.625 48.1875 47.75 41.5 \nQ 54.890625 34.8125 54.890625 23.390625 \nQ 54.890625 11.625 47.5625 5.09375 \nQ 40.234375 -1.421875 26.90625 -1.421875 \nQ 22.3125 -1.421875 17.546875 -0.640625 \nQ 12.796875 0.140625 7.71875 1.703125 \nL 7.71875 11.625 \nQ 12.109375 9.234375 16.796875 8.0625 \nQ 21.484375 6.890625 26.703125 6.890625 \nQ 35.15625 6.890625 40.078125 11.328125 \nQ 45.015625 15.765625 45.015625 23.390625 \nQ 45.015625 31 40.078125 35.4375 \nQ 35.15625 39.890625 26.703125 39.890625 \nQ 22.75 39.890625 18.8125 39.015625 \nQ 14.890625 38.140625 10.796875 36.28125 \nz\n\" id=\"DejaVuSans-53\"/>\n      </defs>\n      <g transform=\"translate(17.698125 154.177171)scale(0.165 -0.165)\">\n       <use xlink:href=\"#DejaVuSans-53\"/>\n      </g>\n     </g>\n    </g>\n    <g id=\"ytick_3\">\n     <g id=\"line2d_7\">\n      <g>\n       <use style=\"stroke:#000000;stroke-width:1.875;\" x=\"40.69625\" xlink:href=\"#me6174f8ad8\" y=\"80.688585\"/>\n      </g>\n     </g>\n     <g id=\"text_8\">\n      <!-- 10 -->\n      <g transform=\"translate(7.2 86.957296)scale(0.165 -0.165)\">\n       <use xlink:href=\"#DejaVuSans-49\"/>\n       <use x=\"63.623047\" xlink:href=\"#DejaVuSans-48\"/>\n      </g>\n     </g>\n    </g>\n    <g id=\"ytick_4\">\n     <g id=\"line2d_8\">\n      <g>\n       <use style=\"stroke:#000000;stroke-width:1.875;\" x=\"40.69625\" xlink:href=\"#me6174f8ad8\" y=\"13.468711\"/>\n      </g>\n     </g>\n     <g id=\"text_9\">\n      <!-- 15 -->\n      <g transform=\"translate(7.2 19.737422)scale(0.165 -0.165)\">\n       <use xlink:href=\"#DejaVuSans-49\"/>\n       <use x=\"63.623047\" xlink:href=\"#DejaVuSans-53\"/>\n      </g>\n     </g>\n    </g>\n   </g>\n   <g id=\"line2d_9\">\n    <path clip-path=\"url(#p313d692ff9)\" d=\"M 55.914432 143.433459 \nL 64.368977 144.707868 \nL 72.823523 145.423044 \nL 81.278068 147.294242 \nL 89.732614 148.151589 \nL 98.187159 146.535185 \nL 106.641705 149.255113 \nL 115.09625 150.152443 \nL 123.550795 149.940348 \nL 132.005341 150.164692 \nL 140.459886 153.725715 \nL 148.914432 154.062857 \nL 157.368977 153.331155 \nL 165.823523 154.755372 \nL 174.278068 152.263905 \nL 182.732614 142.875074 \nL 191.187159 140.459255 \nL 199.641705 140.090769 \nL 208.09625 149.565325 \nL 216.550795 149.000061 \nL 225.005341 155.52912 \nL 233.459886 155.167583 \nL 241.914432 159.2819 \nL 250.368977 162.427513 \nL 258.823523 150.734461 \nL 267.278068 156.084229 \nL 275.732614 151.48791 \nL 284.187159 126.609798 \nL 292.641705 111.092497 \nL 301.09625 77.478147 \nL 309.550795 72.549478 \nL 318.005341 66.607223 \nL 326.459886 37.553715 \nL 334.914432 31.926638 \nL 343.368977 43.527735 \nL 351.823523 17.455607 \nL 360.278068 95.733901 \n\" style=\"fill:none;stroke:#1f77b4;stroke-linecap:square;stroke-width:2.25;\"/>\n   </g>\n   <g id=\"line2d_10\">\n    <path clip-path=\"url(#p313d692ff9)\" d=\"M 55.914432 215.128334 \nL 64.368977 215.128334 \nL 72.823523 215.128334 \nL 81.278068 215.128334 \nL 89.732614 215.128334 \nL 98.187159 215.128334 \nL 106.641705 215.128334 \nL 115.09625 215.128334 \nL 123.550795 215.128334 \nL 132.005341 215.128334 \nL 140.459886 215.128334 \nL 148.914432 215.128334 \nL 157.368977 215.128334 \nL 165.823523 215.128334 \nL 174.278068 215.128334 \nL 182.732614 215.128334 \nL 191.187159 215.128334 \nL 199.641705 215.128334 \nL 208.09625 215.128334 \nL 216.550795 215.128334 \nL 225.005341 215.128334 \nL 233.459886 215.128334 \nL 241.914432 215.128334 \nL 250.368977 215.128334 \nL 258.823523 215.128334 \nL 267.278068 215.128334 \nL 275.732614 215.128334 \nL 284.187159 215.128334 \nL 292.641705 215.128334 \nL 301.09625 215.128334 \nL 309.550795 215.128334 \nL 318.005341 215.128334 \nL 326.459886 215.128334 \nL 334.914432 215.128334 \nL 343.368977 215.128334 \nL 351.823523 215.128334 \nL 360.278068 215.128334 \n\" style=\"fill:none;stroke:#ff7f0e;stroke-linecap:square;stroke-width:2.25;\"/>\n   </g>\n   <g id=\"patch_3\">\n    <path d=\"M 40.69625 225.011971 \nL 40.69625 7.571971 \n\" style=\"fill:none;stroke:#000000;stroke-linecap:square;stroke-linejoin:miter;stroke-width:1.875;\"/>\n   </g>\n   <g id=\"patch_4\">\n    <path d=\"M 375.49625 225.011971 \nL 375.49625 7.571971 \n\" style=\"fill:none;stroke:#000000;stroke-linecap:square;stroke-linejoin:miter;stroke-width:1.875;\"/>\n   </g>\n   <g id=\"patch_5\">\n    <path d=\"M 40.69625 225.011971 \nL 375.49625 225.011971 \n\" style=\"fill:none;stroke:#000000;stroke-linecap:square;stroke-linejoin:miter;stroke-width:1.875;\"/>\n   </g>\n   <g id=\"patch_6\">\n    <path d=\"M 40.69625 7.571971 \nL 375.49625 7.571971 \n\" style=\"fill:none;stroke:#000000;stroke-linecap:square;stroke-linejoin:miter;stroke-width:1.875;\"/>\n   </g>\n   <g id=\"legend_1\">\n    <g id=\"patch_7\">\n     <path d=\"M 52.24625 69.209783 \nL 171.757812 69.209783 \nQ 175.057813 69.209783 175.057813 65.909783 \nL 175.057813 19.121971 \nQ 175.057813 15.821971 171.757812 15.821971 \nL 52.24625 15.821971 \nQ 48.94625 15.821971 48.94625 19.121971 \nL 48.94625 65.909783 \nQ 48.94625 69.209783 52.24625 69.209783 \nz\n\" style=\"fill:#ffffff;opacity:0.8;stroke:#cccccc;stroke-linejoin:miter;stroke-width:1.5;\"/>\n    </g>\n    <g id=\"line2d_11\">\n     <path d=\"M 55.54625 29.184393 \nL 88.54625 29.184393 \n\" style=\"fill:none;stroke:#1f77b4;stroke-linecap:square;stroke-width:2.25;\"/>\n    </g>\n    <g id=\"line2d_12\"/>\n    <g id=\"text_10\">\n     <!-- comb08 -->\n     <defs>\n      <path d=\"M 48.78125 52.59375 \nL 48.78125 44.1875 \nQ 44.96875 46.296875 41.140625 47.34375 \nQ 37.3125 48.390625 33.40625 48.390625 \nQ 24.65625 48.390625 19.8125 42.84375 \nQ 14.984375 37.3125 14.984375 27.296875 \nQ 14.984375 17.28125 19.8125 11.734375 \nQ 24.65625 6.203125 33.40625 6.203125 \nQ 37.3125 6.203125 41.140625 7.25 \nQ 44.96875 8.296875 48.78125 10.40625 \nL 48.78125 2.09375 \nQ 45.015625 0.34375 40.984375 -0.53125 \nQ 36.96875 -1.421875 32.421875 -1.421875 \nQ 20.0625 -1.421875 12.78125 6.34375 \nQ 5.515625 14.109375 5.515625 27.296875 \nQ 5.515625 40.671875 12.859375 48.328125 \nQ 20.21875 56 33.015625 56 \nQ 37.15625 56 41.109375 55.140625 \nQ 45.0625 54.296875 48.78125 52.59375 \nz\n\" id=\"DejaVuSans-99\"/>\n      <path d=\"M 30.609375 48.390625 \nQ 23.390625 48.390625 19.1875 42.75 \nQ 14.984375 37.109375 14.984375 27.296875 \nQ 14.984375 17.484375 19.15625 11.84375 \nQ 23.34375 6.203125 30.609375 6.203125 \nQ 37.796875 6.203125 41.984375 11.859375 \nQ 46.1875 17.53125 46.1875 27.296875 \nQ 46.1875 37.015625 41.984375 42.703125 \nQ 37.796875 48.390625 30.609375 48.390625 \nz\nM 30.609375 56 \nQ 42.328125 56 49.015625 48.375 \nQ 55.71875 40.765625 55.71875 27.296875 \nQ 55.71875 13.875 49.015625 6.21875 \nQ 42.328125 -1.421875 30.609375 -1.421875 \nQ 18.84375 -1.421875 12.171875 6.21875 \nQ 5.515625 13.875 5.515625 27.296875 \nQ 5.515625 40.765625 12.171875 48.375 \nQ 18.84375 56 30.609375 56 \nz\n\" id=\"DejaVuSans-111\"/>\n      <path d=\"M 52 44.1875 \nQ 55.375 50.25 60.0625 53.125 \nQ 64.75 56 71.09375 56 \nQ 79.640625 56 84.28125 50.015625 \nQ 88.921875 44.046875 88.921875 33.015625 \nL 88.921875 0 \nL 79.890625 0 \nL 79.890625 32.71875 \nQ 79.890625 40.578125 77.09375 44.375 \nQ 74.3125 48.1875 68.609375 48.1875 \nQ 61.625 48.1875 57.5625 43.546875 \nQ 53.515625 38.921875 53.515625 30.90625 \nL 53.515625 0 \nL 44.484375 0 \nL 44.484375 32.71875 \nQ 44.484375 40.625 41.703125 44.40625 \nQ 38.921875 48.1875 33.109375 48.1875 \nQ 26.21875 48.1875 22.15625 43.53125 \nQ 18.109375 38.875 18.109375 30.90625 \nL 18.109375 0 \nL 9.078125 0 \nL 9.078125 54.6875 \nL 18.109375 54.6875 \nL 18.109375 46.1875 \nQ 21.1875 51.21875 25.484375 53.609375 \nQ 29.78125 56 35.6875 56 \nQ 41.65625 56 45.828125 52.96875 \nQ 50 49.953125 52 44.1875 \nz\n\" id=\"DejaVuSans-109\"/>\n      <path d=\"M 48.6875 27.296875 \nQ 48.6875 37.203125 44.609375 42.84375 \nQ 40.53125 48.484375 33.40625 48.484375 \nQ 26.265625 48.484375 22.1875 42.84375 \nQ 18.109375 37.203125 18.109375 27.296875 \nQ 18.109375 17.390625 22.1875 11.75 \nQ 26.265625 6.109375 33.40625 6.109375 \nQ 40.53125 6.109375 44.609375 11.75 \nQ 48.6875 17.390625 48.6875 27.296875 \nz\nM 18.109375 46.390625 \nQ 20.953125 51.265625 25.265625 53.625 \nQ 29.59375 56 35.59375 56 \nQ 45.5625 56 51.78125 48.09375 \nQ 58.015625 40.1875 58.015625 27.296875 \nQ 58.015625 14.40625 51.78125 6.484375 \nQ 45.5625 -1.421875 35.59375 -1.421875 \nQ 29.59375 -1.421875 25.265625 0.953125 \nQ 20.953125 3.328125 18.109375 8.203125 \nL 18.109375 0 \nL 9.078125 0 \nL 9.078125 75.984375 \nL 18.109375 75.984375 \nz\n\" id=\"DejaVuSans-98\"/>\n      <path d=\"M 31.78125 34.625 \nQ 24.75 34.625 20.71875 30.859375 \nQ 16.703125 27.09375 16.703125 20.515625 \nQ 16.703125 13.921875 20.71875 10.15625 \nQ 24.75 6.390625 31.78125 6.390625 \nQ 38.8125 6.390625 42.859375 10.171875 \nQ 46.921875 13.96875 46.921875 20.515625 \nQ 46.921875 27.09375 42.890625 30.859375 \nQ 38.875 34.625 31.78125 34.625 \nz\nM 21.921875 38.8125 \nQ 15.578125 40.375 12.03125 44.71875 \nQ 8.5 49.078125 8.5 55.328125 \nQ 8.5 64.0625 14.71875 69.140625 \nQ 20.953125 74.21875 31.78125 74.21875 \nQ 42.671875 74.21875 48.875 69.140625 \nQ 55.078125 64.0625 55.078125 55.328125 \nQ 55.078125 49.078125 51.53125 44.71875 \nQ 48 40.375 41.703125 38.8125 \nQ 48.828125 37.15625 52.796875 32.3125 \nQ 56.78125 27.484375 56.78125 20.515625 \nQ 56.78125 9.90625 50.3125 4.234375 \nQ 43.84375 -1.421875 31.78125 -1.421875 \nQ 19.734375 -1.421875 13.25 4.234375 \nQ 6.78125 9.90625 6.78125 20.515625 \nQ 6.78125 27.484375 10.78125 32.3125 \nQ 14.796875 37.15625 21.921875 38.8125 \nz\nM 18.3125 54.390625 \nQ 18.3125 48.734375 21.84375 45.5625 \nQ 25.390625 42.390625 31.78125 42.390625 \nQ 38.140625 42.390625 41.71875 45.5625 \nQ 45.3125 48.734375 45.3125 54.390625 \nQ 45.3125 60.0625 41.71875 63.234375 \nQ 38.140625 66.40625 31.78125 66.40625 \nQ 25.390625 66.40625 21.84375 63.234375 \nQ 18.3125 60.0625 18.3125 54.390625 \nz\n\" id=\"DejaVuSans-56\"/>\n     </defs>\n     <g transform=\"translate(101.74625 34.959393)scale(0.165 -0.165)\">\n      <use xlink:href=\"#DejaVuSans-99\"/>\n      <use x=\"54.980469\" xlink:href=\"#DejaVuSans-111\"/>\n      <use x=\"116.162109\" xlink:href=\"#DejaVuSans-109\"/>\n      <use x=\"213.574219\" xlink:href=\"#DejaVuSans-98\"/>\n      <use x=\"277.050781\" xlink:href=\"#DejaVuSans-48\"/>\n      <use x=\"340.673828\" xlink:href=\"#DejaVuSans-56\"/>\n     </g>\n    </g>\n    <g id=\"line2d_13\">\n     <path d=\"M 55.54625 53.403299 \nL 88.54625 53.403299 \n\" style=\"fill:none;stroke:#ff7f0e;stroke-linecap:square;stroke-width:2.25;\"/>\n    </g>\n    <g id=\"line2d_14\"/>\n    <g id=\"text_11\">\n     <!-- speeds -->\n     <defs>\n      <path d=\"M 44.28125 53.078125 \nL 44.28125 44.578125 \nQ 40.484375 46.53125 36.375 47.5 \nQ 32.28125 48.484375 27.875 48.484375 \nQ 21.1875 48.484375 17.84375 46.4375 \nQ 14.5 44.390625 14.5 40.28125 \nQ 14.5 37.15625 16.890625 35.375 \nQ 19.28125 33.59375 26.515625 31.984375 \nL 29.59375 31.296875 \nQ 39.15625 29.25 43.1875 25.515625 \nQ 47.21875 21.78125 47.21875 15.09375 \nQ 47.21875 7.46875 41.1875 3.015625 \nQ 35.15625 -1.421875 24.609375 -1.421875 \nQ 20.21875 -1.421875 15.453125 -0.5625 \nQ 10.6875 0.296875 5.421875 2 \nL 5.421875 11.28125 \nQ 10.40625 8.6875 15.234375 7.390625 \nQ 20.0625 6.109375 24.8125 6.109375 \nQ 31.15625 6.109375 34.5625 8.28125 \nQ 37.984375 10.453125 37.984375 14.40625 \nQ 37.984375 18.0625 35.515625 20.015625 \nQ 33.0625 21.96875 24.703125 23.78125 \nL 21.578125 24.515625 \nQ 13.234375 26.265625 9.515625 29.90625 \nQ 5.8125 33.546875 5.8125 39.890625 \nQ 5.8125 47.609375 11.28125 51.796875 \nQ 16.75 56 26.8125 56 \nQ 31.78125 56 36.171875 55.265625 \nQ 40.578125 54.546875 44.28125 53.078125 \nz\n\" id=\"DejaVuSans-115\"/>\n      <path d=\"M 18.109375 8.203125 \nL 18.109375 -20.796875 \nL 9.078125 -20.796875 \nL 9.078125 54.6875 \nL 18.109375 54.6875 \nL 18.109375 46.390625 \nQ 20.953125 51.265625 25.265625 53.625 \nQ 29.59375 56 35.59375 56 \nQ 45.5625 56 51.78125 48.09375 \nQ 58.015625 40.1875 58.015625 27.296875 \nQ 58.015625 14.40625 51.78125 6.484375 \nQ 45.5625 -1.421875 35.59375 -1.421875 \nQ 29.59375 -1.421875 25.265625 0.953125 \nQ 20.953125 3.328125 18.109375 8.203125 \nz\nM 48.6875 27.296875 \nQ 48.6875 37.203125 44.609375 42.84375 \nQ 40.53125 48.484375 33.40625 48.484375 \nQ 26.265625 48.484375 22.1875 42.84375 \nQ 18.109375 37.203125 18.109375 27.296875 \nQ 18.109375 17.390625 22.1875 11.75 \nQ 26.265625 6.109375 33.40625 6.109375 \nQ 40.53125 6.109375 44.609375 11.75 \nQ 48.6875 17.390625 48.6875 27.296875 \nz\n\" id=\"DejaVuSans-112\"/>\n      <path d=\"M 45.40625 46.390625 \nL 45.40625 75.984375 \nL 54.390625 75.984375 \nL 54.390625 0 \nL 45.40625 0 \nL 45.40625 8.203125 \nQ 42.578125 3.328125 38.25 0.953125 \nQ 33.9375 -1.421875 27.875 -1.421875 \nQ 17.96875 -1.421875 11.734375 6.484375 \nQ 5.515625 14.40625 5.515625 27.296875 \nQ 5.515625 40.1875 11.734375 48.09375 \nQ 17.96875 56 27.875 56 \nQ 33.9375 56 38.25 53.625 \nQ 42.578125 51.265625 45.40625 46.390625 \nz\nM 14.796875 27.296875 \nQ 14.796875 17.390625 18.875 11.75 \nQ 22.953125 6.109375 30.078125 6.109375 \nQ 37.203125 6.109375 41.296875 11.75 \nQ 45.40625 17.390625 45.40625 27.296875 \nQ 45.40625 37.203125 41.296875 42.84375 \nQ 37.203125 48.484375 30.078125 48.484375 \nQ 22.953125 48.484375 18.875 42.84375 \nQ 14.796875 37.203125 14.796875 27.296875 \nz\n\" id=\"DejaVuSans-100\"/>\n     </defs>\n     <g transform=\"translate(101.74625 59.178299)scale(0.165 -0.165)\">\n      <use xlink:href=\"#DejaVuSans-115\"/>\n      <use x=\"52.099609\" xlink:href=\"#DejaVuSans-112\"/>\n      <use x=\"115.576172\" xlink:href=\"#DejaVuSans-101\"/>\n      <use x=\"177.099609\" xlink:href=\"#DejaVuSans-101\"/>\n      <use x=\"238.623047\" xlink:href=\"#DejaVuSans-100\"/>\n      <use x=\"302.099609\" xlink:href=\"#DejaVuSans-115\"/>\n     </g>\n    </g>\n   </g>\n  </g>\n </g>\n <defs>\n  <clipPath id=\"p313d692ff9\">\n   <rect height=\"217.44\" width=\"334.8\" x=\"40.69625\" y=\"7.571971\"/>\n  </clipPath>\n </defs>\n</svg>\n",
      "image/png": "[encoded data removed]"
     },
     "metadata": {
      "needs_background": "light"
     }
    }
   ],
   "source": [
    "(autos2\n",
    "    .groupby('year')\n",
    "    [['comb08','speeds']]\n",
    "    # .median()\n",
    "    # .quantile(.1)\n",
    "    .std()\n",
    "    .plot()\n",
    ")"
   ]
  },
  {
   "cell_type": "code",
   "execution_count": 116,
   "metadata": {},
   "outputs": [
    {
     "output_type": "execute_result",
     "data": {
      "text/plain": [
       "                 city08     comb08  highway08  cylinders     displ  \\\n",
       "year country                                                         \n",
       "1984 Other    19.384615  21.417330  24.847038   4.908046  2.691406   \n",
       "     US       16.079232  17.797119  20.669868   6.033613  3.808594   \n",
       "1985 Other    19.284768  21.373068  24.816777   4.871965  2.636719   \n",
       "     US       16.275472  18.025157  21.020126   5.949686  3.765625   \n",
       "1986 Other    19.167183  21.213622  24.650155   4.804954  2.537109   \n",
       "     US       15.945035  17.645390  20.464539   6.136525  3.925781   \n",
       "1987 Other    18.633381  20.710414  24.186876   4.825963  2.583984   \n",
       "     US       15.611722  17.326007  20.208791   6.164835  3.931641   \n",
       "1988 Other    18.668224  20.814642  24.437695   4.819315  2.531250   \n",
       "     US       15.577869  17.372951  20.420082   6.307377  4.066406   \n",
       "...                 ...        ...        ...        ...       ...   \n",
       "2016 Other    21.903749  24.439716  28.866261   5.493414  2.992188   \n",
       "     US       25.061818  27.701818  32.265455   5.356364  3.277344   \n",
       "2017 Other    22.423795  24.910521  29.208456   5.431662  2.919922   \n",
       "     US       24.003623  26.496377  30.829710   5.532609  3.419922   \n",
       "2018 Other    22.310442  24.779868  29.042333   5.396990  2.886719   \n",
       "     US       23.526690  25.925267  30.145907   5.597865  3.390625   \n",
       "2019 Other    23.084221  25.456922  29.560503   5.315586  2.839844   \n",
       "     US       24.169014  26.250000  30.042254   5.559859  3.419922   \n",
       "2020 Other    22.579487  25.174359  29.543590   5.148718  2.693359   \n",
       "     US       24.071429  26.571429  30.642857   4.000000  1.978516   \n",
       "\n",
       "               fuelCost08      range  speeds  \n",
       "year country                                  \n",
       "1984 Other    2118.125553   0.000000    20.0  \n",
       "     US       2578.871549   0.000000    20.0  \n",
       "1985 Other    2141.997792   0.000000    20.0  \n",
       "     US       2553.899371   0.000000    20.0  \n",
       "1986 Other    2149.148607   0.000000    20.0  \n",
       "     US       2588.741135   0.000000    20.0  \n",
       "1987 Other    2227.318117   0.000000    20.0  \n",
       "     US       2630.036630   0.000000    20.0  \n",
       "1988 Other    2207.476636   0.000000    20.0  \n",
       "     US       2623.258197   0.000000    20.0  \n",
       "...                   ...        ...     ...  \n",
       "2016 Other    2127.608916   1.017224    20.0  \n",
       "     US       1960.545455  17.214545    20.0  \n",
       "2017 Other    2114.110128   1.243854    20.0  \n",
       "     US       2031.884058  15.731884    20.0  \n",
       "2018 Other    2121.448730   1.135466    20.0  \n",
       "     US       2037.900356  12.537367    20.0  \n",
       "2019 Other    2093.659245   2.581801    20.0  \n",
       "     US       2093.133803  16.419014    20.0  \n",
       "2020 Other    2050.256410   2.446154    20.0  \n",
       "     US       1650.000000   0.000000    20.0  \n",
       "\n",
       "[74 rows x 8 columns]"
      ],
      "text/html": "<div>\n<style scoped>\n    .dataframe tbody tr th:only-of-type {\n        vertical-align: middle;\n    }\n\n    .dataframe tbody tr th {\n        vertical-align: top;\n    }\n\n    .dataframe thead th {\n        text-align: right;\n    }\n</style>\n<table border=\"1\" class=\"dataframe\">\n  <thead>\n    <tr style=\"text-align: right;\">\n      <th></th>\n      <th></th>\n      <th>city08</th>\n      <th>comb08</th>\n      <th>highway08</th>\n      <th>cylinders</th>\n      <th>displ</th>\n      <th>fuelCost08</th>\n      <th>range</th>\n      <th>speeds</th>\n    </tr>\n    <tr>\n      <th>year</th>\n      <th>country</th>\n      <th></th>\n      <th></th>\n      <th></th>\n      <th></th>\n      <th></th>\n      <th></th>\n      <th></th>\n      <th></th>\n    </tr>\n  </thead>\n  <tbody>\n    <tr>\n      <th rowspan=\"2\" valign=\"top\">1984</th>\n      <th>Other</th>\n      <td>19.384615</td>\n      <td>21.417330</td>\n      <td>24.847038</td>\n      <td>4.908046</td>\n      <td>2.691406</td>\n      <td>2118.125553</td>\n      <td>0.000000</td>\n      <td>20.0</td>\n    </tr>\n    <tr>\n      <th>US</th>\n      <td>16.079232</td>\n      <td>17.797119</td>\n      <td>20.669868</td>\n      <td>6.033613</td>\n      <td>3.808594</td>\n      <td>2578.871549</td>\n      <td>0.000000</td>\n      <td>20.0</td>\n    </tr>\n    <tr>\n      <th rowspan=\"2\" valign=\"top\">1985</th>\n      <th>Other</th>\n      <td>19.284768</td>\n      <td>21.373068</td>\n      <td>24.816777</td>\n      <td>4.871965</td>\n      <td>2.636719</td>\n      <td>2141.997792</td>\n      <td>0.000000</td>\n      <td>20.0</td>\n    </tr>\n    <tr>\n      <th>US</th>\n      <td>16.275472</td>\n      <td>18.025157</td>\n      <td>21.020126</td>\n      <td>5.949686</td>\n      <td>3.765625</td>\n      <td>2553.899371</td>\n      <td>0.000000</td>\n      <td>20.0</td>\n    </tr>\n    <tr>\n      <th rowspan=\"2\" valign=\"top\">1986</th>\n      <th>Other</th>\n      <td>19.167183</td>\n      <td>21.213622</td>\n      <td>24.650155</td>\n      <td>4.804954</td>\n      <td>2.537109</td>\n      <td>2149.148607</td>\n      <td>0.000000</td>\n      <td>20.0</td>\n    </tr>\n    <tr>\n      <th>US</th>\n      <td>15.945035</td>\n      <td>17.645390</td>\n      <td>20.464539</td>\n      <td>6.136525</td>\n      <td>3.925781</td>\n      <td>2588.741135</td>\n      <td>0.000000</td>\n      <td>20.0</td>\n    </tr>\n    <tr>\n      <th rowspan=\"2\" valign=\"top\">1987</th>\n      <th>Other</th>\n      <td>18.633381</td>\n      <td>20.710414</td>\n      <td>24.186876</td>\n      <td>4.825963</td>\n      <td>2.583984</td>\n      <td>2227.318117</td>\n      <td>0.000000</td>\n      <td>20.0</td>\n    </tr>\n    <tr>\n      <th>US</th>\n      <td>15.611722</td>\n      <td>17.326007</td>\n      <td>20.208791</td>\n      <td>6.164835</td>\n      <td>3.931641</td>\n      <td>2630.036630</td>\n      <td>0.000000</td>\n      <td>20.0</td>\n    </tr>\n    <tr>\n      <th rowspan=\"2\" valign=\"top\">1988</th>\n      <th>Other</th>\n      <td>18.668224</td>\n      <td>20.814642</td>\n      <td>24.437695</td>\n      <td>4.819315</td>\n      <td>2.531250</td>\n      <td>2207.476636</td>\n      <td>0.000000</td>\n      <td>20.0</td>\n    </tr>\n    <tr>\n      <th>US</th>\n      <td>15.577869</td>\n      <td>17.372951</td>\n      <td>20.420082</td>\n      <td>6.307377</td>\n      <td>4.066406</td>\n      <td>2623.258197</td>\n      <td>0.000000</td>\n      <td>20.0</td>\n    </tr>\n    <tr>\n      <th>...</th>\n      <th>...</th>\n      <td>...</td>\n      <td>...</td>\n      <td>...</td>\n      <td>...</td>\n      <td>...</td>\n      <td>...</td>\n      <td>...</td>\n      <td>...</td>\n    </tr>\n    <tr>\n      <th rowspan=\"2\" valign=\"top\">2016</th>\n      <th>Other</th>\n      <td>21.903749</td>\n      <td>24.439716</td>\n      <td>28.866261</td>\n      <td>5.493414</td>\n      <td>2.992188</td>\n      <td>2127.608916</td>\n      <td>1.017224</td>\n      <td>20.0</td>\n    </tr>\n    <tr>\n      <th>US</th>\n      <td>25.061818</td>\n      <td>27.701818</td>\n      <td>32.265455</td>\n      <td>5.356364</td>\n      <td>3.277344</td>\n      <td>1960.545455</td>\n      <td>17.214545</td>\n      <td>20.0</td>\n    </tr>\n    <tr>\n      <th rowspan=\"2\" valign=\"top\">2017</th>\n      <th>Other</th>\n      <td>22.423795</td>\n      <td>24.910521</td>\n      <td>29.208456</td>\n      <td>5.431662</td>\n      <td>2.919922</td>\n      <td>2114.110128</td>\n      <td>1.243854</td>\n      <td>20.0</td>\n    </tr>\n    <tr>\n      <th>US</th>\n      <td>24.003623</td>\n      <td>26.496377</td>\n      <td>30.829710</td>\n      <td>5.532609</td>\n      <td>3.419922</td>\n      <td>2031.884058</td>\n      <td>15.731884</td>\n      <td>20.0</td>\n    </tr>\n    <tr>\n      <th rowspan=\"2\" valign=\"top\">2018</th>\n      <th>Other</th>\n      <td>22.310442</td>\n      <td>24.779868</td>\n      <td>29.042333</td>\n      <td>5.396990</td>\n      <td>2.886719</td>\n      <td>2121.448730</td>\n      <td>1.135466</td>\n      <td>20.0</td>\n    </tr>\n    <tr>\n      <th>US</th>\n      <td>23.526690</td>\n      <td>25.925267</td>\n      <td>30.145907</td>\n      <td>5.597865</td>\n      <td>3.390625</td>\n      <td>2037.900356</td>\n      <td>12.537367</td>\n      <td>20.0</td>\n    </tr>\n    <tr>\n      <th rowspan=\"2\" valign=\"top\">2019</th>\n      <th>Other</th>\n      <td>23.084221</td>\n      <td>25.456922</td>\n      <td>29.560503</td>\n      <td>5.315586</td>\n      <td>2.839844</td>\n      <td>2093.659245</td>\n      <td>2.581801</td>\n      <td>20.0</td>\n    </tr>\n    <tr>\n      <th>US</th>\n      <td>24.169014</td>\n      <td>26.250000</td>\n      <td>30.042254</td>\n      <td>5.559859</td>\n      <td>3.419922</td>\n      <td>2093.133803</td>\n      <td>16.419014</td>\n      <td>20.0</td>\n    </tr>\n    <tr>\n      <th rowspan=\"2\" valign=\"top\">2020</th>\n      <th>Other</th>\n      <td>22.579487</td>\n      <td>25.174359</td>\n      <td>29.543590</td>\n      <td>5.148718</td>\n      <td>2.693359</td>\n      <td>2050.256410</td>\n      <td>2.446154</td>\n      <td>20.0</td>\n    </tr>\n    <tr>\n      <th>US</th>\n      <td>24.071429</td>\n      <td>26.571429</td>\n      <td>30.642857</td>\n      <td>4.000000</td>\n      <td>1.978516</td>\n      <td>1650.000000</td>\n      <td>0.000000</td>\n      <td>20.0</td>\n    </tr>\n  </tbody>\n</table>\n<p>74 rows × 8 columns</p>\n</div>"
     },
     "metadata": {},
     "execution_count": 116
    }
   ],
   "source": [
    "# add country\n",
    "(autos2\n",
    "    .assign(country=autos2.make.apply(country))\n",
    "    .groupby(['year','country'])\n",
    "    .mean()\n",
    ")"
   ]
  },
  {
   "cell_type": "code",
   "execution_count": 118,
   "metadata": {},
   "outputs": [
    {
     "output_type": "execute_result",
     "data": {
      "text/plain": [
       "             city08                           comb08             \\\n",
       "                min       mean second_to_last    min       mean   \n",
       "year country                                                      \n",
       "1984 Other        7  19.384615             14      8  21.417330   \n",
       "     US           8  16.079232             15      9  17.797119   \n",
       "1985 Other        7  19.284768             19      8  21.373068   \n",
       "     US           8  16.275472             14     10  18.025157   \n",
       "1986 Other        6  19.167183             10      7  21.213622   \n",
       "     US           9  15.945035             16     10  17.645390   \n",
       "1987 Other        6  18.633381             12      7  20.710414   \n",
       "     US           8  15.611722             12      9  17.326007   \n",
       "1988 Other        6  18.668224             12      7  20.814642   \n",
       "     US           8  15.577869             14      9  17.372951   \n",
       "...             ...        ...            ...    ...        ...   \n",
       "2016 Other       10  21.903749             28     12  24.439716   \n",
       "     US          11  25.061818             91     12  27.701818   \n",
       "2017 Other       10  22.423795             21     11  24.910521   \n",
       "     US          11  24.003623            131     12  26.496377   \n",
       "2018 Other        9  22.310442             11     11  24.779868   \n",
       "     US          11  23.526690            120     14  25.925267   \n",
       "2019 Other        9  23.084221             19     11  25.456922   \n",
       "     US          11  24.169014            104     14  26.250000   \n",
       "2020 Other       13  22.579487             17     15  25.174359   \n",
       "     US          20  24.071429             21     22  26.571429   \n",
       "\n",
       "                            highway08                           cylinders  \\\n",
       "             second_to_last       min       mean second_to_last       min   \n",
       "year country                                                                \n",
       "1984 Other               14         9  24.847038             15         2   \n",
       "     US                  17        10  20.669868             19         4   \n",
       "1985 Other               20         9  24.816777             22         0   \n",
       "     US                  15        10  21.020126             17         3   \n",
       "1986 Other               11         9  24.650155             12         0   \n",
       "     US                  17        11  20.464539             19         3   \n",
       "1987 Other               12         9  24.186876             12         2   \n",
       "     US                  13        10  20.208791             14         3   \n",
       "1988 Other               12        10  24.437695             12         2   \n",
       "     US                  14        10  20.420082             15         3   \n",
       "...                     ...       ...        ...            ...       ...   \n",
       "2016 Other               30        13  28.866261             32         0   \n",
       "     US                  93        16  32.265455             94         0   \n",
       "2017 Other               24        11  29.208456             28         0   \n",
       "     US                 126        15  30.829710            120         0   \n",
       "2018 Other               12        11  29.042333             15         0   \n",
       "     US                 116        15  30.145907            112         0   \n",
       "2019 Other               22        14  29.560503             27         0   \n",
       "     US                 104        15  30.042254            104         0   \n",
       "2020 Other               20        18  29.543590             24         0   \n",
       "     US                  24        26  30.642857             28         4   \n",
       "\n",
       "              ...          displ fuelCost08                             range  \\\n",
       "              ... second_to_last        min         mean second_to_last   min   \n",
       "year country  ...                                                               \n",
       "1984 Other    ...       2.400391       1050  2118.125553           3000     0   \n",
       "     US       ...       4.101562       1200  2578.871549           2500     0   \n",
       "1985 Other    ...       2.000000       1000  2141.997792           2100     0   \n",
       "     US       ...       3.699219       1000  2553.899371           2800     0   \n",
       "1986 Other    ...       4.199219        900  2149.148607           3850     0   \n",
       "     US       ...       4.300781        900  2588.741135           2500     0   \n",
       "1987 Other    ...       2.400391        900  2227.318117           3500     0   \n",
       "     US       ...       2.800781        900  2630.036630           3250     0   \n",
       "1988 Other    ...       2.400391        950  2207.476636           3500     0   \n",
       "     US       ...       2.800781        900  2623.258197           3000     0   \n",
       "...           ...            ...        ...          ...            ...   ...   \n",
       "2016 Other    ...       2.000000        550  2127.608916           1700     0   \n",
       "     US       ...       0.000000        550  1960.545455            700     0   \n",
       "2017 Other    ...       2.500000        500  2114.110128           2150     0   \n",
       "     US       ...       0.000000        500  2031.884058            500     0   \n",
       "2018 Other    ...       5.000000        500  2121.448730           4300     0   \n",
       "     US       ...       0.000000        500  2037.900356            550     0   \n",
       "2019 Other    ...       3.000000        500  2093.659245           2150     0   \n",
       "     US       ...       0.000000        500  2093.133803            650     0   \n",
       "2020 Other    ...       3.000000        600  2050.256410           2100     0   \n",
       "     US       ...       2.300781       1300  1650.000000           1750     0   \n",
       "\n",
       "                                       speeds                      \n",
       "                   mean second_to_last    min mean second_to_last  \n",
       "year country                                                       \n",
       "1984 Other     0.000000              0     20   20             20  \n",
       "     US        0.000000              0     20   20             20  \n",
       "1985 Other     0.000000              0     20   20             20  \n",
       "     US        0.000000              0     20   20             20  \n",
       "1986 Other     0.000000              0     20   20             20  \n",
       "     US        0.000000              0     20   20             20  \n",
       "1987 Other     0.000000              0     20   20             20  \n",
       "     US        0.000000              0     20   20             20  \n",
       "1988 Other     0.000000              0     20   20             20  \n",
       "     US        0.000000              0     20   20             20  \n",
       "...                 ...            ...    ...  ...            ...  \n",
       "2016 Other     1.017224              0     20   20             20  \n",
       "     US       17.214545            200     20   20             20  \n",
       "2017 Other     1.243854              0     20   20             20  \n",
       "     US       15.731884            310     20   20             20  \n",
       "2018 Other     1.135466              0     20   20             20  \n",
       "     US       12.537367            310     20   20             20  \n",
       "2019 Other     2.581801              0     20   20             20  \n",
       "     US       16.419014            345     20   20             20  \n",
       "2020 Other     2.446154              0     20   20             20  \n",
       "     US        0.000000              0     20   20             20  \n",
       "\n",
       "[74 rows x 24 columns]"
      ],
      "text/html": "<div>\n<style scoped>\n    .dataframe tbody tr th:only-of-type {\n        vertical-align: middle;\n    }\n\n    .dataframe tbody tr th {\n        vertical-align: top;\n    }\n\n    .dataframe thead tr th {\n        text-align: left;\n    }\n\n    .dataframe thead tr:last-of-type th {\n        text-align: right;\n    }\n</style>\n<table border=\"1\" class=\"dataframe\">\n  <thead>\n    <tr>\n      <th></th>\n      <th></th>\n      <th colspan=\"3\" halign=\"left\">city08</th>\n      <th colspan=\"3\" halign=\"left\">comb08</th>\n      <th colspan=\"3\" halign=\"left\">highway08</th>\n      <th>cylinders</th>\n      <th>...</th>\n      <th>displ</th>\n      <th colspan=\"3\" halign=\"left\">fuelCost08</th>\n      <th colspan=\"3\" halign=\"left\">range</th>\n      <th colspan=\"3\" halign=\"left\">speeds</th>\n    </tr>\n    <tr>\n      <th></th>\n      <th></th>\n      <th>min</th>\n      <th>mean</th>\n      <th>second_to_last</th>\n      <th>min</th>\n      <th>mean</th>\n      <th>second_to_last</th>\n      <th>min</th>\n      <th>mean</th>\n      <th>second_to_last</th>\n      <th>min</th>\n      <th>...</th>\n      <th>second_to_last</th>\n      <th>min</th>\n      <th>mean</th>\n      <th>second_to_last</th>\n      <th>min</th>\n      <th>mean</th>\n      <th>second_to_last</th>\n      <th>min</th>\n      <th>mean</th>\n      <th>second_to_last</th>\n    </tr>\n    <tr>\n      <th>year</th>\n      <th>country</th>\n      <th></th>\n      <th></th>\n      <th></th>\n      <th></th>\n      <th></th>\n      <th></th>\n      <th></th>\n      <th></th>\n      <th></th>\n      <th></th>\n      <th></th>\n      <th></th>\n      <th></th>\n      <th></th>\n      <th></th>\n      <th></th>\n      <th></th>\n      <th></th>\n      <th></th>\n      <th></th>\n      <th></th>\n    </tr>\n  </thead>\n  <tbody>\n    <tr>\n      <th rowspan=\"2\" valign=\"top\">1984</th>\n      <th>Other</th>\n      <td>7</td>\n      <td>19.384615</td>\n      <td>14</td>\n      <td>8</td>\n      <td>21.417330</td>\n      <td>14</td>\n      <td>9</td>\n      <td>24.847038</td>\n      <td>15</td>\n      <td>2</td>\n      <td>...</td>\n      <td>2.400391</td>\n      <td>1050</td>\n      <td>2118.125553</td>\n      <td>3000</td>\n      <td>0</td>\n      <td>0.000000</td>\n      <td>0</td>\n      <td>20</td>\n      <td>20</td>\n      <td>20</td>\n    </tr>\n    <tr>\n      <th>US</th>\n      <td>8</td>\n      <td>16.079232</td>\n      <td>15</td>\n      <td>9</td>\n      <td>17.797119</td>\n      <td>17</td>\n      <td>10</td>\n      <td>20.669868</td>\n      <td>19</td>\n      <td>4</td>\n      <td>...</td>\n      <td>4.101562</td>\n      <td>1200</td>\n      <td>2578.871549</td>\n      <td>2500</td>\n      <td>0</td>\n      <td>0.000000</td>\n      <td>0</td>\n      <td>20</td>\n      <td>20</td>\n      <td>20</td>\n    </tr>\n    <tr>\n      <th rowspan=\"2\" valign=\"top\">1985</th>\n      <th>Other</th>\n      <td>7</td>\n      <td>19.284768</td>\n      <td>19</td>\n      <td>8</td>\n      <td>21.373068</td>\n      <td>20</td>\n      <td>9</td>\n      <td>24.816777</td>\n      <td>22</td>\n      <td>0</td>\n      <td>...</td>\n      <td>2.000000</td>\n      <td>1000</td>\n      <td>2141.997792</td>\n      <td>2100</td>\n      <td>0</td>\n      <td>0.000000</td>\n      <td>0</td>\n      <td>20</td>\n      <td>20</td>\n      <td>20</td>\n    </tr>\n    <tr>\n      <th>US</th>\n      <td>8</td>\n      <td>16.275472</td>\n      <td>14</td>\n      <td>10</td>\n      <td>18.025157</td>\n      <td>15</td>\n      <td>10</td>\n      <td>21.020126</td>\n      <td>17</td>\n      <td>3</td>\n      <td>...</td>\n      <td>3.699219</td>\n      <td>1000</td>\n      <td>2553.899371</td>\n      <td>2800</td>\n      <td>0</td>\n      <td>0.000000</td>\n      <td>0</td>\n      <td>20</td>\n      <td>20</td>\n      <td>20</td>\n    </tr>\n    <tr>\n      <th rowspan=\"2\" valign=\"top\">1986</th>\n      <th>Other</th>\n      <td>6</td>\n      <td>19.167183</td>\n      <td>10</td>\n      <td>7</td>\n      <td>21.213622</td>\n      <td>11</td>\n      <td>9</td>\n      <td>24.650155</td>\n      <td>12</td>\n      <td>0</td>\n      <td>...</td>\n      <td>4.199219</td>\n      <td>900</td>\n      <td>2149.148607</td>\n      <td>3850</td>\n      <td>0</td>\n      <td>0.000000</td>\n      <td>0</td>\n      <td>20</td>\n      <td>20</td>\n      <td>20</td>\n    </tr>\n    <tr>\n      <th>US</th>\n      <td>9</td>\n      <td>15.945035</td>\n      <td>16</td>\n      <td>10</td>\n      <td>17.645390</td>\n      <td>17</td>\n      <td>11</td>\n      <td>20.464539</td>\n      <td>19</td>\n      <td>3</td>\n      <td>...</td>\n      <td>4.300781</td>\n      <td>900</td>\n      <td>2588.741135</td>\n      <td>2500</td>\n      <td>0</td>\n      <td>0.000000</td>\n      <td>0</td>\n      <td>20</td>\n      <td>20</td>\n      <td>20</td>\n    </tr>\n    <tr>\n      <th rowspan=\"2\" valign=\"top\">1987</th>\n      <th>Other</th>\n      <td>6</td>\n      <td>18.633381</td>\n      <td>12</td>\n      <td>7</td>\n      <td>20.710414</td>\n      <td>12</td>\n      <td>9</td>\n      <td>24.186876</td>\n      <td>12</td>\n      <td>2</td>\n      <td>...</td>\n      <td>2.400391</td>\n      <td>900</td>\n      <td>2227.318117</td>\n      <td>3500</td>\n      <td>0</td>\n      <td>0.000000</td>\n      <td>0</td>\n      <td>20</td>\n      <td>20</td>\n      <td>20</td>\n    </tr>\n    <tr>\n      <th>US</th>\n      <td>8</td>\n      <td>15.611722</td>\n      <td>12</td>\n      <td>9</td>\n      <td>17.326007</td>\n      <td>13</td>\n      <td>10</td>\n      <td>20.208791</td>\n      <td>14</td>\n      <td>3</td>\n      <td>...</td>\n      <td>2.800781</td>\n      <td>900</td>\n      <td>2630.036630</td>\n      <td>3250</td>\n      <td>0</td>\n      <td>0.000000</td>\n      <td>0</td>\n      <td>20</td>\n      <td>20</td>\n      <td>20</td>\n    </tr>\n    <tr>\n      <th rowspan=\"2\" valign=\"top\">1988</th>\n      <th>Other</th>\n      <td>6</td>\n      <td>18.668224</td>\n      <td>12</td>\n      <td>7</td>\n      <td>20.814642</td>\n      <td>12</td>\n      <td>10</td>\n      <td>24.437695</td>\n      <td>12</td>\n      <td>2</td>\n      <td>...</td>\n      <td>2.400391</td>\n      <td>950</td>\n      <td>2207.476636</td>\n      <td>3500</td>\n      <td>0</td>\n      <td>0.000000</td>\n      <td>0</td>\n      <td>20</td>\n      <td>20</td>\n      <td>20</td>\n    </tr>\n    <tr>\n      <th>US</th>\n      <td>8</td>\n      <td>15.577869</td>\n      <td>14</td>\n      <td>9</td>\n      <td>17.372951</td>\n      <td>14</td>\n      <td>10</td>\n      <td>20.420082</td>\n      <td>15</td>\n      <td>3</td>\n      <td>...</td>\n      <td>2.800781</td>\n      <td>900</td>\n      <td>2623.258197</td>\n      <td>3000</td>\n      <td>0</td>\n      <td>0.000000</td>\n      <td>0</td>\n      <td>20</td>\n      <td>20</td>\n      <td>20</td>\n    </tr>\n    <tr>\n      <th>...</th>\n      <th>...</th>\n      <td>...</td>\n      <td>...</td>\n      <td>...</td>\n      <td>...</td>\n      <td>...</td>\n      <td>...</td>\n      <td>...</td>\n      <td>...</td>\n      <td>...</td>\n      <td>...</td>\n      <td>...</td>\n      <td>...</td>\n      <td>...</td>\n      <td>...</td>\n      <td>...</td>\n      <td>...</td>\n      <td>...</td>\n      <td>...</td>\n      <td>...</td>\n      <td>...</td>\n      <td>...</td>\n    </tr>\n    <tr>\n      <th rowspan=\"2\" valign=\"top\">2016</th>\n      <th>Other</th>\n      <td>10</td>\n      <td>21.903749</td>\n      <td>28</td>\n      <td>12</td>\n      <td>24.439716</td>\n      <td>30</td>\n      <td>13</td>\n      <td>28.866261</td>\n      <td>32</td>\n      <td>0</td>\n      <td>...</td>\n      <td>2.000000</td>\n      <td>550</td>\n      <td>2127.608916</td>\n      <td>1700</td>\n      <td>0</td>\n      <td>1.017224</td>\n      <td>0</td>\n      <td>20</td>\n      <td>20</td>\n      <td>20</td>\n    </tr>\n    <tr>\n      <th>US</th>\n      <td>11</td>\n      <td>25.061818</td>\n      <td>91</td>\n      <td>12</td>\n      <td>27.701818</td>\n      <td>93</td>\n      <td>16</td>\n      <td>32.265455</td>\n      <td>94</td>\n      <td>0</td>\n      <td>...</td>\n      <td>0.000000</td>\n      <td>550</td>\n      <td>1960.545455</td>\n      <td>700</td>\n      <td>0</td>\n      <td>17.214545</td>\n      <td>200</td>\n      <td>20</td>\n      <td>20</td>\n      <td>20</td>\n    </tr>\n    <tr>\n      <th rowspan=\"2\" valign=\"top\">2017</th>\n      <th>Other</th>\n      <td>10</td>\n      <td>22.423795</td>\n      <td>21</td>\n      <td>11</td>\n      <td>24.910521</td>\n      <td>24</td>\n      <td>11</td>\n      <td>29.208456</td>\n      <td>28</td>\n      <td>0</td>\n      <td>...</td>\n      <td>2.500000</td>\n      <td>500</td>\n      <td>2114.110128</td>\n      <td>2150</td>\n      <td>0</td>\n      <td>1.243854</td>\n      <td>0</td>\n      <td>20</td>\n      <td>20</td>\n      <td>20</td>\n    </tr>\n    <tr>\n      <th>US</th>\n      <td>11</td>\n      <td>24.003623</td>\n      <td>131</td>\n      <td>12</td>\n      <td>26.496377</td>\n      <td>126</td>\n      <td>15</td>\n      <td>30.829710</td>\n      <td>120</td>\n      <td>0</td>\n      <td>...</td>\n      <td>0.000000</td>\n      <td>500</td>\n      <td>2031.884058</td>\n      <td>500</td>\n      <td>0</td>\n      <td>15.731884</td>\n      <td>310</td>\n      <td>20</td>\n      <td>20</td>\n      <td>20</td>\n    </tr>\n    <tr>\n      <th rowspan=\"2\" valign=\"top\">2018</th>\n      <th>Other</th>\n      <td>9</td>\n      <td>22.310442</td>\n      <td>11</td>\n      <td>11</td>\n      <td>24.779868</td>\n      <td>12</td>\n      <td>11</td>\n      <td>29.042333</td>\n      <td>15</td>\n      <td>0</td>\n      <td>...</td>\n      <td>5.000000</td>\n      <td>500</td>\n      <td>2121.448730</td>\n      <td>4300</td>\n      <td>0</td>\n      <td>1.135466</td>\n      <td>0</td>\n      <td>20</td>\n      <td>20</td>\n      <td>20</td>\n    </tr>\n    <tr>\n      <th>US</th>\n      <td>11</td>\n      <td>23.526690</td>\n      <td>120</td>\n      <td>14</td>\n      <td>25.925267</td>\n      <td>116</td>\n      <td>15</td>\n      <td>30.145907</td>\n      <td>112</td>\n      <td>0</td>\n      <td>...</td>\n      <td>0.000000</td>\n      <td>500</td>\n      <td>2037.900356</td>\n      <td>550</td>\n      <td>0</td>\n      <td>12.537367</td>\n      <td>310</td>\n      <td>20</td>\n      <td>20</td>\n      <td>20</td>\n    </tr>\n    <tr>\n      <th rowspan=\"2\" valign=\"top\">2019</th>\n      <th>Other</th>\n      <td>9</td>\n      <td>23.084221</td>\n      <td>19</td>\n      <td>11</td>\n      <td>25.456922</td>\n      <td>22</td>\n      <td>14</td>\n      <td>29.560503</td>\n      <td>27</td>\n      <td>0</td>\n      <td>...</td>\n      <td>3.000000</td>\n      <td>500</td>\n      <td>2093.659245</td>\n      <td>2150</td>\n      <td>0</td>\n      <td>2.581801</td>\n      <td>0</td>\n      <td>20</td>\n      <td>20</td>\n      <td>20</td>\n    </tr>\n    <tr>\n      <th>US</th>\n      <td>11</td>\n      <td>24.169014</td>\n      <td>104</td>\n      <td>14</td>\n      <td>26.250000</td>\n      <td>104</td>\n      <td>15</td>\n      <td>30.042254</td>\n      <td>104</td>\n      <td>0</td>\n      <td>...</td>\n      <td>0.000000</td>\n      <td>500</td>\n      <td>2093.133803</td>\n      <td>650</td>\n      <td>0</td>\n      <td>16.419014</td>\n      <td>345</td>\n      <td>20</td>\n      <td>20</td>\n      <td>20</td>\n    </tr>\n    <tr>\n      <th rowspan=\"2\" valign=\"top\">2020</th>\n      <th>Other</th>\n      <td>13</td>\n      <td>22.579487</td>\n      <td>17</td>\n      <td>15</td>\n      <td>25.174359</td>\n      <td>20</td>\n      <td>18</td>\n      <td>29.543590</td>\n      <td>24</td>\n      <td>0</td>\n      <td>...</td>\n      <td>3.000000</td>\n      <td>600</td>\n      <td>2050.256410</td>\n      <td>2100</td>\n      <td>0</td>\n      <td>2.446154</td>\n      <td>0</td>\n      <td>20</td>\n      <td>20</td>\n      <td>20</td>\n    </tr>\n    <tr>\n      <th>US</th>\n      <td>20</td>\n      <td>24.071429</td>\n      <td>21</td>\n      <td>22</td>\n      <td>26.571429</td>\n      <td>24</td>\n      <td>26</td>\n      <td>30.642857</td>\n      <td>28</td>\n      <td>4</td>\n      <td>...</td>\n      <td>2.300781</td>\n      <td>1300</td>\n      <td>1650.000000</td>\n      <td>1750</td>\n      <td>0</td>\n      <td>0.000000</td>\n      <td>0</td>\n      <td>20</td>\n      <td>20</td>\n      <td>20</td>\n    </tr>\n  </tbody>\n</table>\n<p>74 rows × 24 columns</p>\n</div>"
     },
     "metadata": {},
     "execution_count": 118
    }
   ],
   "source": [
    "# can apply multiple aggregates\n",
    "def second_to_last(series):\n",
    "    return series.iloc[-2]\n",
    "\n",
    "(autos2 \n",
    "    .assign(country=autos2.make.apply(country))\n",
    "    .groupby(['year','country'])\n",
    "    .agg(['min','mean',second_to_last]))"
   ]
  },
  {
   "cell_type": "code",
   "execution_count": 122,
   "metadata": {},
   "outputs": [
    {
     "output_type": "execute_result",
     "data": {
      "text/plain": [
       "            city08                comb08             highway08             \\\n",
       "country      Other         US      Other         US      Other         US   \n",
       "year                                                                        \n",
       "1984     19.384615  16.079232  21.417330  17.797119  24.847038  20.669868   \n",
       "1985     19.284768  16.275472  21.373068  18.025157  24.816777  21.020126   \n",
       "1986     19.167183  15.945035  21.213622  17.645390  24.650155  20.464539   \n",
       "1987     18.633381  15.611722  20.710414  17.326007  24.186876  20.208791   \n",
       "1988     18.668224  15.577869  20.814642  17.372951  24.437695  20.420082   \n",
       "\n",
       "        cylinders               displ             fuelCost08               \\\n",
       "country     Other        US     Other        US        Other           US   \n",
       "year                                                                        \n",
       "1984     4.908046  6.033613  2.691406  3.808594  2118.125553  2578.871549   \n",
       "1985     4.871965  5.949686  2.636719  3.765625  2141.997792  2553.899371   \n",
       "1986     4.804954  6.136525  2.537109  3.925781  2149.148607  2588.741135   \n",
       "1987     4.825963  6.164835  2.583984  3.931641  2227.318117  2630.036630   \n",
       "1988     4.819315  6.307377  2.531250  4.066406  2207.476636  2623.258197   \n",
       "\n",
       "        range      speeds        \n",
       "country Other   US  Other    US  \n",
       "year                             \n",
       "1984      0.0  0.0   20.0  20.0  \n",
       "1985      0.0  0.0   20.0  20.0  \n",
       "1986      0.0  0.0   20.0  20.0  \n",
       "1987      0.0  0.0   20.0  20.0  \n",
       "1988      0.0  0.0   20.0  20.0  "
      ],
      "text/html": "<div>\n<style scoped>\n    .dataframe tbody tr th:only-of-type {\n        vertical-align: middle;\n    }\n\n    .dataframe tbody tr th {\n        vertical-align: top;\n    }\n\n    .dataframe thead tr th {\n        text-align: left;\n    }\n\n    .dataframe thead tr:last-of-type th {\n        text-align: right;\n    }\n</style>\n<table border=\"1\" class=\"dataframe\">\n  <thead>\n    <tr>\n      <th></th>\n      <th colspan=\"2\" halign=\"left\">city08</th>\n      <th colspan=\"2\" halign=\"left\">comb08</th>\n      <th colspan=\"2\" halign=\"left\">highway08</th>\n      <th colspan=\"2\" halign=\"left\">cylinders</th>\n      <th colspan=\"2\" halign=\"left\">displ</th>\n      <th colspan=\"2\" halign=\"left\">fuelCost08</th>\n      <th colspan=\"2\" halign=\"left\">range</th>\n      <th colspan=\"2\" halign=\"left\">speeds</th>\n    </tr>\n    <tr>\n      <th>country</th>\n      <th>Other</th>\n      <th>US</th>\n      <th>Other</th>\n      <th>US</th>\n      <th>Other</th>\n      <th>US</th>\n      <th>Other</th>\n      <th>US</th>\n      <th>Other</th>\n      <th>US</th>\n      <th>Other</th>\n      <th>US</th>\n      <th>Other</th>\n      <th>US</th>\n      <th>Other</th>\n      <th>US</th>\n    </tr>\n    <tr>\n      <th>year</th>\n      <th></th>\n      <th></th>\n      <th></th>\n      <th></th>\n      <th></th>\n      <th></th>\n      <th></th>\n      <th></th>\n      <th></th>\n      <th></th>\n      <th></th>\n      <th></th>\n      <th></th>\n      <th></th>\n      <th></th>\n      <th></th>\n    </tr>\n  </thead>\n  <tbody>\n    <tr>\n      <th>1984</th>\n      <td>19.384615</td>\n      <td>16.079232</td>\n      <td>21.417330</td>\n      <td>17.797119</td>\n      <td>24.847038</td>\n      <td>20.669868</td>\n      <td>4.908046</td>\n      <td>6.033613</td>\n      <td>2.691406</td>\n      <td>3.808594</td>\n      <td>2118.125553</td>\n      <td>2578.871549</td>\n      <td>0.0</td>\n      <td>0.0</td>\n      <td>20.0</td>\n      <td>20.0</td>\n    </tr>\n    <tr>\n      <th>1985</th>\n      <td>19.284768</td>\n      <td>16.275472</td>\n      <td>21.373068</td>\n      <td>18.025157</td>\n      <td>24.816777</td>\n      <td>21.020126</td>\n      <td>4.871965</td>\n      <td>5.949686</td>\n      <td>2.636719</td>\n      <td>3.765625</td>\n      <td>2141.997792</td>\n      <td>2553.899371</td>\n      <td>0.0</td>\n      <td>0.0</td>\n      <td>20.0</td>\n      <td>20.0</td>\n    </tr>\n    <tr>\n      <th>1986</th>\n      <td>19.167183</td>\n      <td>15.945035</td>\n      <td>21.213622</td>\n      <td>17.645390</td>\n      <td>24.650155</td>\n      <td>20.464539</td>\n      <td>4.804954</td>\n      <td>6.136525</td>\n      <td>2.537109</td>\n      <td>3.925781</td>\n      <td>2149.148607</td>\n      <td>2588.741135</td>\n      <td>0.0</td>\n      <td>0.0</td>\n      <td>20.0</td>\n      <td>20.0</td>\n    </tr>\n    <tr>\n      <th>1987</th>\n      <td>18.633381</td>\n      <td>15.611722</td>\n      <td>20.710414</td>\n      <td>17.326007</td>\n      <td>24.186876</td>\n      <td>20.208791</td>\n      <td>4.825963</td>\n      <td>6.164835</td>\n      <td>2.583984</td>\n      <td>3.931641</td>\n      <td>2227.318117</td>\n      <td>2630.036630</td>\n      <td>0.0</td>\n      <td>0.0</td>\n      <td>20.0</td>\n      <td>20.0</td>\n    </tr>\n    <tr>\n      <th>1988</th>\n      <td>18.668224</td>\n      <td>15.577869</td>\n      <td>20.814642</td>\n      <td>17.372951</td>\n      <td>24.437695</td>\n      <td>20.420082</td>\n      <td>4.819315</td>\n      <td>6.307377</td>\n      <td>2.531250</td>\n      <td>4.066406</td>\n      <td>2207.476636</td>\n      <td>2623.258197</td>\n      <td>0.0</td>\n      <td>0.0</td>\n      <td>20.0</td>\n      <td>20.0</td>\n    </tr>\n  </tbody>\n</table>\n</div>"
     },
     "metadata": {},
     "execution_count": 122
    }
   ],
   "source": [
    "# unstack operation\n",
    "(autos2\n",
    "    .assign(country=autos2.make.apply(country))\n",
    "    .groupby(['year','country'])\n",
    "    .mean()\n",
    "    .unstack()\n",
    ")"
   ]
  },
  {
   "cell_type": "code",
   "execution_count": 131,
   "metadata": {},
   "outputs": [
    {
     "output_type": "execute_result",
     "data": {
      "text/plain": [
       "<matplotlib.legend.Legend at 0x7fb060e53460>"
      ]
     },
     "metadata": {},
     "execution_count": 131
    },
    {
     "output_type": "display_data",
     "data": {
      "text/plain": "<Figure size 432x288 with 1 Axes>",
      "image/svg+xml": "<?xml version=\"1.0\" encoding=\"utf-8\" standalone=\"no\"?>\n<!DOCTYPE svg PUBLIC \"-//W3C//DTD SVG 1.1//EN\"\n  \"http://www.w3.org/Graphics/SVG/1.1/DTD/svg11.dtd\">\n<!-- Created with matplotlib (https://matplotlib.org/) -->\n<svg height=\"281.729531pt\" version=\"1.1\" viewBox=\"0 0 497.195937 281.729531\" width=\"497.195937pt\" xmlns=\"http://www.w3.org/2000/svg\" xmlns:xlink=\"http://www.w3.org/1999/xlink\">\n <defs>\n  <style type=\"text/css\">\n*{stroke-linecap:butt;stroke-linejoin:round;}\n  </style>\n </defs>\n <g id=\"figure_1\">\n  <g id=\"patch_1\">\n   <path d=\"M 0 281.729531 \nL 497.195937 281.729531 \nL 497.195937 0 \nL 0 0 \nz\n\" style=\"fill:none;\"/>\n  </g>\n  <g id=\"axes_1\">\n   <g id=\"patch_2\">\n    <path d=\"M 40.69625 224.64 \nL 375.49625 224.64 \nL 375.49625 7.2 \nL 40.69625 7.2 \nz\n\" style=\"fill:#ffffff;\"/>\n   </g>\n   <g id=\"matplotlib.axis_1\">\n    <g id=\"xtick_1\">\n     <g id=\"line2d_1\">\n      <defs>\n       <path d=\"M 0 0 \nL 0 9 \n\" id=\"mf2511de1a8\" style=\"stroke:#000000;stroke-width:1.875;\"/>\n      </defs>\n      <g>\n       <use style=\"stroke:#000000;stroke-width:1.875;\" x=\"106.641705\" xlink:href=\"#mf2511de1a8\" y=\"224.64\"/>\n      </g>\n     </g>\n     <g id=\"text_1\">\n      <!-- 1990 -->\n      <defs>\n       <path d=\"M 12.40625 8.296875 \nL 28.515625 8.296875 \nL 28.515625 63.921875 \nL 10.984375 60.40625 \nL 10.984375 69.390625 \nL 28.421875 72.90625 \nL 38.28125 72.90625 \nL 38.28125 8.296875 \nL 54.390625 8.296875 \nL 54.390625 0 \nL 12.40625 0 \nz\n\" id=\"DejaVuSans-49\"/>\n       <path d=\"M 10.984375 1.515625 \nL 10.984375 10.5 \nQ 14.703125 8.734375 18.5 7.8125 \nQ 22.3125 6.890625 25.984375 6.890625 \nQ 35.75 6.890625 40.890625 13.453125 \nQ 46.046875 20.015625 46.78125 33.40625 \nQ 43.953125 29.203125 39.59375 26.953125 \nQ 35.25 24.703125 29.984375 24.703125 \nQ 19.046875 24.703125 12.671875 31.3125 \nQ 6.296875 37.9375 6.296875 49.421875 \nQ 6.296875 60.640625 12.9375 67.421875 \nQ 19.578125 74.21875 30.609375 74.21875 \nQ 43.265625 74.21875 49.921875 64.515625 \nQ 56.59375 54.828125 56.59375 36.375 \nQ 56.59375 19.140625 48.40625 8.859375 \nQ 40.234375 -1.421875 26.421875 -1.421875 \nQ 22.703125 -1.421875 18.890625 -0.6875 \nQ 15.09375 0.046875 10.984375 1.515625 \nz\nM 30.609375 32.421875 \nQ 37.25 32.421875 41.125 36.953125 \nQ 45.015625 41.5 45.015625 49.421875 \nQ 45.015625 57.28125 41.125 61.84375 \nQ 37.25 66.40625 30.609375 66.40625 \nQ 23.96875 66.40625 20.09375 61.84375 \nQ 16.21875 57.28125 16.21875 49.421875 \nQ 16.21875 41.5 20.09375 36.953125 \nQ 23.96875 32.421875 30.609375 32.421875 \nz\n\" id=\"DejaVuSans-57\"/>\n       <path d=\"M 31.78125 66.40625 \nQ 24.171875 66.40625 20.328125 58.90625 \nQ 16.5 51.421875 16.5 36.375 \nQ 16.5 21.390625 20.328125 13.890625 \nQ 24.171875 6.390625 31.78125 6.390625 \nQ 39.453125 6.390625 43.28125 13.890625 \nQ 47.125 21.390625 47.125 36.375 \nQ 47.125 51.421875 43.28125 58.90625 \nQ 39.453125 66.40625 31.78125 66.40625 \nz\nM 31.78125 74.21875 \nQ 44.046875 74.21875 50.515625 64.515625 \nQ 56.984375 54.828125 56.984375 36.375 \nQ 56.984375 17.96875 50.515625 8.265625 \nQ 44.046875 -1.421875 31.78125 -1.421875 \nQ 19.53125 -1.421875 13.0625 8.265625 \nQ 6.59375 17.96875 6.59375 36.375 \nQ 6.59375 54.828125 13.0625 64.515625 \nQ 19.53125 74.21875 31.78125 74.21875 \nz\n\" id=\"DejaVuSans-48\"/>\n      </defs>\n      <g transform=\"translate(85.645455 249.677422)scale(0.165 -0.165)\">\n       <use xlink:href=\"#DejaVuSans-49\"/>\n       <use x=\"63.623047\" xlink:href=\"#DejaVuSans-57\"/>\n       <use x=\"127.246094\" xlink:href=\"#DejaVuSans-57\"/>\n       <use x=\"190.869141\" xlink:href=\"#DejaVuSans-48\"/>\n      </g>\n     </g>\n    </g>\n    <g id=\"xtick_2\">\n     <g id=\"line2d_2\">\n      <g>\n       <use style=\"stroke:#000000;stroke-width:1.875;\" x=\"191.187159\" xlink:href=\"#mf2511de1a8\" y=\"224.64\"/>\n      </g>\n     </g>\n     <g id=\"text_2\">\n      <!-- 2000 -->\n      <defs>\n       <path d=\"M 19.1875 8.296875 \nL 53.609375 8.296875 \nL 53.609375 0 \nL 7.328125 0 \nL 7.328125 8.296875 \nQ 12.9375 14.109375 22.625 23.890625 \nQ 32.328125 33.6875 34.8125 36.53125 \nQ 39.546875 41.84375 41.421875 45.53125 \nQ 43.3125 49.21875 43.3125 52.78125 \nQ 43.3125 58.59375 39.234375 62.25 \nQ 35.15625 65.921875 28.609375 65.921875 \nQ 23.96875 65.921875 18.8125 64.3125 \nQ 13.671875 62.703125 7.8125 59.421875 \nL 7.8125 69.390625 \nQ 13.765625 71.78125 18.9375 73 \nQ 24.125 74.21875 28.421875 74.21875 \nQ 39.75 74.21875 46.484375 68.546875 \nQ 53.21875 62.890625 53.21875 53.421875 \nQ 53.21875 48.921875 51.53125 44.890625 \nQ 49.859375 40.875 45.40625 35.40625 \nQ 44.1875 33.984375 37.640625 27.21875 \nQ 31.109375 20.453125 19.1875 8.296875 \nz\n\" id=\"DejaVuSans-50\"/>\n      </defs>\n      <g transform=\"translate(170.190909 249.677422)scale(0.165 -0.165)\">\n       <use xlink:href=\"#DejaVuSans-50\"/>\n       <use x=\"63.623047\" xlink:href=\"#DejaVuSans-48\"/>\n       <use x=\"127.246094\" xlink:href=\"#DejaVuSans-48\"/>\n       <use x=\"190.869141\" xlink:href=\"#DejaVuSans-48\"/>\n      </g>\n     </g>\n    </g>\n    <g id=\"xtick_3\">\n     <g id=\"line2d_3\">\n      <g>\n       <use style=\"stroke:#000000;stroke-width:1.875;\" x=\"275.732614\" xlink:href=\"#mf2511de1a8\" y=\"224.64\"/>\n      </g>\n     </g>\n     <g id=\"text_3\">\n      <!-- 2010 -->\n      <g transform=\"translate(254.736364 249.677422)scale(0.165 -0.165)\">\n       <use xlink:href=\"#DejaVuSans-50\"/>\n       <use x=\"63.623047\" xlink:href=\"#DejaVuSans-48\"/>\n       <use x=\"127.246094\" xlink:href=\"#DejaVuSans-49\"/>\n       <use x=\"190.869141\" xlink:href=\"#DejaVuSans-48\"/>\n      </g>\n     </g>\n    </g>\n    <g id=\"xtick_4\">\n     <g id=\"line2d_4\">\n      <g>\n       <use style=\"stroke:#000000;stroke-width:1.875;\" x=\"360.278068\" xlink:href=\"#mf2511de1a8\" y=\"224.64\"/>\n      </g>\n     </g>\n     <g id=\"text_4\">\n      <!-- 2020 -->\n      <g transform=\"translate(339.281818 249.677422)scale(0.165 -0.165)\">\n       <use xlink:href=\"#DejaVuSans-50\"/>\n       <use x=\"63.623047\" xlink:href=\"#DejaVuSans-48\"/>\n       <use x=\"127.246094\" xlink:href=\"#DejaVuSans-50\"/>\n       <use x=\"190.869141\" xlink:href=\"#DejaVuSans-48\"/>\n      </g>\n     </g>\n    </g>\n    <g id=\"text_5\">\n     <!-- year -->\n     <defs>\n      <path d=\"M 32.171875 -5.078125 \nQ 28.375 -14.84375 24.75 -17.8125 \nQ 21.140625 -20.796875 15.09375 -20.796875 \nL 7.90625 -20.796875 \nL 7.90625 -13.28125 \nL 13.1875 -13.28125 \nQ 16.890625 -13.28125 18.9375 -11.515625 \nQ 21 -9.765625 23.484375 -3.21875 \nL 25.09375 0.875 \nL 2.984375 54.6875 \nL 12.5 54.6875 \nL 29.59375 11.921875 \nL 46.6875 54.6875 \nL 56.203125 54.6875 \nz\n\" id=\"DejaVuSans-121\"/>\n      <path d=\"M 56.203125 29.59375 \nL 56.203125 25.203125 \nL 14.890625 25.203125 \nQ 15.484375 15.921875 20.484375 11.0625 \nQ 25.484375 6.203125 34.421875 6.203125 \nQ 39.59375 6.203125 44.453125 7.46875 \nQ 49.3125 8.734375 54.109375 11.28125 \nL 54.109375 2.78125 \nQ 49.265625 0.734375 44.1875 -0.34375 \nQ 39.109375 -1.421875 33.890625 -1.421875 \nQ 20.796875 -1.421875 13.15625 6.1875 \nQ 5.515625 13.8125 5.515625 26.8125 \nQ 5.515625 40.234375 12.765625 48.109375 \nQ 20.015625 56 32.328125 56 \nQ 43.359375 56 49.78125 48.890625 \nQ 56.203125 41.796875 56.203125 29.59375 \nz\nM 47.21875 32.234375 \nQ 47.125 39.59375 43.09375 43.984375 \nQ 39.0625 48.390625 32.421875 48.390625 \nQ 24.90625 48.390625 20.390625 44.140625 \nQ 15.875 39.890625 15.1875 32.171875 \nz\n\" id=\"DejaVuSans-101\"/>\n      <path d=\"M 34.28125 27.484375 \nQ 23.390625 27.484375 19.1875 25 \nQ 14.984375 22.515625 14.984375 16.5 \nQ 14.984375 11.71875 18.140625 8.90625 \nQ 21.296875 6.109375 26.703125 6.109375 \nQ 34.1875 6.109375 38.703125 11.40625 \nQ 43.21875 16.703125 43.21875 25.484375 \nL 43.21875 27.484375 \nz\nM 52.203125 31.203125 \nL 52.203125 0 \nL 43.21875 0 \nL 43.21875 8.296875 \nQ 40.140625 3.328125 35.546875 0.953125 \nQ 30.953125 -1.421875 24.3125 -1.421875 \nQ 15.921875 -1.421875 10.953125 3.296875 \nQ 6 8.015625 6 15.921875 \nQ 6 25.140625 12.171875 29.828125 \nQ 18.359375 34.515625 30.609375 34.515625 \nL 43.21875 34.515625 \nL 43.21875 35.40625 \nQ 43.21875 41.609375 39.140625 45 \nQ 35.0625 48.390625 27.6875 48.390625 \nQ 23 48.390625 18.546875 47.265625 \nQ 14.109375 46.140625 10.015625 43.890625 \nL 10.015625 52.203125 \nQ 14.9375 54.109375 19.578125 55.046875 \nQ 24.21875 56 28.609375 56 \nQ 40.484375 56 46.34375 49.84375 \nQ 52.203125 43.703125 52.203125 31.203125 \nz\n\" id=\"DejaVuSans-97\"/>\n      <path d=\"M 41.109375 46.296875 \nQ 39.59375 47.171875 37.8125 47.578125 \nQ 36.03125 48 33.890625 48 \nQ 26.265625 48 22.1875 43.046875 \nQ 18.109375 38.09375 18.109375 28.8125 \nL 18.109375 0 \nL 9.078125 0 \nL 9.078125 54.6875 \nL 18.109375 54.6875 \nL 18.109375 46.1875 \nQ 20.953125 51.171875 25.484375 53.578125 \nQ 30.03125 56 36.53125 56 \nQ 37.453125 56 38.578125 55.875 \nQ 39.703125 55.765625 41.0625 55.515625 \nz\n\" id=\"DejaVuSans-114\"/>\n     </defs>\n     <g transform=\"translate(188.016406 270.786094)scale(0.18 -0.18)\">\n      <use xlink:href=\"#DejaVuSans-121\"/>\n      <use x=\"59.179688\" xlink:href=\"#DejaVuSans-101\"/>\n      <use x=\"120.703125\" xlink:href=\"#DejaVuSans-97\"/>\n      <use x=\"181.982422\" xlink:href=\"#DejaVuSans-114\"/>\n     </g>\n    </g>\n   </g>\n   <g id=\"matplotlib.axis_2\">\n    <g id=\"ytick_1\">\n     <g id=\"line2d_5\">\n      <defs>\n       <path d=\"M 0 0 \nL -9 0 \n\" id=\"med4658415b\" style=\"stroke:#000000;stroke-width:1.875;\"/>\n      </defs>\n      <g>\n       <use style=\"stroke:#000000;stroke-width:1.875;\" x=\"40.69625\" xlink:href=\"#med4658415b\" y=\"187.225957\"/>\n      </g>\n     </g>\n     <g id=\"text_6\">\n      <!-- 16 -->\n      <defs>\n       <path d=\"M 33.015625 40.375 \nQ 26.375 40.375 22.484375 35.828125 \nQ 18.609375 31.296875 18.609375 23.390625 \nQ 18.609375 15.53125 22.484375 10.953125 \nQ 26.375 6.390625 33.015625 6.390625 \nQ 39.65625 6.390625 43.53125 10.953125 \nQ 47.40625 15.53125 47.40625 23.390625 \nQ 47.40625 31.296875 43.53125 35.828125 \nQ 39.65625 40.375 33.015625 40.375 \nz\nM 52.59375 71.296875 \nL 52.59375 62.3125 \nQ 48.875 64.0625 45.09375 64.984375 \nQ 41.3125 65.921875 37.59375 65.921875 \nQ 27.828125 65.921875 22.671875 59.328125 \nQ 17.53125 52.734375 16.796875 39.40625 \nQ 19.671875 43.65625 24.015625 45.921875 \nQ 28.375 48.1875 33.59375 48.1875 \nQ 44.578125 48.1875 50.953125 41.515625 \nQ 57.328125 34.859375 57.328125 23.390625 \nQ 57.328125 12.15625 50.6875 5.359375 \nQ 44.046875 -1.421875 33.015625 -1.421875 \nQ 20.359375 -1.421875 13.671875 8.265625 \nQ 6.984375 17.96875 6.984375 36.375 \nQ 6.984375 53.65625 15.1875 63.9375 \nQ 23.390625 74.21875 37.203125 74.21875 \nQ 40.921875 74.21875 44.703125 73.484375 \nQ 48.484375 72.75 52.59375 71.296875 \nz\n\" id=\"DejaVuSans-54\"/>\n      </defs>\n      <g transform=\"translate(7.2 193.494668)scale(0.165 -0.165)\">\n       <use xlink:href=\"#DejaVuSans-49\"/>\n       <use x=\"63.623047\" xlink:href=\"#DejaVuSans-54\"/>\n      </g>\n     </g>\n    </g>\n    <g id=\"ytick_2\">\n     <g id=\"line2d_6\">\n      <g>\n       <use style=\"stroke:#000000;stroke-width:1.875;\" x=\"40.69625\" xlink:href=\"#med4658415b\" y=\"149.674481\"/>\n      </g>\n     </g>\n     <g id=\"text_7\">\n      <!-- 18 -->\n      <defs>\n       <path d=\"M 31.78125 34.625 \nQ 24.75 34.625 20.71875 30.859375 \nQ 16.703125 27.09375 16.703125 20.515625 \nQ 16.703125 13.921875 20.71875 10.15625 \nQ 24.75 6.390625 31.78125 6.390625 \nQ 38.8125 6.390625 42.859375 10.171875 \nQ 46.921875 13.96875 46.921875 20.515625 \nQ 46.921875 27.09375 42.890625 30.859375 \nQ 38.875 34.625 31.78125 34.625 \nz\nM 21.921875 38.8125 \nQ 15.578125 40.375 12.03125 44.71875 \nQ 8.5 49.078125 8.5 55.328125 \nQ 8.5 64.0625 14.71875 69.140625 \nQ 20.953125 74.21875 31.78125 74.21875 \nQ 42.671875 74.21875 48.875 69.140625 \nQ 55.078125 64.0625 55.078125 55.328125 \nQ 55.078125 49.078125 51.53125 44.71875 \nQ 48 40.375 41.703125 38.8125 \nQ 48.828125 37.15625 52.796875 32.3125 \nQ 56.78125 27.484375 56.78125 20.515625 \nQ 56.78125 9.90625 50.3125 4.234375 \nQ 43.84375 -1.421875 31.78125 -1.421875 \nQ 19.734375 -1.421875 13.25 4.234375 \nQ 6.78125 9.90625 6.78125 20.515625 \nQ 6.78125 27.484375 10.78125 32.3125 \nQ 14.796875 37.15625 21.921875 38.8125 \nz\nM 18.3125 54.390625 \nQ 18.3125 48.734375 21.84375 45.5625 \nQ 25.390625 42.390625 31.78125 42.390625 \nQ 38.140625 42.390625 41.71875 45.5625 \nQ 45.3125 48.734375 45.3125 54.390625 \nQ 45.3125 60.0625 41.71875 63.234375 \nQ 38.140625 66.40625 31.78125 66.40625 \nQ 25.390625 66.40625 21.84375 63.234375 \nQ 18.3125 60.0625 18.3125 54.390625 \nz\n\" id=\"DejaVuSans-56\"/>\n      </defs>\n      <g transform=\"translate(7.2 155.943192)scale(0.165 -0.165)\">\n       <use xlink:href=\"#DejaVuSans-49\"/>\n       <use x=\"63.623047\" xlink:href=\"#DejaVuSans-56\"/>\n      </g>\n     </g>\n    </g>\n    <g id=\"ytick_3\">\n     <g id=\"line2d_7\">\n      <g>\n       <use style=\"stroke:#000000;stroke-width:1.875;\" x=\"40.69625\" xlink:href=\"#med4658415b\" y=\"112.123006\"/>\n      </g>\n     </g>\n     <g id=\"text_8\">\n      <!-- 20 -->\n      <g transform=\"translate(7.2 118.391717)scale(0.165 -0.165)\">\n       <use xlink:href=\"#DejaVuSans-50\"/>\n       <use x=\"63.623047\" xlink:href=\"#DejaVuSans-48\"/>\n      </g>\n     </g>\n    </g>\n    <g id=\"ytick_4\">\n     <g id=\"line2d_8\">\n      <g>\n       <use style=\"stroke:#000000;stroke-width:1.875;\" x=\"40.69625\" xlink:href=\"#med4658415b\" y=\"74.571531\"/>\n      </g>\n     </g>\n     <g id=\"text_9\">\n      <!-- 22 -->\n      <g transform=\"translate(7.2 80.840242)scale(0.165 -0.165)\">\n       <use xlink:href=\"#DejaVuSans-50\"/>\n       <use x=\"63.623047\" xlink:href=\"#DejaVuSans-50\"/>\n      </g>\n     </g>\n    </g>\n    <g id=\"ytick_5\">\n     <g id=\"line2d_9\">\n      <g>\n       <use style=\"stroke:#000000;stroke-width:1.875;\" x=\"40.69625\" xlink:href=\"#med4658415b\" y=\"37.020056\"/>\n      </g>\n     </g>\n     <g id=\"text_10\">\n      <!-- 24 -->\n      <defs>\n       <path d=\"M 37.796875 64.3125 \nL 12.890625 25.390625 \nL 37.796875 25.390625 \nz\nM 35.203125 72.90625 \nL 47.609375 72.90625 \nL 47.609375 25.390625 \nL 58.015625 25.390625 \nL 58.015625 17.1875 \nL 47.609375 17.1875 \nL 47.609375 0 \nL 37.796875 0 \nL 37.796875 17.1875 \nL 4.890625 17.1875 \nL 4.890625 26.703125 \nz\n\" id=\"DejaVuSans-52\"/>\n      </defs>\n      <g transform=\"translate(7.2 43.288767)scale(0.165 -0.165)\">\n       <use xlink:href=\"#DejaVuSans-50\"/>\n       <use x=\"63.623047\" xlink:href=\"#DejaVuSans-52\"/>\n      </g>\n     </g>\n    </g>\n   </g>\n   <g id=\"line2d_10\">\n    <path clip-path=\"url(#p8cdb808ce3)\" d=\"M 55.914432 123.677306 \nL 64.368977 125.552011 \nL 72.823523 127.759766 \nL 81.278068 137.782288 \nL 89.732614 137.128077 \nL 98.187159 139.666269 \nL 106.641705 140.096811 \nL 115.09625 148.023282 \nL 123.550795 151.263401 \nL 132.005341 148.081067 \nL 140.459886 148.801891 \nL 148.914432 155.703113 \nL 157.368977 140.651899 \nL 165.823523 147.967596 \nL 174.278068 151.07765 \nL 182.732614 151.080319 \nL 191.187159 151.892848 \nL 199.641705 150.77723 \nL 208.09625 156.350905 \nL 216.550795 157.840037 \nL 225.005341 160.446311 \nL 233.459886 160.711425 \nL 241.914432 167.275323 \nL 250.368977 168.517758 \nL 258.823523 163.94651 \nL 267.278068 155.367235 \nL 275.732614 143.565937 \nL 284.187159 126.253875 \nL 292.641705 115.163698 \nL 301.09625 93.668565 \nL 309.550795 90.344671 \nL 318.005341 86.775761 \nL 326.459886 76.37872 \nL 334.914432 66.614458 \nL 343.368977 68.742751 \nL 351.823523 54.214487 \nL 360.278068 63.691232 \n\" style=\"fill:none;stroke:#1f77b4;stroke-linecap:square;stroke-width:2.25;\"/>\n   </g>\n   <g id=\"line2d_11\">\n    <path clip-path=\"url(#p8cdb808ce3)\" d=\"M 55.914432 185.738323 \nL 64.368977 182.053772 \nL 72.823523 188.257956 \nL 81.278068 194.51617 \nL 89.732614 195.15178 \nL 98.187159 203.376273 \nL 106.641705 208.807264 \nL 115.09625 209.695282 \nL 123.550795 207.961298 \nL 132.005341 205.855769 \nL 140.459886 206.89328 \nL 148.914432 214.756364 \nL 157.368977 207.379065 \nL 165.823523 206.402885 \nL 174.278068 200.594282 \nL 182.732614 192.686629 \nL 191.187159 192.579976 \nL 199.641705 193.911257 \nL 208.09625 204.426108 \nL 216.550795 209.26704 \nL 225.005341 207.342818 \nL 233.459886 202.310193 \nL 241.914432 200.362095 \nL 250.368977 196.806727 \nL 258.823523 191.543006 \nL 267.278068 184.446876 \nL 275.732614 163.212352 \nL 284.187159 171.870335 \nL 292.641705 153.37379 \nL 301.09625 122.378028 \nL 309.550795 102.616304 \nL 318.005341 77.998282 \nL 326.459886 17.083636 \nL 334.914432 36.952028 \nL 343.368977 45.906793 \nL 351.823523 33.846692 \nL 360.278068 35.678932 \n\" style=\"fill:none;stroke:#ff7f0e;stroke-linecap:square;stroke-width:2.25;\"/>\n   </g>\n   <g id=\"patch_3\">\n    <path d=\"M 40.69625 224.64 \nL 40.69625 7.2 \n\" style=\"fill:none;stroke:#000000;stroke-linecap:square;stroke-linejoin:miter;stroke-width:1.875;\"/>\n   </g>\n   <g id=\"patch_4\">\n    <path d=\"M 375.49625 224.64 \nL 375.49625 7.2 \n\" style=\"fill:none;stroke:#000000;stroke-linecap:square;stroke-linejoin:miter;stroke-width:1.875;\"/>\n   </g>\n   <g id=\"patch_5\">\n    <path d=\"M 40.69625 224.64 \nL 375.49625 224.64 \n\" style=\"fill:none;stroke:#000000;stroke-linecap:square;stroke-linejoin:miter;stroke-width:1.875;\"/>\n   </g>\n   <g id=\"patch_6\">\n    <path d=\"M 40.69625 7.2 \nL 375.49625 7.2 \n\" style=\"fill:none;stroke:#000000;stroke-linecap:square;stroke-linejoin:miter;stroke-width:1.875;\"/>\n   </g>\n   <g id=\"legend_1\">\n    <g id=\"patch_7\">\n     <path d=\"M 387.04625 68.837812 \nL 486.695938 68.837812 \nQ 489.995938 68.837812 489.995938 65.537812 \nL 489.995938 18.75 \nQ 489.995938 15.45 486.695938 15.45 \nL 387.04625 15.45 \nQ 383.74625 15.45 383.74625 18.75 \nL 383.74625 65.537812 \nQ 383.74625 68.837812 387.04625 68.837812 \nz\n\" style=\"fill:#ffffff;opacity:0.8;stroke:#cccccc;stroke-linejoin:miter;stroke-width:1.5;\"/>\n    </g>\n    <g id=\"line2d_12\">\n     <path d=\"M 390.34625 28.812422 \nL 423.34625 28.812422 \n\" style=\"fill:none;stroke:#1f77b4;stroke-linecap:square;stroke-width:2.25;\"/>\n    </g>\n    <g id=\"line2d_13\"/>\n    <g id=\"text_11\">\n     <!-- Other -->\n     <defs>\n      <path d=\"M 39.40625 66.21875 \nQ 28.65625 66.21875 22.328125 58.203125 \nQ 16.015625 50.203125 16.015625 36.375 \nQ 16.015625 22.609375 22.328125 14.59375 \nQ 28.65625 6.59375 39.40625 6.59375 \nQ 50.140625 6.59375 56.421875 14.59375 \nQ 62.703125 22.609375 62.703125 36.375 \nQ 62.703125 50.203125 56.421875 58.203125 \nQ 50.140625 66.21875 39.40625 66.21875 \nz\nM 39.40625 74.21875 \nQ 54.734375 74.21875 63.90625 63.9375 \nQ 73.09375 53.65625 73.09375 36.375 \nQ 73.09375 19.140625 63.90625 8.859375 \nQ 54.734375 -1.421875 39.40625 -1.421875 \nQ 24.03125 -1.421875 14.8125 8.828125 \nQ 5.609375 19.09375 5.609375 36.375 \nQ 5.609375 53.65625 14.8125 63.9375 \nQ 24.03125 74.21875 39.40625 74.21875 \nz\n\" id=\"DejaVuSans-79\"/>\n      <path d=\"M 18.3125 70.21875 \nL 18.3125 54.6875 \nL 36.8125 54.6875 \nL 36.8125 47.703125 \nL 18.3125 47.703125 \nL 18.3125 18.015625 \nQ 18.3125 11.328125 20.140625 9.421875 \nQ 21.96875 7.515625 27.59375 7.515625 \nL 36.8125 7.515625 \nL 36.8125 0 \nL 27.59375 0 \nQ 17.1875 0 13.234375 3.875 \nQ 9.28125 7.765625 9.28125 18.015625 \nL 9.28125 47.703125 \nL 2.6875 47.703125 \nL 2.6875 54.6875 \nL 9.28125 54.6875 \nL 9.28125 70.21875 \nz\n\" id=\"DejaVuSans-116\"/>\n      <path d=\"M 54.890625 33.015625 \nL 54.890625 0 \nL 45.90625 0 \nL 45.90625 32.71875 \nQ 45.90625 40.484375 42.875 44.328125 \nQ 39.84375 48.1875 33.796875 48.1875 \nQ 26.515625 48.1875 22.3125 43.546875 \nQ 18.109375 38.921875 18.109375 30.90625 \nL 18.109375 0 \nL 9.078125 0 \nL 9.078125 75.984375 \nL 18.109375 75.984375 \nL 18.109375 46.1875 \nQ 21.34375 51.125 25.703125 53.5625 \nQ 30.078125 56 35.796875 56 \nQ 45.21875 56 50.046875 50.171875 \nQ 54.890625 44.34375 54.890625 33.015625 \nz\n\" id=\"DejaVuSans-104\"/>\n     </defs>\n     <g transform=\"translate(436.54625 34.587422)scale(0.165 -0.165)\">\n      <use xlink:href=\"#DejaVuSans-79\"/>\n      <use x=\"78.710938\" xlink:href=\"#DejaVuSans-116\"/>\n      <use x=\"117.919922\" xlink:href=\"#DejaVuSans-104\"/>\n      <use x=\"181.298828\" xlink:href=\"#DejaVuSans-101\"/>\n      <use x=\"242.822266\" xlink:href=\"#DejaVuSans-114\"/>\n     </g>\n    </g>\n    <g id=\"line2d_14\">\n     <path d=\"M 390.34625 53.031328 \nL 423.34625 53.031328 \n\" style=\"fill:none;stroke:#ff7f0e;stroke-linecap:square;stroke-width:2.25;\"/>\n    </g>\n    <g id=\"line2d_15\"/>\n    <g id=\"text_12\">\n     <!-- US -->\n     <defs>\n      <path d=\"M 8.6875 72.90625 \nL 18.609375 72.90625 \nL 18.609375 28.609375 \nQ 18.609375 16.890625 22.84375 11.734375 \nQ 27.09375 6.59375 36.625 6.59375 \nQ 46.09375 6.59375 50.34375 11.734375 \nQ 54.59375 16.890625 54.59375 28.609375 \nL 54.59375 72.90625 \nL 64.5 72.90625 \nL 64.5 27.390625 \nQ 64.5 13.140625 57.4375 5.859375 \nQ 50.390625 -1.421875 36.625 -1.421875 \nQ 22.796875 -1.421875 15.734375 5.859375 \nQ 8.6875 13.140625 8.6875 27.390625 \nz\n\" id=\"DejaVuSans-85\"/>\n      <path d=\"M 53.515625 70.515625 \nL 53.515625 60.890625 \nQ 47.90625 63.578125 42.921875 64.890625 \nQ 37.9375 66.21875 33.296875 66.21875 \nQ 25.25 66.21875 20.875 63.09375 \nQ 16.5 59.96875 16.5 54.203125 \nQ 16.5 49.359375 19.40625 46.890625 \nQ 22.3125 44.4375 30.421875 42.921875 \nL 36.375 41.703125 \nQ 47.40625 39.59375 52.65625 34.296875 \nQ 57.90625 29 57.90625 20.125 \nQ 57.90625 9.515625 50.796875 4.046875 \nQ 43.703125 -1.421875 29.984375 -1.421875 \nQ 24.8125 -1.421875 18.96875 -0.25 \nQ 13.140625 0.921875 6.890625 3.21875 \nL 6.890625 13.375 \nQ 12.890625 10.015625 18.65625 8.296875 \nQ 24.421875 6.59375 29.984375 6.59375 \nQ 38.421875 6.59375 43.015625 9.90625 \nQ 47.609375 13.234375 47.609375 19.390625 \nQ 47.609375 24.75 44.3125 27.78125 \nQ 41.015625 30.8125 33.5 32.328125 \nL 27.484375 33.5 \nQ 16.453125 35.6875 11.515625 40.375 \nQ 6.59375 45.0625 6.59375 53.421875 \nQ 6.59375 63.09375 13.40625 68.65625 \nQ 20.21875 74.21875 32.171875 74.21875 \nQ 37.3125 74.21875 42.625 73.28125 \nQ 47.953125 72.359375 53.515625 70.515625 \nz\n\" id=\"DejaVuSans-83\"/>\n     </defs>\n     <g transform=\"translate(436.54625 58.806328)scale(0.165 -0.165)\">\n      <use xlink:href=\"#DejaVuSans-85\"/>\n      <use x=\"73.193359\" xlink:href=\"#DejaVuSans-83\"/>\n     </g>\n    </g>\n   </g>\n  </g>\n </g>\n <defs>\n  <clipPath id=\"p8cdb808ce3\">\n   <rect height=\"217.44\" width=\"334.8\" x=\"40.69625\" y=\"7.2\"/>\n  </clipPath>\n </defs>\n</svg>\n",
      "image/png": "[encoded data removed]"
     },
     "metadata": {
      "needs_background": "light"
     }
    }
   ],
   "source": [
    "(autos2\n",
    "    .assign(country=autos2.make.apply(country))\n",
    "    .groupby(['year','country'])\n",
    "    .mean()\n",
    "    .unstack()\n",
    "    .city08\n",
    "    .plot()\n",
    "    .legend(bbox_to_anchor=(1,1))\n",
    ")"
   ]
  },
  {
   "cell_type": "code",
   "execution_count": 133,
   "metadata": {},
   "outputs": [
    {
     "output_type": "execute_result",
     "data": {
      "text/plain": [
       "<matplotlib.legend.Legend at 0x7fb041d2e670>"
      ]
     },
     "metadata": {},
     "execution_count": 133
    },
    {
     "output_type": "display_data",
     "data": {
      "text/plain": "<Figure size 432x288 with 1 Axes>",
      "image/svg+xml": "<?xml version=\"1.0\" encoding=\"utf-8\" standalone=\"no\"?>\n<!DOCTYPE svg PUBLIC \"-//W3C//DTD SVG 1.1//EN\"\n  \"http://www.w3.org/Graphics/SVG/1.1/DTD/svg11.dtd\">\n<!-- Created with matplotlib (https://matplotlib.org/) -->\n<svg height=\"281.729531pt\" version=\"1.1\" viewBox=\"0 0 497.195937 281.729531\" width=\"497.195937pt\" xmlns=\"http://www.w3.org/2000/svg\" xmlns:xlink=\"http://www.w3.org/1999/xlink\">\n <defs>\n  <style type=\"text/css\">\n*{stroke-linecap:butt;stroke-linejoin:round;}\n  </style>\n </defs>\n <g id=\"figure_1\">\n  <g id=\"patch_1\">\n   <path d=\"M 0 281.729531 \nL 497.195937 281.729531 \nL 497.195937 0 \nL 0 0 \nz\n\" style=\"fill:none;\"/>\n  </g>\n  <g id=\"axes_1\">\n   <g id=\"patch_2\">\n    <path d=\"M 40.69625 224.64 \nL 375.49625 224.64 \nL 375.49625 7.2 \nL 40.69625 7.2 \nz\n\" style=\"fill:#ffffff;\"/>\n   </g>\n   <g id=\"matplotlib.axis_1\">\n    <g id=\"xtick_1\">\n     <g id=\"line2d_1\">\n      <defs>\n       <path d=\"M 0 0 \nL 0 9 \n\" id=\"m685d3ffe9b\" style=\"stroke:#000000;stroke-width:1.875;\"/>\n      </defs>\n      <g>\n       <use style=\"stroke:#000000;stroke-width:1.875;\" x=\"99.394951\" xlink:href=\"#m685d3ffe9b\" y=\"224.64\"/>\n      </g>\n     </g>\n     <g id=\"text_1\">\n      <!-- 1990 -->\n      <defs>\n       <path d=\"M 12.40625 8.296875 \nL 28.515625 8.296875 \nL 28.515625 63.921875 \nL 10.984375 60.40625 \nL 10.984375 69.390625 \nL 28.421875 72.90625 \nL 38.28125 72.90625 \nL 38.28125 8.296875 \nL 54.390625 8.296875 \nL 54.390625 0 \nL 12.40625 0 \nz\n\" id=\"DejaVuSans-49\"/>\n       <path d=\"M 10.984375 1.515625 \nL 10.984375 10.5 \nQ 14.703125 8.734375 18.5 7.8125 \nQ 22.3125 6.890625 25.984375 6.890625 \nQ 35.75 6.890625 40.890625 13.453125 \nQ 46.046875 20.015625 46.78125 33.40625 \nQ 43.953125 29.203125 39.59375 26.953125 \nQ 35.25 24.703125 29.984375 24.703125 \nQ 19.046875 24.703125 12.671875 31.3125 \nQ 6.296875 37.9375 6.296875 49.421875 \nQ 6.296875 60.640625 12.9375 67.421875 \nQ 19.578125 74.21875 30.609375 74.21875 \nQ 43.265625 74.21875 49.921875 64.515625 \nQ 56.59375 54.828125 56.59375 36.375 \nQ 56.59375 19.140625 48.40625 8.859375 \nQ 40.234375 -1.421875 26.421875 -1.421875 \nQ 22.703125 -1.421875 18.890625 -0.6875 \nQ 15.09375 0.046875 10.984375 1.515625 \nz\nM 30.609375 32.421875 \nQ 37.25 32.421875 41.125 36.953125 \nQ 45.015625 41.5 45.015625 49.421875 \nQ 45.015625 57.28125 41.125 61.84375 \nQ 37.25 66.40625 30.609375 66.40625 \nQ 23.96875 66.40625 20.09375 61.84375 \nQ 16.21875 57.28125 16.21875 49.421875 \nQ 16.21875 41.5 20.09375 36.953125 \nQ 23.96875 32.421875 30.609375 32.421875 \nz\n\" id=\"DejaVuSans-57\"/>\n       <path d=\"M 31.78125 66.40625 \nQ 24.171875 66.40625 20.328125 58.90625 \nQ 16.5 51.421875 16.5 36.375 \nQ 16.5 21.390625 20.328125 13.890625 \nQ 24.171875 6.390625 31.78125 6.390625 \nQ 39.453125 6.390625 43.28125 13.890625 \nQ 47.125 21.390625 47.125 36.375 \nQ 47.125 51.421875 43.28125 58.90625 \nQ 39.453125 66.40625 31.78125 66.40625 \nz\nM 31.78125 74.21875 \nQ 44.046875 74.21875 50.515625 64.515625 \nQ 56.984375 54.828125 56.984375 36.375 \nQ 56.984375 17.96875 50.515625 8.265625 \nQ 44.046875 -1.421875 31.78125 -1.421875 \nQ 19.53125 -1.421875 13.0625 8.265625 \nQ 6.59375 17.96875 6.59375 36.375 \nQ 6.59375 54.828125 13.0625 64.515625 \nQ 19.53125 74.21875 31.78125 74.21875 \nz\n\" id=\"DejaVuSans-48\"/>\n      </defs>\n      <g transform=\"translate(78.398701 249.677422)scale(0.165 -0.165)\">\n       <use xlink:href=\"#DejaVuSans-49\"/>\n       <use x=\"63.623047\" xlink:href=\"#DejaVuSans-57\"/>\n       <use x=\"127.246094\" xlink:href=\"#DejaVuSans-57\"/>\n       <use x=\"190.869141\" xlink:href=\"#DejaVuSans-48\"/>\n      </g>\n     </g>\n    </g>\n    <g id=\"xtick_2\">\n     <g id=\"line2d_2\">\n      <g>\n       <use style=\"stroke:#000000;stroke-width:1.875;\" x=\"186.35599\" xlink:href=\"#m685d3ffe9b\" y=\"224.64\"/>\n      </g>\n     </g>\n     <g id=\"text_2\">\n      <!-- 2000 -->\n      <defs>\n       <path d=\"M 19.1875 8.296875 \nL 53.609375 8.296875 \nL 53.609375 0 \nL 7.328125 0 \nL 7.328125 8.296875 \nQ 12.9375 14.109375 22.625 23.890625 \nQ 32.328125 33.6875 34.8125 36.53125 \nQ 39.546875 41.84375 41.421875 45.53125 \nQ 43.3125 49.21875 43.3125 52.78125 \nQ 43.3125 58.59375 39.234375 62.25 \nQ 35.15625 65.921875 28.609375 65.921875 \nQ 23.96875 65.921875 18.8125 64.3125 \nQ 13.671875 62.703125 7.8125 59.421875 \nL 7.8125 69.390625 \nQ 13.765625 71.78125 18.9375 73 \nQ 24.125 74.21875 28.421875 74.21875 \nQ 39.75 74.21875 46.484375 68.546875 \nQ 53.21875 62.890625 53.21875 53.421875 \nQ 53.21875 48.921875 51.53125 44.890625 \nQ 49.859375 40.875 45.40625 35.40625 \nQ 44.1875 33.984375 37.640625 27.21875 \nQ 31.109375 20.453125 19.1875 8.296875 \nz\n\" id=\"DejaVuSans-50\"/>\n      </defs>\n      <g transform=\"translate(165.35974 249.677422)scale(0.165 -0.165)\">\n       <use xlink:href=\"#DejaVuSans-50\"/>\n       <use x=\"63.623047\" xlink:href=\"#DejaVuSans-48\"/>\n       <use x=\"127.246094\" xlink:href=\"#DejaVuSans-48\"/>\n       <use x=\"190.869141\" xlink:href=\"#DejaVuSans-48\"/>\n      </g>\n     </g>\n    </g>\n    <g id=\"xtick_3\">\n     <g id=\"line2d_3\">\n      <g>\n       <use style=\"stroke:#000000;stroke-width:1.875;\" x=\"273.317029\" xlink:href=\"#m685d3ffe9b\" y=\"224.64\"/>\n      </g>\n     </g>\n     <g id=\"text_3\">\n      <!-- 2010 -->\n      <g transform=\"translate(252.320779 249.677422)scale(0.165 -0.165)\">\n       <use xlink:href=\"#DejaVuSans-50\"/>\n       <use x=\"63.623047\" xlink:href=\"#DejaVuSans-48\"/>\n       <use x=\"127.246094\" xlink:href=\"#DejaVuSans-49\"/>\n       <use x=\"190.869141\" xlink:href=\"#DejaVuSans-48\"/>\n      </g>\n     </g>\n    </g>\n    <g id=\"xtick_4\">\n     <g id=\"line2d_4\">\n      <g>\n       <use style=\"stroke:#000000;stroke-width:1.875;\" x=\"360.278068\" xlink:href=\"#m685d3ffe9b\" y=\"224.64\"/>\n      </g>\n     </g>\n     <g id=\"text_4\">\n      <!-- 2020 -->\n      <g transform=\"translate(339.281818 249.677422)scale(0.165 -0.165)\">\n       <use xlink:href=\"#DejaVuSans-50\"/>\n       <use x=\"63.623047\" xlink:href=\"#DejaVuSans-48\"/>\n       <use x=\"127.246094\" xlink:href=\"#DejaVuSans-50\"/>\n       <use x=\"190.869141\" xlink:href=\"#DejaVuSans-48\"/>\n      </g>\n     </g>\n    </g>\n    <g id=\"text_5\">\n     <!-- year -->\n     <defs>\n      <path d=\"M 32.171875 -5.078125 \nQ 28.375 -14.84375 24.75 -17.8125 \nQ 21.140625 -20.796875 15.09375 -20.796875 \nL 7.90625 -20.796875 \nL 7.90625 -13.28125 \nL 13.1875 -13.28125 \nQ 16.890625 -13.28125 18.9375 -11.515625 \nQ 21 -9.765625 23.484375 -3.21875 \nL 25.09375 0.875 \nL 2.984375 54.6875 \nL 12.5 54.6875 \nL 29.59375 11.921875 \nL 46.6875 54.6875 \nL 56.203125 54.6875 \nz\n\" id=\"DejaVuSans-121\"/>\n      <path d=\"M 56.203125 29.59375 \nL 56.203125 25.203125 \nL 14.890625 25.203125 \nQ 15.484375 15.921875 20.484375 11.0625 \nQ 25.484375 6.203125 34.421875 6.203125 \nQ 39.59375 6.203125 44.453125 7.46875 \nQ 49.3125 8.734375 54.109375 11.28125 \nL 54.109375 2.78125 \nQ 49.265625 0.734375 44.1875 -0.34375 \nQ 39.109375 -1.421875 33.890625 -1.421875 \nQ 20.796875 -1.421875 13.15625 6.1875 \nQ 5.515625 13.8125 5.515625 26.8125 \nQ 5.515625 40.234375 12.765625 48.109375 \nQ 20.015625 56 32.328125 56 \nQ 43.359375 56 49.78125 48.890625 \nQ 56.203125 41.796875 56.203125 29.59375 \nz\nM 47.21875 32.234375 \nQ 47.125 39.59375 43.09375 43.984375 \nQ 39.0625 48.390625 32.421875 48.390625 \nQ 24.90625 48.390625 20.390625 44.140625 \nQ 15.875 39.890625 15.1875 32.171875 \nz\n\" id=\"DejaVuSans-101\"/>\n      <path d=\"M 34.28125 27.484375 \nQ 23.390625 27.484375 19.1875 25 \nQ 14.984375 22.515625 14.984375 16.5 \nQ 14.984375 11.71875 18.140625 8.90625 \nQ 21.296875 6.109375 26.703125 6.109375 \nQ 34.1875 6.109375 38.703125 11.40625 \nQ 43.21875 16.703125 43.21875 25.484375 \nL 43.21875 27.484375 \nz\nM 52.203125 31.203125 \nL 52.203125 0 \nL 43.21875 0 \nL 43.21875 8.296875 \nQ 40.140625 3.328125 35.546875 0.953125 \nQ 30.953125 -1.421875 24.3125 -1.421875 \nQ 15.921875 -1.421875 10.953125 3.296875 \nQ 6 8.015625 6 15.921875 \nQ 6 25.140625 12.171875 29.828125 \nQ 18.359375 34.515625 30.609375 34.515625 \nL 43.21875 34.515625 \nL 43.21875 35.40625 \nQ 43.21875 41.609375 39.140625 45 \nQ 35.0625 48.390625 27.6875 48.390625 \nQ 23 48.390625 18.546875 47.265625 \nQ 14.109375 46.140625 10.015625 43.890625 \nL 10.015625 52.203125 \nQ 14.9375 54.109375 19.578125 55.046875 \nQ 24.21875 56 28.609375 56 \nQ 40.484375 56 46.34375 49.84375 \nQ 52.203125 43.703125 52.203125 31.203125 \nz\n\" id=\"DejaVuSans-97\"/>\n      <path d=\"M 41.109375 46.296875 \nQ 39.59375 47.171875 37.8125 47.578125 \nQ 36.03125 48 33.890625 48 \nQ 26.265625 48 22.1875 43.046875 \nQ 18.109375 38.09375 18.109375 28.8125 \nL 18.109375 0 \nL 9.078125 0 \nL 9.078125 54.6875 \nL 18.109375 54.6875 \nL 18.109375 46.1875 \nQ 20.953125 51.171875 25.484375 53.578125 \nQ 30.03125 56 36.53125 56 \nQ 37.453125 56 38.578125 55.875 \nQ 39.703125 55.765625 41.0625 55.515625 \nz\n\" id=\"DejaVuSans-114\"/>\n     </defs>\n     <g transform=\"translate(188.016406 270.786094)scale(0.18 -0.18)\">\n      <use xlink:href=\"#DejaVuSans-121\"/>\n      <use x=\"59.179688\" xlink:href=\"#DejaVuSans-101\"/>\n      <use x=\"120.703125\" xlink:href=\"#DejaVuSans-97\"/>\n      <use x=\"181.982422\" xlink:href=\"#DejaVuSans-114\"/>\n     </g>\n    </g>\n   </g>\n   <g id=\"matplotlib.axis_2\">\n    <g id=\"ytick_1\">\n     <g id=\"line2d_5\">\n      <defs>\n       <path d=\"M 0 0 \nL -9 0 \n\" id=\"m288c89a9c9\" style=\"stroke:#000000;stroke-width:1.875;\"/>\n      </defs>\n      <g>\n       <use style=\"stroke:#000000;stroke-width:1.875;\" x=\"40.69625\" xlink:href=\"#m288c89a9c9\" y=\"189.149907\"/>\n      </g>\n     </g>\n     <g id=\"text_6\">\n      <!-- 16 -->\n      <defs>\n       <path d=\"M 33.015625 40.375 \nQ 26.375 40.375 22.484375 35.828125 \nQ 18.609375 31.296875 18.609375 23.390625 \nQ 18.609375 15.53125 22.484375 10.953125 \nQ 26.375 6.390625 33.015625 6.390625 \nQ 39.65625 6.390625 43.53125 10.953125 \nQ 47.40625 15.53125 47.40625 23.390625 \nQ 47.40625 31.296875 43.53125 35.828125 \nQ 39.65625 40.375 33.015625 40.375 \nz\nM 52.59375 71.296875 \nL 52.59375 62.3125 \nQ 48.875 64.0625 45.09375 64.984375 \nQ 41.3125 65.921875 37.59375 65.921875 \nQ 27.828125 65.921875 22.671875 59.328125 \nQ 17.53125 52.734375 16.796875 39.40625 \nQ 19.671875 43.65625 24.015625 45.921875 \nQ 28.375 48.1875 33.59375 48.1875 \nQ 44.578125 48.1875 50.953125 41.515625 \nQ 57.328125 34.859375 57.328125 23.390625 \nQ 57.328125 12.15625 50.6875 5.359375 \nQ 44.046875 -1.421875 33.015625 -1.421875 \nQ 20.359375 -1.421875 13.671875 8.265625 \nQ 6.984375 17.96875 6.984375 36.375 \nQ 6.984375 53.65625 15.1875 63.9375 \nQ 23.390625 74.21875 37.203125 74.21875 \nQ 40.921875 74.21875 44.703125 73.484375 \nQ 48.484375 72.75 52.59375 71.296875 \nz\n\" id=\"DejaVuSans-54\"/>\n      </defs>\n      <g transform=\"translate(7.2 195.418618)scale(0.165 -0.165)\">\n       <use xlink:href=\"#DejaVuSans-49\"/>\n       <use x=\"63.623047\" xlink:href=\"#DejaVuSans-54\"/>\n      </g>\n     </g>\n    </g>\n    <g id=\"ytick_2\">\n     <g id=\"line2d_6\">\n      <g>\n       <use style=\"stroke:#000000;stroke-width:1.875;\" x=\"40.69625\" xlink:href=\"#m288c89a9c9\" y=\"148.81898\"/>\n      </g>\n     </g>\n     <g id=\"text_7\">\n      <!-- 18 -->\n      <defs>\n       <path d=\"M 31.78125 34.625 \nQ 24.75 34.625 20.71875 30.859375 \nQ 16.703125 27.09375 16.703125 20.515625 \nQ 16.703125 13.921875 20.71875 10.15625 \nQ 24.75 6.390625 31.78125 6.390625 \nQ 38.8125 6.390625 42.859375 10.171875 \nQ 46.921875 13.96875 46.921875 20.515625 \nQ 46.921875 27.09375 42.890625 30.859375 \nQ 38.875 34.625 31.78125 34.625 \nz\nM 21.921875 38.8125 \nQ 15.578125 40.375 12.03125 44.71875 \nQ 8.5 49.078125 8.5 55.328125 \nQ 8.5 64.0625 14.71875 69.140625 \nQ 20.953125 74.21875 31.78125 74.21875 \nQ 42.671875 74.21875 48.875 69.140625 \nQ 55.078125 64.0625 55.078125 55.328125 \nQ 55.078125 49.078125 51.53125 44.71875 \nQ 48 40.375 41.703125 38.8125 \nQ 48.828125 37.15625 52.796875 32.3125 \nQ 56.78125 27.484375 56.78125 20.515625 \nQ 56.78125 9.90625 50.3125 4.234375 \nQ 43.84375 -1.421875 31.78125 -1.421875 \nQ 19.734375 -1.421875 13.25 4.234375 \nQ 6.78125 9.90625 6.78125 20.515625 \nQ 6.78125 27.484375 10.78125 32.3125 \nQ 14.796875 37.15625 21.921875 38.8125 \nz\nM 18.3125 54.390625 \nQ 18.3125 48.734375 21.84375 45.5625 \nQ 25.390625 42.390625 31.78125 42.390625 \nQ 38.140625 42.390625 41.71875 45.5625 \nQ 45.3125 48.734375 45.3125 54.390625 \nQ 45.3125 60.0625 41.71875 63.234375 \nQ 38.140625 66.40625 31.78125 66.40625 \nQ 25.390625 66.40625 21.84375 63.234375 \nQ 18.3125 60.0625 18.3125 54.390625 \nz\n\" id=\"DejaVuSans-56\"/>\n      </defs>\n      <g transform=\"translate(7.2 155.08769)scale(0.165 -0.165)\">\n       <use xlink:href=\"#DejaVuSans-49\"/>\n       <use x=\"63.623047\" xlink:href=\"#DejaVuSans-56\"/>\n      </g>\n     </g>\n    </g>\n    <g id=\"ytick_3\">\n     <g id=\"line2d_7\">\n      <g>\n       <use style=\"stroke:#000000;stroke-width:1.875;\" x=\"40.69625\" xlink:href=\"#m288c89a9c9\" y=\"108.488052\"/>\n      </g>\n     </g>\n     <g id=\"text_8\">\n      <!-- 20 -->\n      <g transform=\"translate(7.2 114.756763)scale(0.165 -0.165)\">\n       <use xlink:href=\"#DejaVuSans-50\"/>\n       <use x=\"63.623047\" xlink:href=\"#DejaVuSans-48\"/>\n      </g>\n     </g>\n    </g>\n    <g id=\"ytick_4\">\n     <g id=\"line2d_8\">\n      <g>\n       <use style=\"stroke:#000000;stroke-width:1.875;\" x=\"40.69625\" xlink:href=\"#m288c89a9c9\" y=\"68.157124\"/>\n      </g>\n     </g>\n     <g id=\"text_9\">\n      <!-- 22 -->\n      <g transform=\"translate(7.2 74.425835)scale(0.165 -0.165)\">\n       <use xlink:href=\"#DejaVuSans-50\"/>\n       <use x=\"63.623047\" xlink:href=\"#DejaVuSans-50\"/>\n      </g>\n     </g>\n    </g>\n    <g id=\"ytick_5\">\n     <g id=\"line2d_9\">\n      <g>\n       <use style=\"stroke:#000000;stroke-width:1.875;\" x=\"40.69625\" xlink:href=\"#m288c89a9c9\" y=\"27.826196\"/>\n      </g>\n     </g>\n     <g id=\"text_10\">\n      <!-- 24 -->\n      <defs>\n       <path d=\"M 37.796875 64.3125 \nL 12.890625 25.390625 \nL 37.796875 25.390625 \nz\nM 35.203125 72.90625 \nL 47.609375 72.90625 \nL 47.609375 25.390625 \nL 58.015625 25.390625 \nL 58.015625 17.1875 \nL 47.609375 17.1875 \nL 47.609375 0 \nL 37.796875 0 \nL 37.796875 17.1875 \nL 4.890625 17.1875 \nL 4.890625 26.703125 \nz\n\" id=\"DejaVuSans-52\"/>\n      </defs>\n      <g transform=\"translate(7.2 34.094907)scale(0.165 -0.165)\">\n       <use xlink:href=\"#DejaVuSans-50\"/>\n       <use x=\"63.623047\" xlink:href=\"#DejaVuSans-52\"/>\n      </g>\n     </g>\n    </g>\n   </g>\n   <g id=\"line2d_10\">\n    <path clip-path=\"url(#p5e5e8aacda)\" d=\"M 55.914432 121.9043 \nL 64.610536 124.096616 \nL 73.30664 130.66438 \nL 82.002744 135.695243 \nL 90.698847 136.706957 \nL 99.394951 138.301193 \nL 108.091055 142.78898 \nL 116.787159 148.785535 \nL 125.483263 148.816566 \nL 134.179367 147.494714 \nL 142.875471 151.587818 \nL 151.571575 147.211202 \nL 160.267679 143.057164 \nL 168.963782 148.655881 \nL 177.659886 150.32744 \nL 186.35599 150.765208 \nL 195.052094 150.602446 \nL 203.748198 152.996461 \nL 212.444302 156.789249 \nL 221.140406 158.988518 \nL 229.83651 160.530478 \nL 238.532614 164.197716 \nL 247.228718 168.389783 \nL 255.924821 166.602182 \nL 264.620925 159.540239 \nL 273.317029 148.595696 \nL 282.013133 132.961572 \nL 290.709237 117.709327 \nL 299.405341 100.210736 \nL 308.101445 86.882706 \nL 316.797549 83.181211 \nL 325.493653 75.681375 \nL 334.189756 64.854583 \nL 342.88586 60.754003 \nL 351.581964 54.095112 \nL 360.278068 51.382403 \n\" style=\"fill:none;stroke:#1f77b4;stroke-linecap:square;stroke-width:2.25;\"/>\n   </g>\n   <g id=\"line2d_11\">\n    <path clip-path=\"url(#p5e5e8aacda)\" d=\"M 55.914432 185.573528 \nL 64.610536 186.926593 \nL 73.30664 193.619007 \nL 82.002744 197.321049 \nL 90.698847 202.079001 \nL 99.394951 209.412113 \nL 108.091055 212.805475 \nL 116.787159 212.351183 \nL 125.483263 210.289332 \nL 134.179367 209.715797 \nL 142.875471 214.495493 \nL 151.571575 214.756364 \nL 160.267679 210.270474 \nL 168.963782 206.626987 \nL 177.659886 199.261241 \nL 186.35599 194.957489 \nL 195.052094 195.615125 \nL 203.748198 201.9766 \nL 212.444302 210.222786 \nL 221.140406 211.789085 \nL 229.83651 208.053199 \nL 238.532614 204.304491 \nL 247.228718 201.349082 \nL 255.924821 196.613155 \nL 264.620925 189.97581 \nL 273.317029 174.762006 \nL 282.013133 168.008296 \nL 290.709237 162.724904 \nL 299.405341 136.147111 \nL 308.101445 108.889905 \nL 316.797549 85.057602 \nL 325.493653 39.125826 \nL 334.189756 17.083636 \nL 342.88586 32.561918 \nL 351.581964 30.894326 \nL 360.278068 25.401877 \n\" style=\"fill:none;stroke:#ff7f0e;stroke-linecap:square;stroke-width:2.25;\"/>\n   </g>\n   <g id=\"patch_3\">\n    <path d=\"M 40.69625 224.64 \nL 40.69625 7.2 \n\" style=\"fill:none;stroke:#000000;stroke-linecap:square;stroke-linejoin:miter;stroke-width:1.875;\"/>\n   </g>\n   <g id=\"patch_4\">\n    <path d=\"M 375.49625 224.64 \nL 375.49625 7.2 \n\" style=\"fill:none;stroke:#000000;stroke-linecap:square;stroke-linejoin:miter;stroke-width:1.875;\"/>\n   </g>\n   <g id=\"patch_5\">\n    <path d=\"M 40.69625 224.64 \nL 375.49625 224.64 \n\" style=\"fill:none;stroke:#000000;stroke-linecap:square;stroke-linejoin:miter;stroke-width:1.875;\"/>\n   </g>\n   <g id=\"patch_6\">\n    <path d=\"M 40.69625 7.2 \nL 375.49625 7.2 \n\" style=\"fill:none;stroke:#000000;stroke-linecap:square;stroke-linejoin:miter;stroke-width:1.875;\"/>\n   </g>\n   <g id=\"legend_1\">\n    <g id=\"patch_7\">\n     <path d=\"M 387.04625 68.837812 \nL 486.695938 68.837812 \nQ 489.995938 68.837812 489.995938 65.537812 \nL 489.995938 18.75 \nQ 489.995938 15.45 486.695938 15.45 \nL 387.04625 15.45 \nQ 383.74625 15.45 383.74625 18.75 \nL 383.74625 65.537812 \nQ 383.74625 68.837812 387.04625 68.837812 \nz\n\" style=\"fill:#ffffff;opacity:0.8;stroke:#cccccc;stroke-linejoin:miter;stroke-width:1.5;\"/>\n    </g>\n    <g id=\"line2d_12\">\n     <path d=\"M 390.34625 28.812422 \nL 423.34625 28.812422 \n\" style=\"fill:none;stroke:#1f77b4;stroke-linecap:square;stroke-width:2.25;\"/>\n    </g>\n    <g id=\"line2d_13\"/>\n    <g id=\"text_11\">\n     <!-- Other -->\n     <defs>\n      <path d=\"M 39.40625 66.21875 \nQ 28.65625 66.21875 22.328125 58.203125 \nQ 16.015625 50.203125 16.015625 36.375 \nQ 16.015625 22.609375 22.328125 14.59375 \nQ 28.65625 6.59375 39.40625 6.59375 \nQ 50.140625 6.59375 56.421875 14.59375 \nQ 62.703125 22.609375 62.703125 36.375 \nQ 62.703125 50.203125 56.421875 58.203125 \nQ 50.140625 66.21875 39.40625 66.21875 \nz\nM 39.40625 74.21875 \nQ 54.734375 74.21875 63.90625 63.9375 \nQ 73.09375 53.65625 73.09375 36.375 \nQ 73.09375 19.140625 63.90625 8.859375 \nQ 54.734375 -1.421875 39.40625 -1.421875 \nQ 24.03125 -1.421875 14.8125 8.828125 \nQ 5.609375 19.09375 5.609375 36.375 \nQ 5.609375 53.65625 14.8125 63.9375 \nQ 24.03125 74.21875 39.40625 74.21875 \nz\n\" id=\"DejaVuSans-79\"/>\n      <path d=\"M 18.3125 70.21875 \nL 18.3125 54.6875 \nL 36.8125 54.6875 \nL 36.8125 47.703125 \nL 18.3125 47.703125 \nL 18.3125 18.015625 \nQ 18.3125 11.328125 20.140625 9.421875 \nQ 21.96875 7.515625 27.59375 7.515625 \nL 36.8125 7.515625 \nL 36.8125 0 \nL 27.59375 0 \nQ 17.1875 0 13.234375 3.875 \nQ 9.28125 7.765625 9.28125 18.015625 \nL 9.28125 47.703125 \nL 2.6875 47.703125 \nL 2.6875 54.6875 \nL 9.28125 54.6875 \nL 9.28125 70.21875 \nz\n\" id=\"DejaVuSans-116\"/>\n      <path d=\"M 54.890625 33.015625 \nL 54.890625 0 \nL 45.90625 0 \nL 45.90625 32.71875 \nQ 45.90625 40.484375 42.875 44.328125 \nQ 39.84375 48.1875 33.796875 48.1875 \nQ 26.515625 48.1875 22.3125 43.546875 \nQ 18.109375 38.921875 18.109375 30.90625 \nL 18.109375 0 \nL 9.078125 0 \nL 9.078125 75.984375 \nL 18.109375 75.984375 \nL 18.109375 46.1875 \nQ 21.34375 51.125 25.703125 53.5625 \nQ 30.078125 56 35.796875 56 \nQ 45.21875 56 50.046875 50.171875 \nQ 54.890625 44.34375 54.890625 33.015625 \nz\n\" id=\"DejaVuSans-104\"/>\n     </defs>\n     <g transform=\"translate(436.54625 34.587422)scale(0.165 -0.165)\">\n      <use xlink:href=\"#DejaVuSans-79\"/>\n      <use x=\"78.710938\" xlink:href=\"#DejaVuSans-116\"/>\n      <use x=\"117.919922\" xlink:href=\"#DejaVuSans-104\"/>\n      <use x=\"181.298828\" xlink:href=\"#DejaVuSans-101\"/>\n      <use x=\"242.822266\" xlink:href=\"#DejaVuSans-114\"/>\n     </g>\n    </g>\n    <g id=\"line2d_14\">\n     <path d=\"M 390.34625 53.031328 \nL 423.34625 53.031328 \n\" style=\"fill:none;stroke:#ff7f0e;stroke-linecap:square;stroke-width:2.25;\"/>\n    </g>\n    <g id=\"line2d_15\"/>\n    <g id=\"text_12\">\n     <!-- US -->\n     <defs>\n      <path d=\"M 8.6875 72.90625 \nL 18.609375 72.90625 \nL 18.609375 28.609375 \nQ 18.609375 16.890625 22.84375 11.734375 \nQ 27.09375 6.59375 36.625 6.59375 \nQ 46.09375 6.59375 50.34375 11.734375 \nQ 54.59375 16.890625 54.59375 28.609375 \nL 54.59375 72.90625 \nL 64.5 72.90625 \nL 64.5 27.390625 \nQ 64.5 13.140625 57.4375 5.859375 \nQ 50.390625 -1.421875 36.625 -1.421875 \nQ 22.796875 -1.421875 15.734375 5.859375 \nQ 8.6875 13.140625 8.6875 27.390625 \nz\n\" id=\"DejaVuSans-85\"/>\n      <path d=\"M 53.515625 70.515625 \nL 53.515625 60.890625 \nQ 47.90625 63.578125 42.921875 64.890625 \nQ 37.9375 66.21875 33.296875 66.21875 \nQ 25.25 66.21875 20.875 63.09375 \nQ 16.5 59.96875 16.5 54.203125 \nQ 16.5 49.359375 19.40625 46.890625 \nQ 22.3125 44.4375 30.421875 42.921875 \nL 36.375 41.703125 \nQ 47.40625 39.59375 52.65625 34.296875 \nQ 57.90625 29 57.90625 20.125 \nQ 57.90625 9.515625 50.796875 4.046875 \nQ 43.703125 -1.421875 29.984375 -1.421875 \nQ 24.8125 -1.421875 18.96875 -0.25 \nQ 13.140625 0.921875 6.890625 3.21875 \nL 6.890625 13.375 \nQ 12.890625 10.015625 18.65625 8.296875 \nQ 24.421875 6.59375 29.984375 6.59375 \nQ 38.421875 6.59375 43.015625 9.90625 \nQ 47.609375 13.234375 47.609375 19.390625 \nQ 47.609375 24.75 44.3125 27.78125 \nQ 41.015625 30.8125 33.5 32.328125 \nL 27.484375 33.5 \nQ 16.453125 35.6875 11.515625 40.375 \nQ 6.59375 45.0625 6.59375 53.421875 \nQ 6.59375 63.09375 13.40625 68.65625 \nQ 20.21875 74.21875 32.171875 74.21875 \nQ 37.3125 74.21875 42.625 73.28125 \nQ 47.953125 72.359375 53.515625 70.515625 \nz\n\" id=\"DejaVuSans-83\"/>\n     </defs>\n     <g transform=\"translate(436.54625 58.806328)scale(0.165 -0.165)\">\n      <use xlink:href=\"#DejaVuSans-85\"/>\n      <use x=\"73.193359\" xlink:href=\"#DejaVuSans-83\"/>\n     </g>\n    </g>\n   </g>\n  </g>\n </g>\n <defs>\n  <clipPath id=\"p5e5e8aacda\">\n   <rect height=\"217.44\" width=\"334.8\" x=\"40.69625\" y=\"7.2\"/>\n  </clipPath>\n </defs>\n</svg>\n",
      "image/png": "[encoded data removed]"
     },
     "metadata": {
      "needs_background": "light"
     }
    }
   ],
   "source": [
    "(autos2\n",
    "    .assign(country=autos2.make.apply(country))\n",
    "    .groupby(['year','country'])\n",
    "    .mean()\n",
    "    .unstack()\n",
    "    .city08\n",
    "    .rolling(2) #smooth it out\n",
    "    .mean()\n",
    "    .plot()\n",
    "    .legend(bbox_to_anchor=(1,1))\n",
    ")"
   ]
  },
  {
   "cell_type": "code",
   "execution_count": 138,
   "metadata": {},
   "outputs": [
    {
     "output_type": "execute_result",
     "data": {
      "text/plain": [
       "              city08  comb08  highway08  cylinders   displ   drive  \\\n",
       "year country                                                         \n",
       "1984 Other    1131.0  1131.0     1131.0     1131.0  1131.0  1131.0   \n",
       "1985 Other     906.0   906.0      906.0      906.0   906.0   906.0   \n",
       "1991 Other     705.0   705.0      705.0      705.0   705.0   705.0   \n",
       "1992 Other     709.0   709.0      709.0      709.0   709.0   709.0   \n",
       "1993 Other     707.0   707.0      707.0      707.0   707.0   707.0   \n",
       "2017 Other    1017.0  1017.0     1017.0     1017.0  1017.0  1017.0   \n",
       "2018 Other    1063.0  1063.0     1063.0     1063.0  1063.0  1063.0   \n",
       "2019 Other    1033.0  1033.0     1033.0     1033.0  1033.0  1033.0   \n",
       "\n",
       "              fuelCost08    make   model   range  createdOn  automatic  \\\n",
       "year country                                                             \n",
       "1984 Other        1131.0  1131.0  1131.0  1131.0     1131.0     1131.0   \n",
       "1985 Other         906.0   906.0   906.0   906.0      906.0      906.0   \n",
       "1991 Other         705.0   705.0   705.0   705.0      705.0      705.0   \n",
       "1992 Other         709.0   709.0   709.0   709.0      709.0      709.0   \n",
       "1993 Other         707.0   707.0   707.0   707.0      707.0      707.0   \n",
       "2017 Other        1017.0  1017.0  1017.0  1017.0     1017.0     1017.0   \n",
       "2018 Other        1063.0  1063.0  1063.0  1063.0     1063.0     1063.0   \n",
       "2019 Other        1033.0  1033.0  1033.0  1033.0     1033.0     1033.0   \n",
       "\n",
       "              speeds     ffs  \n",
       "year country                  \n",
       "1984 Other    1131.0  1065.0  \n",
       "1985 Other     906.0   821.0  \n",
       "1991 Other     705.0   705.0  \n",
       "1992 Other     709.0   707.0  \n",
       "1993 Other     707.0   707.0  \n",
       "2017 Other    1017.0   766.0  \n",
       "2018 Other    1063.0   844.0  \n",
       "2019 Other    1033.0   855.0  "
      ],
      "text/html": "<div>\n<style scoped>\n    .dataframe tbody tr th:only-of-type {\n        vertical-align: middle;\n    }\n\n    .dataframe tbody tr th {\n        vertical-align: top;\n    }\n\n    .dataframe thead th {\n        text-align: right;\n    }\n</style>\n<table border=\"1\" class=\"dataframe\">\n  <thead>\n    <tr style=\"text-align: right;\">\n      <th></th>\n      <th></th>\n      <th>city08</th>\n      <th>comb08</th>\n      <th>highway08</th>\n      <th>cylinders</th>\n      <th>displ</th>\n      <th>drive</th>\n      <th>fuelCost08</th>\n      <th>make</th>\n      <th>model</th>\n      <th>range</th>\n      <th>createdOn</th>\n      <th>automatic</th>\n      <th>speeds</th>\n      <th>ffs</th>\n    </tr>\n    <tr>\n      <th>year</th>\n      <th>country</th>\n      <th></th>\n      <th></th>\n      <th></th>\n      <th></th>\n      <th></th>\n      <th></th>\n      <th></th>\n      <th></th>\n      <th></th>\n      <th></th>\n      <th></th>\n      <th></th>\n      <th></th>\n      <th></th>\n    </tr>\n  </thead>\n  <tbody>\n    <tr>\n      <th>1984</th>\n      <th>Other</th>\n      <td>1131.0</td>\n      <td>1131.0</td>\n      <td>1131.0</td>\n      <td>1131.0</td>\n      <td>1131.0</td>\n      <td>1131.0</td>\n      <td>1131.0</td>\n      <td>1131.0</td>\n      <td>1131.0</td>\n      <td>1131.0</td>\n      <td>1131.0</td>\n      <td>1131.0</td>\n      <td>1131.0</td>\n      <td>1065.0</td>\n    </tr>\n    <tr>\n      <th>1985</th>\n      <th>Other</th>\n      <td>906.0</td>\n      <td>906.0</td>\n      <td>906.0</td>\n      <td>906.0</td>\n      <td>906.0</td>\n      <td>906.0</td>\n      <td>906.0</td>\n      <td>906.0</td>\n      <td>906.0</td>\n      <td>906.0</td>\n      <td>906.0</td>\n      <td>906.0</td>\n      <td>906.0</td>\n      <td>821.0</td>\n    </tr>\n    <tr>\n      <th>1991</th>\n      <th>Other</th>\n      <td>705.0</td>\n      <td>705.0</td>\n      <td>705.0</td>\n      <td>705.0</td>\n      <td>705.0</td>\n      <td>705.0</td>\n      <td>705.0</td>\n      <td>705.0</td>\n      <td>705.0</td>\n      <td>705.0</td>\n      <td>705.0</td>\n      <td>705.0</td>\n      <td>705.0</td>\n      <td>705.0</td>\n    </tr>\n    <tr>\n      <th>1992</th>\n      <th>Other</th>\n      <td>709.0</td>\n      <td>709.0</td>\n      <td>709.0</td>\n      <td>709.0</td>\n      <td>709.0</td>\n      <td>709.0</td>\n      <td>709.0</td>\n      <td>709.0</td>\n      <td>709.0</td>\n      <td>709.0</td>\n      <td>709.0</td>\n      <td>709.0</td>\n      <td>709.0</td>\n      <td>707.0</td>\n    </tr>\n    <tr>\n      <th>1993</th>\n      <th>Other</th>\n      <td>707.0</td>\n      <td>707.0</td>\n      <td>707.0</td>\n      <td>707.0</td>\n      <td>707.0</td>\n      <td>707.0</td>\n      <td>707.0</td>\n      <td>707.0</td>\n      <td>707.0</td>\n      <td>707.0</td>\n      <td>707.0</td>\n      <td>707.0</td>\n      <td>707.0</td>\n      <td>707.0</td>\n    </tr>\n    <tr>\n      <th>2017</th>\n      <th>Other</th>\n      <td>1017.0</td>\n      <td>1017.0</td>\n      <td>1017.0</td>\n      <td>1017.0</td>\n      <td>1017.0</td>\n      <td>1017.0</td>\n      <td>1017.0</td>\n      <td>1017.0</td>\n      <td>1017.0</td>\n      <td>1017.0</td>\n      <td>1017.0</td>\n      <td>1017.0</td>\n      <td>1017.0</td>\n      <td>766.0</td>\n    </tr>\n    <tr>\n      <th>2018</th>\n      <th>Other</th>\n      <td>1063.0</td>\n      <td>1063.0</td>\n      <td>1063.0</td>\n      <td>1063.0</td>\n      <td>1063.0</td>\n      <td>1063.0</td>\n      <td>1063.0</td>\n      <td>1063.0</td>\n      <td>1063.0</td>\n      <td>1063.0</td>\n      <td>1063.0</td>\n      <td>1063.0</td>\n      <td>1063.0</td>\n      <td>844.0</td>\n    </tr>\n    <tr>\n      <th>2019</th>\n      <th>Other</th>\n      <td>1033.0</td>\n      <td>1033.0</td>\n      <td>1033.0</td>\n      <td>1033.0</td>\n      <td>1033.0</td>\n      <td>1033.0</td>\n      <td>1033.0</td>\n      <td>1033.0</td>\n      <td>1033.0</td>\n      <td>1033.0</td>\n      <td>1033.0</td>\n      <td>1033.0</td>\n      <td>1033.0</td>\n      <td>855.0</td>\n    </tr>\n  </tbody>\n</table>\n</div>"
     },
     "metadata": {},
     "execution_count": 138
    }
   ],
   "source": [
    "def vals_gt(df_,num):\n",
    "    return df_[df_.gt(num)].dropna()\n",
    "\n",
    "(autos2\n",
    "    .assign(country=autos2.make.apply(country))\n",
    "    .groupby(['year','country'])\n",
    "    .count()\n",
    "    .pipe(vals_gt,700)\n",
    ")"
   ]
  },
  {
   "cell_type": "markdown",
   "metadata": {},
   "source": [
    "## SUMMARY\n",
    "- correct types save space and enable convenient math, string, and date functionality\n",
    "- Chaining operations will:\n",
    "    - make code readable\n",
    "    - remove bugs\n",
    "    - easier to debug\n",
    "- dont mutate. Embrace Chaining\n",
    "- `.apply` is slow for math\n",
    "- Aggregations are powerful. Play with them until they make sense"
   ]
  },
  {
   "cell_type": "code",
   "execution_count": null,
   "metadata": {},
   "outputs": [],
   "source": []
  }
 ]
}